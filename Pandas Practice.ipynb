{
 "cells": [
  {
   "cell_type": "code",
   "execution_count": 5,
   "id": "cf6cceb6-4c45-4791-b789-afbc1209f322",
   "metadata": {},
   "outputs": [],
   "source": [
    "import pandas as pd"
   ]
  },
  {
   "cell_type": "code",
   "execution_count": 11,
   "id": "fd8f8118-5c40-4a41-866e-b59d4b5ddba5",
   "metadata": {},
   "outputs": [
    {
     "data": {
      "text/plain": [
       "0    1\n",
       "1    2\n",
       "2    3\n",
       "3    4\n",
       "dtype: int64"
      ]
     },
     "execution_count": 11,
     "metadata": {},
     "output_type": "execute_result"
    }
   ],
   "source": [
    "# Series\n",
    "a=pd.Series([1, 2, 3, 4])\n",
    "a"
   ]
  },
  {
   "cell_type": "code",
   "execution_count": 3,
   "id": "5446705d-0236-4559-9f6d-5739110c4370",
   "metadata": {},
   "outputs": [
    {
     "data": {
      "text/plain": [
       "pandas.core.series.Series"
      ]
     },
     "execution_count": 3,
     "metadata": {},
     "output_type": "execute_result"
    }
   ],
   "source": [
    "type(a)"
   ]
  },
  {
   "cell_type": "code",
   "execution_count": 4,
   "id": "289e6392-56a4-42b3-81c0-619035241659",
   "metadata": {},
   "outputs": [
    {
     "data": {
      "text/plain": [
       "1"
      ]
     },
     "execution_count": 4,
     "metadata": {},
     "output_type": "execute_result"
    }
   ],
   "source": [
    "a[0]"
   ]
  },
  {
   "cell_type": "code",
   "execution_count": 5,
   "id": "55ae565c-1844-450b-8349-56e6855ce397",
   "metadata": {},
   "outputs": [
    {
     "data": {
      "text/plain": [
       "0    1\n",
       "1    2\n",
       "2    3\n",
       "3    5\n",
       "dtype: int64"
      ]
     },
     "execution_count": 5,
     "metadata": {},
     "output_type": "execute_result"
    }
   ],
   "source": [
    "b=pd.Series((1, 2, 3, 5))\n",
    "b"
   ]
  },
  {
   "cell_type": "code",
   "execution_count": 6,
   "id": "32742202-342d-4a30-bb38-7e4b0e9c561a",
   "metadata": {},
   "outputs": [
    {
     "data": {
      "text/plain": [
       "0    1\n",
       "1    2\n",
       "2    3\n",
       "dtype: int64"
      ]
     },
     "execution_count": 6,
     "metadata": {},
     "output_type": "execute_result"
    }
   ],
   "source": [
    "c=pd.Series({\"Roll No\":[1, 2, 3, 4], 'Age':[24, 25, 26]})\n",
    "c\n",
    "d=pd.Series({0:1, 1:2, 2:3})\n",
    "d\n"
   ]
  },
  {
   "cell_type": "code",
   "execution_count": 7,
   "id": "c03410d7-25dd-4ff3-bd1c-189c0e1cef86",
   "metadata": {},
   "outputs": [
    {
     "data": {
      "text/plain": [
       "0      1\n",
       "1      2\n",
       "2      3\n",
       "3      4\n",
       "4      5\n",
       "5      6\n",
       "6      7\n",
       "7      8\n",
       "8      9\n",
       "9     10\n",
       "10    11\n",
       "11    12\n",
       "12    13\n",
       "dtype: int64"
      ]
     },
     "execution_count": 7,
     "metadata": {},
     "output_type": "execute_result"
    }
   ],
   "source": [
    "e=pd.Series([1, 2, 3, 4, 5, 6, 7, 8, 9, 10, 11, 12, 13], index=[0, 1, 2, 3, 4, 5, 6, 7, 8, 9, 10, 11, 12])\n",
    "e"
   ]
  },
  {
   "cell_type": "code",
   "execution_count": 10,
   "id": "5fce4e39-37b4-4a8f-9947-6f9e80e5c78b",
   "metadata": {},
   "outputs": [
    {
     "data": {
      "text/plain": [
       "0    1\n",
       "1    2\n",
       "2    3\n",
       "3    4\n",
       "4    5\n",
       "dtype: int64"
      ]
     },
     "execution_count": 10,
     "metadata": {},
     "output_type": "execute_result"
    }
   ],
   "source": [
    "e.head()"
   ]
  },
  {
   "cell_type": "code",
   "execution_count": 8,
   "id": "fe55fac8-5ba0-4596-abe1-565bc374bbf1",
   "metadata": {},
   "outputs": [
    {
     "data": {
      "text/plain": [
       "8      9\n",
       "9     10\n",
       "10    11\n",
       "11    12\n",
       "12    13\n",
       "dtype: int64"
      ]
     },
     "execution_count": 8,
     "metadata": {},
     "output_type": "execute_result"
    }
   ],
   "source": [
    "e.tail()"
   ]
  },
  {
   "cell_type": "code",
   "execution_count": 9,
   "id": "4577a8ba-ffea-4f67-9b03-26fe1fc70a2b",
   "metadata": {},
   "outputs": [
    {
     "data": {
      "text/plain": [
       "0    1\n",
       "1    2\n",
       "2    3\n",
       "dtype: int64"
      ]
     },
     "execution_count": 9,
     "metadata": {},
     "output_type": "execute_result"
    }
   ],
   "source": [
    "e.head(3)"
   ]
  },
  {
   "cell_type": "code",
   "execution_count": 31,
   "id": "dce30daf-fbd0-4724-912e-1e306dd718c8",
   "metadata": {},
   "outputs": [
    {
     "data": {
      "text/plain": [
       "7      8\n",
       "8      9\n",
       "9     10\n",
       "10    11\n",
       "11    12\n",
       "12    13\n",
       "dtype: int64"
      ]
     },
     "execution_count": 31,
     "metadata": {},
     "output_type": "execute_result"
    }
   ],
   "source": [
    "e.tail(6)"
   ]
  },
  {
   "cell_type": "code",
   "execution_count": 15,
   "id": "9ef14c65-9966-4768-9230-e72318a6cd99",
   "metadata": {},
   "outputs": [
    {
     "data": {
      "text/plain": [
       "a    1\n",
       "b    2\n",
       "c    3\n",
       "d    4\n",
       "dtype: int32"
      ]
     },
     "execution_count": 15,
     "metadata": {},
     "output_type": "execute_result"
    }
   ],
   "source": [
    "import numpy as np\n",
    "a=np.array([1, 2, 3, 4])\n",
    "f=pd.Series(a, index=['a', 'b', 'c', 'd'])\n",
    "f"
   ]
  },
  {
   "cell_type": "code",
   "execution_count": 16,
   "id": "31170361-5f43-446d-afea-179e823e298e",
   "metadata": {},
   "outputs": [
    {
     "data": {
      "text/plain": [
       "3     2\n",
       "5     2\n",
       "11    2\n",
       "1     1\n",
       "7     1\n",
       "9     1\n",
       "6     1\n",
       "Name: count, dtype: int64"
      ]
     },
     "execution_count": 16,
     "metadata": {},
     "output_type": "execute_result"
    }
   ],
   "source": [
    "g=pd.Series([1, 3, 5, 7, 9, 11, 3, 6, 5, 11])\n",
    "g.value_counts()"
   ]
  },
  {
   "cell_type": "code",
   "execution_count": 43,
   "id": "5dde3f82-6500-4429-ad94-463bcf8921b0",
   "metadata": {},
   "outputs": [
    {
     "data": {
      "text/plain": [
       "array([ 1,  3,  5,  7,  9, 11,  3,  6,  5, 11], dtype=int64)"
      ]
     },
     "execution_count": 43,
     "metadata": {},
     "output_type": "execute_result"
    }
   ],
   "source": [
    "g.values"
   ]
  },
  {
   "cell_type": "code",
   "execution_count": 44,
   "id": "1d8f2568-e18f-43cb-8c41-7e6d9eceb418",
   "metadata": {},
   "outputs": [
    {
     "data": {
      "text/plain": [
       "RangeIndex(start=0, stop=10, step=1)"
      ]
     },
     "execution_count": 44,
     "metadata": {},
     "output_type": "execute_result"
    }
   ],
   "source": [
    "g.index"
   ]
  },
  {
   "cell_type": "code",
   "execution_count": 45,
   "id": "d5c5e007-41da-4b73-8f6e-08b8c79f2b5a",
   "metadata": {},
   "outputs": [
    {
     "data": {
      "text/plain": [
       "3     7\n",
       "4     9\n",
       "5    11\n",
       "7     6\n",
       "9    11\n",
       "dtype: int64"
      ]
     },
     "execution_count": 45,
     "metadata": {},
     "output_type": "execute_result"
    }
   ],
   "source": [
    "# filter\n",
    "g[g>5]"
   ]
  },
  {
   "cell_type": "code",
   "execution_count": 12,
   "id": "22596df4-973c-47bb-be02-50c287fd3543",
   "metadata": {},
   "outputs": [
    {
     "data": {
      "text/plain": [
       "0     2.0\n",
       "1     6.0\n",
       "2    10.0\n",
       "3    14.0\n",
       "4    18.0\n",
       "5     NaN\n",
       "6     NaN\n",
       "7     NaN\n",
       "8     NaN\n",
       "9     NaN\n",
       "dtype: float64"
      ]
     },
     "execution_count": 12,
     "metadata": {},
     "output_type": "execute_result"
    }
   ],
   "source": [
    "h=pd.Series([1, 3, 5, 7, 9, 11, 3, 6, 5, 11])\n",
    "i=pd.Series([1, 3, 5, 7, 9])\n",
    "# Addition\n",
    "h+i"
   ]
  },
  {
   "cell_type": "code",
   "execution_count": 13,
   "id": "9f1c8939-a4be-4a92-bb51-d0d8bfad42a3",
   "metadata": {},
   "outputs": [
    {
     "data": {
      "text/plain": [
       "0    0.0\n",
       "1    0.0\n",
       "2    0.0\n",
       "3    0.0\n",
       "4    0.0\n",
       "5    NaN\n",
       "6    NaN\n",
       "7    NaN\n",
       "8    NaN\n",
       "9    NaN\n",
       "dtype: float64"
      ]
     },
     "execution_count": 13,
     "metadata": {},
     "output_type": "execute_result"
    }
   ],
   "source": [
    "# Subtraction\n",
    "h-i"
   ]
  },
  {
   "cell_type": "code",
   "execution_count": 14,
   "id": "9ce37f8c-4268-4958-8725-c66ad4e40e88",
   "metadata": {},
   "outputs": [
    {
     "data": {
      "text/plain": [
       "0     1.0\n",
       "1     9.0\n",
       "2    25.0\n",
       "3    49.0\n",
       "4    81.0\n",
       "5     NaN\n",
       "6     NaN\n",
       "7     NaN\n",
       "8     NaN\n",
       "9     NaN\n",
       "dtype: float64"
      ]
     },
     "execution_count": 14,
     "metadata": {},
     "output_type": "execute_result"
    }
   ],
   "source": [
    "# Multiplication\n",
    "h*i"
   ]
  },
  {
   "cell_type": "code",
   "execution_count": 15,
   "id": "f68dfa1d-f695-468f-be73-c4be2e74ac5f",
   "metadata": {},
   "outputs": [
    {
     "data": {
      "text/plain": [
       "0    1.0\n",
       "1    1.0\n",
       "2    1.0\n",
       "3    1.0\n",
       "4    1.0\n",
       "5    NaN\n",
       "6    NaN\n",
       "7    NaN\n",
       "8    NaN\n",
       "9    NaN\n",
       "dtype: float64"
      ]
     },
     "execution_count": 15,
     "metadata": {},
     "output_type": "execute_result"
    }
   ],
   "source": [
    "# Division\n",
    "h/i"
   ]
  },
  {
   "cell_type": "code",
   "execution_count": 51,
   "id": "fb854f64-3d5d-4606-b1ee-c30ed450fa0e",
   "metadata": {},
   "outputs": [],
   "source": [
    "# Data Frame"
   ]
  },
  {
   "cell_type": "code",
   "execution_count": 16,
   "id": "18441924-69d5-4867-acc8-0b0d525aba6e",
   "metadata": {},
   "outputs": [
    {
     "data": {
      "text/html": [
       "<div>\n",
       "<style scoped>\n",
       "    .dataframe tbody tr th:only-of-type {\n",
       "        vertical-align: middle;\n",
       "    }\n",
       "\n",
       "    .dataframe tbody tr th {\n",
       "        vertical-align: top;\n",
       "    }\n",
       "\n",
       "    .dataframe thead th {\n",
       "        text-align: right;\n",
       "    }\n",
       "</style>\n",
       "<table border=\"1\" class=\"dataframe\">\n",
       "  <thead>\n",
       "    <tr style=\"text-align: right;\">\n",
       "      <th></th>\n",
       "      <th>Roll No</th>\n",
       "      <th>Age</th>\n",
       "      <th>Address</th>\n",
       "    </tr>\n",
       "  </thead>\n",
       "  <tbody>\n",
       "    <tr>\n",
       "      <th>0</th>\n",
       "      <td>1</td>\n",
       "      <td>25</td>\n",
       "      <td>A-14</td>\n",
       "    </tr>\n",
       "    <tr>\n",
       "      <th>1</th>\n",
       "      <td>2</td>\n",
       "      <td>26</td>\n",
       "      <td>B/16</td>\n",
       "    </tr>\n",
       "    <tr>\n",
       "      <th>2</th>\n",
       "      <td>3</td>\n",
       "      <td>27</td>\n",
       "      <td>C-24</td>\n",
       "    </tr>\n",
       "    <tr>\n",
       "      <th>3</th>\n",
       "      <td>4</td>\n",
       "      <td>28</td>\n",
       "      <td>Y12</td>\n",
       "    </tr>\n",
       "  </tbody>\n",
       "</table>\n",
       "</div>"
      ],
      "text/plain": [
       "   Roll No  Age Address\n",
       "0        1   25    A-14\n",
       "1        2   26    B/16\n",
       "2        3   27    C-24\n",
       "3        4   28     Y12"
      ]
     },
     "execution_count": 16,
     "metadata": {},
     "output_type": "execute_result"
    }
   ],
   "source": [
    "df=pd.DataFrame({\"Roll No\" : [1, 2, 3, 4], \"Age\" : (25, 26, 27, 28), \"Address\" : ['A-14', 'B/16', 'C-24', 'Y12']})\n",
    "df"
   ]
  },
  {
   "cell_type": "code",
   "execution_count": 17,
   "id": "4c1b28cc-2cf0-4842-8b3e-5be615f20d36",
   "metadata": {},
   "outputs": [
    {
     "data": {
      "text/plain": [
       "[[1, 2, 3], [4, 5, 6], [7, 8, 9]]"
      ]
     },
     "execution_count": 17,
     "metadata": {},
     "output_type": "execute_result"
    }
   ],
   "source": [
    "a=[[1, 2, 3], [4, 5, 6], [7, 8, 9]]\n",
    "a"
   ]
  },
  {
   "cell_type": "code",
   "execution_count": 7,
   "id": "cca778dd-096f-47d6-93ac-7aa67724479e",
   "metadata": {},
   "outputs": [
    {
     "ename": "NameError",
     "evalue": "name 'a' is not defined",
     "output_type": "error",
     "traceback": [
      "\u001b[1;31m---------------------------------------------------------------------------\u001b[0m",
      "\u001b[1;31mNameError\u001b[0m                                 Traceback (most recent call last)",
      "Cell \u001b[1;32mIn[7], line 1\u001b[0m\n\u001b[1;32m----> 1\u001b[0m df1\u001b[38;5;241m=\u001b[39mpd\u001b[38;5;241m.\u001b[39mDataFrame(a, columns\u001b[38;5;241m=\u001b[39m[\u001b[38;5;124m\"\u001b[39m\u001b[38;5;124mAnkit\u001b[39m\u001b[38;5;124m\"\u001b[39m, \u001b[38;5;124m\"\u001b[39m\u001b[38;5;124mRohit\u001b[39m\u001b[38;5;124m\"\u001b[39m, \u001b[38;5;124m\"\u001b[39m\u001b[38;5;124mAnika\u001b[39m\u001b[38;5;124m\"\u001b[39m], index\u001b[38;5;241m=\u001b[39m[\u001b[38;5;124m'\u001b[39m\u001b[38;5;124ma\u001b[39m\u001b[38;5;124m'\u001b[39m, \u001b[38;5;124m'\u001b[39m\u001b[38;5;124mb\u001b[39m\u001b[38;5;124m'\u001b[39m, \u001b[38;5;124m'\u001b[39m\u001b[38;5;124mc\u001b[39m\u001b[38;5;124m'\u001b[39m])\n\u001b[0;32m      2\u001b[0m df1\n",
      "\u001b[1;31mNameError\u001b[0m: name 'a' is not defined"
     ]
    }
   ],
   "source": [
    "df1=pd.DataFrame(a, columns=[\"Ankit\", \"Rohit\", \"Anika\"], index=['a', 'b', 'c'])\n",
    "df1"
   ]
  },
  {
   "cell_type": "code",
   "execution_count": 19,
   "id": "f35f9554-73a1-49cd-89bd-2d64d411b73c",
   "metadata": {},
   "outputs": [
    {
     "data": {
      "text/html": [
       "<div>\n",
       "<style scoped>\n",
       "    .dataframe tbody tr th:only-of-type {\n",
       "        vertical-align: middle;\n",
       "    }\n",
       "\n",
       "    .dataframe tbody tr th {\n",
       "        vertical-align: top;\n",
       "    }\n",
       "\n",
       "    .dataframe thead th {\n",
       "        text-align: right;\n",
       "    }\n",
       "</style>\n",
       "<table border=\"1\" class=\"dataframe\">\n",
       "  <thead>\n",
       "    <tr style=\"text-align: right;\">\n",
       "      <th></th>\n",
       "      <th>Name</th>\n",
       "      <th>Age</th>\n",
       "      <th>Id</th>\n",
       "    </tr>\n",
       "  </thead>\n",
       "  <tbody>\n",
       "    <tr>\n",
       "      <th>0</th>\n",
       "      <td>A</td>\n",
       "      <td>24</td>\n",
       "      <td>111</td>\n",
       "    </tr>\n",
       "    <tr>\n",
       "      <th>1</th>\n",
       "      <td>B</td>\n",
       "      <td>25</td>\n",
       "      <td>112</td>\n",
       "    </tr>\n",
       "    <tr>\n",
       "      <th>2</th>\n",
       "      <td>C</td>\n",
       "      <td>26</td>\n",
       "      <td>113</td>\n",
       "    </tr>\n",
       "  </tbody>\n",
       "</table>\n",
       "</div>"
      ],
      "text/plain": [
       "  Name  Age   Id\n",
       "0    A   24  111\n",
       "1    B   25  112\n",
       "2    C   26  113"
      ]
     },
     "execution_count": 19,
     "metadata": {},
     "output_type": "execute_result"
    }
   ],
   "source": [
    "df2=pd.DataFrame({\"Name\":['A', 'B', 'C'], 'Age':[24, 25, 26], \"Id\":[111, 112, 113]})\n",
    "df2"
   ]
  },
  {
   "cell_type": "code",
   "execution_count": 20,
   "id": "88ab43dd-d135-4abb-8130-2c7eb17cfb33",
   "metadata": {},
   "outputs": [
    {
     "data": {
      "text/html": [
       "<div>\n",
       "<style scoped>\n",
       "    .dataframe tbody tr th:only-of-type {\n",
       "        vertical-align: middle;\n",
       "    }\n",
       "\n",
       "    .dataframe tbody tr th {\n",
       "        vertical-align: top;\n",
       "    }\n",
       "\n",
       "    .dataframe thead th {\n",
       "        text-align: right;\n",
       "    }\n",
       "</style>\n",
       "<table border=\"1\" class=\"dataframe\">\n",
       "  <thead>\n",
       "    <tr style=\"text-align: right;\">\n",
       "      <th></th>\n",
       "      <th>Name</th>\n",
       "      <th>Age</th>\n",
       "      <th>Id</th>\n",
       "    </tr>\n",
       "  </thead>\n",
       "  <tbody>\n",
       "    <tr>\n",
       "      <th>1</th>\n",
       "      <td>B</td>\n",
       "      <td>25</td>\n",
       "      <td>112</td>\n",
       "    </tr>\n",
       "    <tr>\n",
       "      <th>2</th>\n",
       "      <td>C</td>\n",
       "      <td>26</td>\n",
       "      <td>113</td>\n",
       "    </tr>\n",
       "  </tbody>\n",
       "</table>\n",
       "</div>"
      ],
      "text/plain": [
       "  Name  Age   Id\n",
       "1    B   25  112\n",
       "2    C   26  113"
      ]
     },
     "execution_count": 20,
     "metadata": {},
     "output_type": "execute_result"
    }
   ],
   "source": [
    "df2.iloc[[1,2],[0,1,2]]"
   ]
  },
  {
   "cell_type": "code",
   "execution_count": 21,
   "id": "2894c738-60ca-44fb-879f-36b3959b0ff0",
   "metadata": {},
   "outputs": [
    {
     "data": {
      "text/html": [
       "<div>\n",
       "<style scoped>\n",
       "    .dataframe tbody tr th:only-of-type {\n",
       "        vertical-align: middle;\n",
       "    }\n",
       "\n",
       "    .dataframe tbody tr th {\n",
       "        vertical-align: top;\n",
       "    }\n",
       "\n",
       "    .dataframe thead th {\n",
       "        text-align: right;\n",
       "    }\n",
       "</style>\n",
       "<table border=\"1\" class=\"dataframe\">\n",
       "  <thead>\n",
       "    <tr style=\"text-align: right;\">\n",
       "      <th></th>\n",
       "      <th>Name</th>\n",
       "      <th>Age</th>\n",
       "      <th>Id</th>\n",
       "    </tr>\n",
       "  </thead>\n",
       "  <tbody>\n",
       "    <tr>\n",
       "      <th>1</th>\n",
       "      <td>B</td>\n",
       "      <td>25</td>\n",
       "      <td>112</td>\n",
       "    </tr>\n",
       "  </tbody>\n",
       "</table>\n",
       "</div>"
      ],
      "text/plain": [
       "  Name  Age   Id\n",
       "1    B   25  112"
      ]
     },
     "execution_count": 21,
     "metadata": {},
     "output_type": "execute_result"
    }
   ],
   "source": [
    "df2[df2[\"Name\"]=='B']"
   ]
  },
  {
   "cell_type": "code",
   "execution_count": 22,
   "id": "563357ed-90a7-44da-a9bd-a150d26b5a60",
   "metadata": {},
   "outputs": [
    {
     "data": {
      "text/html": [
       "<div>\n",
       "<style scoped>\n",
       "    .dataframe tbody tr th:only-of-type {\n",
       "        vertical-align: middle;\n",
       "    }\n",
       "\n",
       "    .dataframe tbody tr th {\n",
       "        vertical-align: top;\n",
       "    }\n",
       "\n",
       "    .dataframe thead th {\n",
       "        text-align: right;\n",
       "    }\n",
       "</style>\n",
       "<table border=\"1\" class=\"dataframe\">\n",
       "  <thead>\n",
       "    <tr style=\"text-align: right;\">\n",
       "      <th></th>\n",
       "      <th>Age</th>\n",
       "      <th>Id</th>\n",
       "    </tr>\n",
       "  </thead>\n",
       "  <tbody>\n",
       "    <tr>\n",
       "      <th>1</th>\n",
       "      <td>25</td>\n",
       "      <td>112</td>\n",
       "    </tr>\n",
       "  </tbody>\n",
       "</table>\n",
       "</div>"
      ],
      "text/plain": [
       "   Age   Id\n",
       "1   25  112"
      ]
     },
     "execution_count": 22,
     "metadata": {},
     "output_type": "execute_result"
    }
   ],
   "source": [
    "df2[df2[\"Name\"]=='B'][[\"Age\", \"Id\"]]"
   ]
  },
  {
   "cell_type": "code",
   "execution_count": 23,
   "id": "4c336acb-fa19-4849-8535-4f1ad939e801",
   "metadata": {},
   "outputs": [
    {
     "data": {
      "text/html": [
       "<div>\n",
       "<style scoped>\n",
       "    .dataframe tbody tr th:only-of-type {\n",
       "        vertical-align: middle;\n",
       "    }\n",
       "\n",
       "    .dataframe tbody tr th {\n",
       "        vertical-align: top;\n",
       "    }\n",
       "\n",
       "    .dataframe thead th {\n",
       "        text-align: right;\n",
       "    }\n",
       "</style>\n",
       "<table border=\"1\" class=\"dataframe\">\n",
       "  <thead>\n",
       "    <tr style=\"text-align: right;\">\n",
       "      <th></th>\n",
       "      <th>Name</th>\n",
       "      <th>Age</th>\n",
       "      <th>Id</th>\n",
       "      <th>Salary</th>\n",
       "    </tr>\n",
       "  </thead>\n",
       "  <tbody>\n",
       "    <tr>\n",
       "      <th>0</th>\n",
       "      <td>A</td>\n",
       "      <td>24</td>\n",
       "      <td>111</td>\n",
       "      <td>1200</td>\n",
       "    </tr>\n",
       "    <tr>\n",
       "      <th>1</th>\n",
       "      <td>B</td>\n",
       "      <td>25</td>\n",
       "      <td>112</td>\n",
       "      <td>1400</td>\n",
       "    </tr>\n",
       "    <tr>\n",
       "      <th>2</th>\n",
       "      <td>C</td>\n",
       "      <td>26</td>\n",
       "      <td>113</td>\n",
       "      <td>1600</td>\n",
       "    </tr>\n",
       "  </tbody>\n",
       "</table>\n",
       "</div>"
      ],
      "text/plain": [
       "  Name  Age   Id  Salary\n",
       "0    A   24  111    1200\n",
       "1    B   25  112    1400\n",
       "2    C   26  113    1600"
      ]
     },
     "execution_count": 23,
     "metadata": {},
     "output_type": "execute_result"
    }
   ],
   "source": [
    "df2[\"Salary\"]=[1200, 1400, 1600]\n",
    "df2"
   ]
  },
  {
   "cell_type": "code",
   "execution_count": 24,
   "id": "6a1652c2-ddff-4311-a174-fd56abc43b8a",
   "metadata": {},
   "outputs": [
    {
     "data": {
      "text/html": [
       "<div>\n",
       "<style scoped>\n",
       "    .dataframe tbody tr th:only-of-type {\n",
       "        vertical-align: middle;\n",
       "    }\n",
       "\n",
       "    .dataframe tbody tr th {\n",
       "        vertical-align: top;\n",
       "    }\n",
       "\n",
       "    .dataframe thead th {\n",
       "        text-align: right;\n",
       "    }\n",
       "</style>\n",
       "<table border=\"1\" class=\"dataframe\">\n",
       "  <thead>\n",
       "    <tr style=\"text-align: right;\">\n",
       "      <th></th>\n",
       "      <th>Name</th>\n",
       "      <th>Age</th>\n",
       "      <th>Id</th>\n",
       "    </tr>\n",
       "  </thead>\n",
       "  <tbody>\n",
       "    <tr>\n",
       "      <th>0</th>\n",
       "      <td>A</td>\n",
       "      <td>24</td>\n",
       "      <td>111</td>\n",
       "    </tr>\n",
       "    <tr>\n",
       "      <th>1</th>\n",
       "      <td>B</td>\n",
       "      <td>25</td>\n",
       "      <td>112</td>\n",
       "    </tr>\n",
       "    <tr>\n",
       "      <th>2</th>\n",
       "      <td>C</td>\n",
       "      <td>26</td>\n",
       "      <td>113</td>\n",
       "    </tr>\n",
       "  </tbody>\n",
       "</table>\n",
       "</div>"
      ],
      "text/plain": [
       "  Name  Age   Id\n",
       "0    A   24  111\n",
       "1    B   25  112\n",
       "2    C   26  113"
      ]
     },
     "execution_count": 24,
     "metadata": {},
     "output_type": "execute_result"
    }
   ],
   "source": [
    "df2=pd.DataFrame({\"Name\":['A', 'B', 'C'], 'Age':[24, 25, 26], \"Id\":[111, 112, 113]})\n",
    "df2"
   ]
  },
  {
   "cell_type": "code",
   "execution_count": 25,
   "id": "08ee7865-1316-4c2b-8973-e62e3ad402fa",
   "metadata": {},
   "outputs": [
    {
     "data": {
      "text/html": [
       "<div>\n",
       "<style scoped>\n",
       "    .dataframe tbody tr th:only-of-type {\n",
       "        vertical-align: middle;\n",
       "    }\n",
       "\n",
       "    .dataframe tbody tr th {\n",
       "        vertical-align: top;\n",
       "    }\n",
       "\n",
       "    .dataframe thead th {\n",
       "        text-align: right;\n",
       "    }\n",
       "</style>\n",
       "<table border=\"1\" class=\"dataframe\">\n",
       "  <thead>\n",
       "    <tr style=\"text-align: right;\">\n",
       "      <th></th>\n",
       "      <th>Name</th>\n",
       "      <th>Age</th>\n",
       "      <th>Id</th>\n",
       "    </tr>\n",
       "  </thead>\n",
       "  <tbody>\n",
       "    <tr>\n",
       "      <th>0</th>\n",
       "      <td>D</td>\n",
       "      <td>27</td>\n",
       "      <td>114</td>\n",
       "    </tr>\n",
       "  </tbody>\n",
       "</table>\n",
       "</div>"
      ],
      "text/plain": [
       "  Name  Age   Id\n",
       "0    D   27  114"
      ]
     },
     "execution_count": 25,
     "metadata": {},
     "output_type": "execute_result"
    }
   ],
   "source": [
    "df3=pd.DataFrame({'Name':['D'], 'Age':[27], 'Id':[114],})\n",
    "df3"
   ]
  },
  {
   "cell_type": "code",
   "execution_count": 26,
   "id": "8ff6766d-9d8b-4023-987c-39aa90bcc0a6",
   "metadata": {},
   "outputs": [
    {
     "data": {
      "text/html": [
       "<div>\n",
       "<style scoped>\n",
       "    .dataframe tbody tr th:only-of-type {\n",
       "        vertical-align: middle;\n",
       "    }\n",
       "\n",
       "    .dataframe tbody tr th {\n",
       "        vertical-align: top;\n",
       "    }\n",
       "\n",
       "    .dataframe thead th {\n",
       "        text-align: right;\n",
       "    }\n",
       "</style>\n",
       "<table border=\"1\" class=\"dataframe\">\n",
       "  <thead>\n",
       "    <tr style=\"text-align: right;\">\n",
       "      <th></th>\n",
       "      <th>Name</th>\n",
       "      <th>Age</th>\n",
       "      <th>Id</th>\n",
       "    </tr>\n",
       "  </thead>\n",
       "  <tbody>\n",
       "    <tr>\n",
       "      <th>0</th>\n",
       "      <td>A</td>\n",
       "      <td>24</td>\n",
       "      <td>111</td>\n",
       "    </tr>\n",
       "    <tr>\n",
       "      <th>1</th>\n",
       "      <td>B</td>\n",
       "      <td>25</td>\n",
       "      <td>112</td>\n",
       "    </tr>\n",
       "    <tr>\n",
       "      <th>2</th>\n",
       "      <td>C</td>\n",
       "      <td>26</td>\n",
       "      <td>113</td>\n",
       "    </tr>\n",
       "    <tr>\n",
       "      <th>3</th>\n",
       "      <td>D</td>\n",
       "      <td>27</td>\n",
       "      <td>114</td>\n",
       "    </tr>\n",
       "  </tbody>\n",
       "</table>\n",
       "</div>"
      ],
      "text/plain": [
       "  Name  Age   Id\n",
       "0    A   24  111\n",
       "1    B   25  112\n",
       "2    C   26  113\n",
       "3    D   27  114"
      ]
     },
     "execution_count": 26,
     "metadata": {},
     "output_type": "execute_result"
    }
   ],
   "source": [
    "pd.concat([df2, df3], ignore_index=True)"
   ]
  },
  {
   "cell_type": "code",
   "execution_count": 28,
   "id": "721c49f3-9b38-4c9f-8d05-769084c45e81",
   "metadata": {},
   "outputs": [
    {
     "data": {
      "text/html": [
       "<div>\n",
       "<style scoped>\n",
       "    .dataframe tbody tr th:only-of-type {\n",
       "        vertical-align: middle;\n",
       "    }\n",
       "\n",
       "    .dataframe tbody tr th {\n",
       "        vertical-align: top;\n",
       "    }\n",
       "\n",
       "    .dataframe thead th {\n",
       "        text-align: right;\n",
       "    }\n",
       "</style>\n",
       "<table border=\"1\" class=\"dataframe\">\n",
       "  <thead>\n",
       "    <tr style=\"text-align: right;\">\n",
       "      <th></th>\n",
       "      <th>Age</th>\n",
       "      <th>Id</th>\n",
       "    </tr>\n",
       "  </thead>\n",
       "  <tbody>\n",
       "    <tr>\n",
       "      <th>0</th>\n",
       "      <td>24</td>\n",
       "      <td>111</td>\n",
       "    </tr>\n",
       "    <tr>\n",
       "      <th>2</th>\n",
       "      <td>26</td>\n",
       "      <td>113</td>\n",
       "    </tr>\n",
       "  </tbody>\n",
       "</table>\n",
       "</div>"
      ],
      "text/plain": [
       "   Age   Id\n",
       "0   24  111\n",
       "2   26  113"
      ]
     },
     "execution_count": 28,
     "metadata": {},
     "output_type": "execute_result"
    }
   ],
   "source": [
    "df2.iloc[[0],[0, 1, 2]]\n",
    "df2.loc[[0, 2], ['Age', 'Id']]"
   ]
  },
  {
   "cell_type": "code",
   "execution_count": 29,
   "id": "fffa071e-09fd-4dc0-8d43-05389da368c1",
   "metadata": {},
   "outputs": [
    {
     "name": "stdout",
     "output_type": "stream",
     "text": [
      "   values  normalized\n",
      "0      50        0.00\n",
      "1     100        0.25\n",
      "2     150        0.50\n",
      "3     200        0.75\n",
      "4     250        1.00\n"
     ]
    }
   ],
   "source": [
    "import pandas as pd\n",
    "\n",
    "data = pd.DataFrame({'values': [50, 100, 150, 200, 250]})\n",
    "data['normalized'] = (data['values'] - data['values'].min()) / (data['values'].max() - data['values'].min())\n",
    "\n",
    "print(data)\n",
    " "
   ]
  },
  {
   "cell_type": "code",
   "execution_count": 30,
   "id": "455e708d-d12c-4893-a772-be4069ab5da1",
   "metadata": {},
   "outputs": [
    {
     "name": "stdout",
     "output_type": "stream",
     "text": [
      "      Name  Age         City\n",
      "a    Alice   25     New York\n",
      "b      Bob   30  Los Angeles\n",
      "c  Charlie   35      Chicago\n",
      "Name       Alice\n",
      "Age           25\n",
      "City    New York\n",
      "Name: a, dtype: object\n",
      "      Name      City\n",
      "a    Alice  New York\n",
      "c  Charlie   Chicago\n",
      "      Name  Age         City\n",
      "b      Bob   30  Los Angeles\n",
      "c  Charlie   35      Chicago\n"
     ]
    }
   ],
   "source": [
    " data = {\n",
    "    'Name': ['Alice', 'Bob', 'Charlie'],\n",
    "    'Age': [25, 30, 35],\n",
    "    'City': ['New York', 'Los Angeles', 'Chicago']\n",
    "}\n",
    "\n",
    "df = pd.DataFrame(data, index=['a', 'b', 'c'])\n",
    "print(df)\n",
    "# Select a single row by label\n",
    "print(df.loc['a'])  \n",
    "\n",
    "# Select specific rows and columns by label\n",
    "print(df.loc[['a', 'c'], ['Name', 'City']])\n",
    "\n",
    "# Select rows using a condition\n",
    "print(df.loc[df['Age'] > 28])"
   ]
  },
  {
   "cell_type": "code",
   "execution_count": 31,
   "id": "27fbe1ef-b02d-4702-9a75-cef1067de538",
   "metadata": {},
   "outputs": [
    {
     "name": "stdout",
     "output_type": "stream",
     "text": [
      "      Name  Age         City\n",
      "a    Alice   25     New York\n",
      "b      Bob   30  Los Angeles\n",
      "c  Charlie   35      Chicago\n",
      "Name       Alice\n",
      "Age           25\n",
      "City    New York\n",
      "Name: a, dtype: object\n",
      "      Name      City\n",
      "a    Alice  New York\n",
      "c  Charlie   Chicago\n",
      "   Age         City\n",
      "a   25     New York\n",
      "b   30  Los Angeles\n"
     ]
    }
   ],
   "source": [
    "data = {\n",
    "    'Name': ['Alice', 'Bob', 'Charlie'],\n",
    "    'Age': [25, 30, 35],\n",
    "    'City': ['New York', 'Los Angeles', 'Chicago']\n",
    "}\n",
    "\n",
    "df = pd.DataFrame(data, index=['a', 'b', 'c'])\n",
    "print(df)\n",
    "print(df.iloc[0])  \n",
    "\n",
    "# Select specific rows and columns by position\n",
    "print(df.iloc[[0, 2], [0, 2]])\n",
    "\n",
    "# Select a slice of rows and columns\n",
    "print(df.iloc[0:2, 1:3])"
   ]
  },
  {
   "cell_type": "code",
   "execution_count": 153,
   "id": "3fa0e3ea-3d75-45b0-8e61-fe67b5ea3390",
   "metadata": {},
   "outputs": [],
   "source": [
    "data = {\n",
    "    \"ID\": [1, 2, 3, 4, 5],\n",
    "    \"Name\": [\"John Smith\", \"Jane Doe\", \"Alice Lee\", \"Bob Brown\", \"Emma Green\"],\n",
    "    \"Department\": [\"IT\", \"HR\", \"IT\", \"Marketing\", \"HR\"],\n",
    "    \"Salary\": [60000, 50000, 70000, 45000, 55000],\n",
    "    \"Joining Date\": [\"2018-05-21\", \"2020-07-15\", \"2016-03-11\", \"2019-01-10\", \"2021-06-25\"],\n",
    "    \"Experience (Years)\": [5, 3, 7, 4, 2],\n",
    "}\n",
    "# Create DataFrame\n",
    "emp_data=pd.DataFrame(data)\n",
    "# Save DataFrame\n",
    "emp_data.to_csv(\"F:/Pandas Practice Data/employee_data.csv\")"
   ]
  },
  {
   "cell_type": "code",
   "execution_count": 154,
   "id": "fb0fb768-a766-4a28-9761-7e7a55d178d1",
   "metadata": {},
   "outputs": [],
   "source": [
    "data = {\n",
    "    \"Date\": [\"2025-01-01\", \"2025-01-01\", \"2025-01-02\", \"2025-01-02\", \"2025-01-03\", \"2025-01-03\"],\n",
    "    \"Product\": [\"Widget A\", \"Widget B\", \"Widget A\", \"Widget C\", \"Widget B\", \"Widget C\"],\n",
    "    \"Region\": [\"North\", \"South\", \"East\", \"West\", \"North\", \"South\"],\n",
    "    \"Units Sold\": [100, 200, 150, 300, 250, 100],\n",
    "    \"Price Per Unit\": [25, 30, 25, 20, 30, 20],\n",
    "}\n",
    "\n",
    "# Create DataFrame\n",
    "sal_data = pd.DataFrame(data)\n",
    "# Save DataFrame\n",
    "sal_data.to_csv(\"F:/Pandas Practice Data/sales_data.csv\")"
   ]
  },
  {
   "cell_type": "code",
   "execution_count": 155,
   "id": "947af1ff-6b11-4555-9d70-3813dcf33439",
   "metadata": {},
   "outputs": [
    {
     "data": {
      "text/html": [
       "<div>\n",
       "<style scoped>\n",
       "    .dataframe tbody tr th:only-of-type {\n",
       "        vertical-align: middle;\n",
       "    }\n",
       "\n",
       "    .dataframe tbody tr th {\n",
       "        vertical-align: top;\n",
       "    }\n",
       "\n",
       "    .dataframe thead th {\n",
       "        text-align: right;\n",
       "    }\n",
       "</style>\n",
       "<table border=\"1\" class=\"dataframe\">\n",
       "  <thead>\n",
       "    <tr style=\"text-align: right;\">\n",
       "      <th></th>\n",
       "      <th>Unnamed: 0</th>\n",
       "      <th>Date</th>\n",
       "      <th>Product</th>\n",
       "      <th>Region</th>\n",
       "      <th>Units Sold</th>\n",
       "      <th>Price Per Unit</th>\n",
       "    </tr>\n",
       "  </thead>\n",
       "  <tbody>\n",
       "    <tr>\n",
       "      <th>0</th>\n",
       "      <td>0</td>\n",
       "      <td>2025-01-01</td>\n",
       "      <td>Widget A</td>\n",
       "      <td>North</td>\n",
       "      <td>100</td>\n",
       "      <td>25</td>\n",
       "    </tr>\n",
       "    <tr>\n",
       "      <th>1</th>\n",
       "      <td>1</td>\n",
       "      <td>2025-01-01</td>\n",
       "      <td>Widget B</td>\n",
       "      <td>South</td>\n",
       "      <td>200</td>\n",
       "      <td>30</td>\n",
       "    </tr>\n",
       "    <tr>\n",
       "      <th>2</th>\n",
       "      <td>2</td>\n",
       "      <td>2025-01-02</td>\n",
       "      <td>Widget A</td>\n",
       "      <td>East</td>\n",
       "      <td>150</td>\n",
       "      <td>25</td>\n",
       "    </tr>\n",
       "    <tr>\n",
       "      <th>3</th>\n",
       "      <td>3</td>\n",
       "      <td>2025-01-02</td>\n",
       "      <td>Widget C</td>\n",
       "      <td>West</td>\n",
       "      <td>300</td>\n",
       "      <td>20</td>\n",
       "    </tr>\n",
       "    <tr>\n",
       "      <th>4</th>\n",
       "      <td>4</td>\n",
       "      <td>2025-01-03</td>\n",
       "      <td>Widget B</td>\n",
       "      <td>North</td>\n",
       "      <td>250</td>\n",
       "      <td>30</td>\n",
       "    </tr>\n",
       "    <tr>\n",
       "      <th>5</th>\n",
       "      <td>5</td>\n",
       "      <td>2025-01-03</td>\n",
       "      <td>Widget C</td>\n",
       "      <td>South</td>\n",
       "      <td>100</td>\n",
       "      <td>20</td>\n",
       "    </tr>\n",
       "  </tbody>\n",
       "</table>\n",
       "</div>"
      ],
      "text/plain": [
       "   Unnamed: 0        Date   Product Region  Units Sold  Price Per Unit\n",
       "0           0  2025-01-01  Widget A  North         100              25\n",
       "1           1  2025-01-01  Widget B  South         200              30\n",
       "2           2  2025-01-02  Widget A   East         150              25\n",
       "3           3  2025-01-02  Widget C   West         300              20\n",
       "4           4  2025-01-03  Widget B  North         250              30\n",
       "5           5  2025-01-03  Widget C  South         100              20"
      ]
     },
     "execution_count": 155,
     "metadata": {},
     "output_type": "execute_result"
    }
   ],
   "source": [
    "# file from System reading\n",
    "# Read the data: Load the sales_data.csv file into a DataFrame.\n",
    "df=pd.read_csv(\"F:/Pandas Practice Data/Sales_data.csv\")\n",
    "df"
   ]
  },
  {
   "cell_type": "code",
   "execution_count": 156,
   "id": "2f55fcff-bf2f-4327-831c-127ffac51e81",
   "metadata": {},
   "outputs": [
    {
     "data": {
      "text/html": [
       "<div>\n",
       "<style scoped>\n",
       "    .dataframe tbody tr th:only-of-type {\n",
       "        vertical-align: middle;\n",
       "    }\n",
       "\n",
       "    .dataframe tbody tr th {\n",
       "        vertical-align: top;\n",
       "    }\n",
       "\n",
       "    .dataframe thead th {\n",
       "        text-align: right;\n",
       "    }\n",
       "</style>\n",
       "<table border=\"1\" class=\"dataframe\">\n",
       "  <thead>\n",
       "    <tr style=\"text-align: right;\">\n",
       "      <th></th>\n",
       "      <th>Unnamed: 0</th>\n",
       "      <th>Date</th>\n",
       "      <th>Product</th>\n",
       "      <th>Region</th>\n",
       "      <th>Units Sold</th>\n",
       "      <th>Price Per Unit</th>\n",
       "      <th>Total Sales</th>\n",
       "    </tr>\n",
       "  </thead>\n",
       "  <tbody>\n",
       "    <tr>\n",
       "      <th>0</th>\n",
       "      <td>0</td>\n",
       "      <td>2025-01-01</td>\n",
       "      <td>Widget A</td>\n",
       "      <td>North</td>\n",
       "      <td>100</td>\n",
       "      <td>25</td>\n",
       "      <td>2500</td>\n",
       "    </tr>\n",
       "    <tr>\n",
       "      <th>1</th>\n",
       "      <td>1</td>\n",
       "      <td>2025-01-01</td>\n",
       "      <td>Widget B</td>\n",
       "      <td>South</td>\n",
       "      <td>200</td>\n",
       "      <td>30</td>\n",
       "      <td>6000</td>\n",
       "    </tr>\n",
       "    <tr>\n",
       "      <th>2</th>\n",
       "      <td>2</td>\n",
       "      <td>2025-01-02</td>\n",
       "      <td>Widget A</td>\n",
       "      <td>East</td>\n",
       "      <td>150</td>\n",
       "      <td>25</td>\n",
       "      <td>3750</td>\n",
       "    </tr>\n",
       "    <tr>\n",
       "      <th>3</th>\n",
       "      <td>3</td>\n",
       "      <td>2025-01-02</td>\n",
       "      <td>Widget C</td>\n",
       "      <td>West</td>\n",
       "      <td>300</td>\n",
       "      <td>20</td>\n",
       "      <td>6000</td>\n",
       "    </tr>\n",
       "    <tr>\n",
       "      <th>4</th>\n",
       "      <td>4</td>\n",
       "      <td>2025-01-03</td>\n",
       "      <td>Widget B</td>\n",
       "      <td>North</td>\n",
       "      <td>250</td>\n",
       "      <td>30</td>\n",
       "      <td>7500</td>\n",
       "    </tr>\n",
       "    <tr>\n",
       "      <th>5</th>\n",
       "      <td>5</td>\n",
       "      <td>2025-01-03</td>\n",
       "      <td>Widget C</td>\n",
       "      <td>South</td>\n",
       "      <td>100</td>\n",
       "      <td>20</td>\n",
       "      <td>2000</td>\n",
       "    </tr>\n",
       "  </tbody>\n",
       "</table>\n",
       "</div>"
      ],
      "text/plain": [
       "   Unnamed: 0        Date   Product Region  Units Sold  Price Per Unit  \\\n",
       "0           0  2025-01-01  Widget A  North         100              25   \n",
       "1           1  2025-01-01  Widget B  South         200              30   \n",
       "2           2  2025-01-02  Widget A   East         150              25   \n",
       "3           3  2025-01-02  Widget C   West         300              20   \n",
       "4           4  2025-01-03  Widget B  North         250              30   \n",
       "5           5  2025-01-03  Widget C  South         100              20   \n",
       "\n",
       "   Total Sales  \n",
       "0         2500  \n",
       "1         6000  \n",
       "2         3750  \n",
       "3         6000  \n",
       "4         7500  \n",
       "5         2000  "
      ]
     },
     "execution_count": 156,
     "metadata": {},
     "output_type": "execute_result"
    }
   ],
   "source": [
    "# Add a column: Add a new column, Total Sales, which is the product of Units Sold and Price Per Unit.\n",
    "df[\"Total Sales\"]=df[\"Units Sold\"]*df[\"Price Per Unit\"]\n",
    "df"
   ]
  },
  {
   "cell_type": "code",
   "execution_count": 157,
   "id": "edb92ebb-32ef-49b6-b6f1-d07eb8e14271",
   "metadata": {},
   "outputs": [
    {
     "data": {
      "text/html": [
       "<div>\n",
       "<style scoped>\n",
       "    .dataframe tbody tr th:only-of-type {\n",
       "        vertical-align: middle;\n",
       "    }\n",
       "\n",
       "    .dataframe tbody tr th {\n",
       "        vertical-align: top;\n",
       "    }\n",
       "\n",
       "    .dataframe thead th {\n",
       "        text-align: right;\n",
       "    }\n",
       "</style>\n",
       "<table border=\"1\" class=\"dataframe\">\n",
       "  <thead>\n",
       "    <tr style=\"text-align: right;\">\n",
       "      <th></th>\n",
       "      <th>Unnamed: 0</th>\n",
       "      <th>Date</th>\n",
       "      <th>Product</th>\n",
       "      <th>Region</th>\n",
       "      <th>Units Sold</th>\n",
       "      <th>Price Per Unit</th>\n",
       "      <th>Total Sales</th>\n",
       "    </tr>\n",
       "  </thead>\n",
       "  <tbody>\n",
       "    <tr>\n",
       "      <th>1</th>\n",
       "      <td>1</td>\n",
       "      <td>2025-01-01</td>\n",
       "      <td>Widget B</td>\n",
       "      <td>South</td>\n",
       "      <td>200</td>\n",
       "      <td>30</td>\n",
       "      <td>6000</td>\n",
       "    </tr>\n",
       "    <tr>\n",
       "      <th>3</th>\n",
       "      <td>3</td>\n",
       "      <td>2025-01-02</td>\n",
       "      <td>Widget C</td>\n",
       "      <td>West</td>\n",
       "      <td>300</td>\n",
       "      <td>20</td>\n",
       "      <td>6000</td>\n",
       "    </tr>\n",
       "    <tr>\n",
       "      <th>4</th>\n",
       "      <td>4</td>\n",
       "      <td>2025-01-03</td>\n",
       "      <td>Widget B</td>\n",
       "      <td>North</td>\n",
       "      <td>250</td>\n",
       "      <td>30</td>\n",
       "      <td>7500</td>\n",
       "    </tr>\n",
       "  </tbody>\n",
       "</table>\n",
       "</div>"
      ],
      "text/plain": [
       "   Unnamed: 0        Date   Product Region  Units Sold  Price Per Unit  \\\n",
       "1           1  2025-01-01  Widget B  South         200              30   \n",
       "3           3  2025-01-02  Widget C   West         300              20   \n",
       "4           4  2025-01-03  Widget B  North         250              30   \n",
       "\n",
       "   Total Sales  \n",
       "1         6000  \n",
       "3         6000  \n",
       "4         7500  "
      ]
     },
     "execution_count": 157,
     "metadata": {},
     "output_type": "execute_result"
    }
   ],
   "source": [
    "# Filter data: Find all rows where the Total Sales is greater than 5000.\n",
    "Filter_data=df[df[\"Total Sales\"]>5000]\n",
    "Filter_data"
   ]
  },
  {
   "cell_type": "code",
   "execution_count": 158,
   "id": "b855b9a7-301f-4480-95cb-5da7a75a27c1",
   "metadata": {},
   "outputs": [
    {
     "data": {
      "text/plain": [
       "Region\n",
       "East      3750\n",
       "North    10000\n",
       "South     8000\n",
       "West      6000\n",
       "Name: Total Sales, dtype: int64"
      ]
     },
     "execution_count": 158,
     "metadata": {},
     "output_type": "execute_result"
    }
   ],
   "source": [
    "# Group by: Group the data by Region and calculate the total sales for each region.\n",
    "region_sales = df.groupby(\"Region\")[\"Total Sales\"].sum()\n",
    "region_sales"
   ]
  },
  {
   "cell_type": "code",
   "execution_count": 76,
   "id": "78d41ad7-70e4-46d7-828d-e237429ffc19",
   "metadata": {},
   "outputs": [
    {
     "data": {
      "text/html": [
       "<div>\n",
       "<style scoped>\n",
       "    .dataframe tbody tr th:only-of-type {\n",
       "        vertical-align: middle;\n",
       "    }\n",
       "\n",
       "    .dataframe tbody tr th {\n",
       "        vertical-align: top;\n",
       "    }\n",
       "\n",
       "    .dataframe thead th {\n",
       "        text-align: right;\n",
       "    }\n",
       "</style>\n",
       "<table border=\"1\" class=\"dataframe\">\n",
       "  <thead>\n",
       "    <tr style=\"text-align: right;\">\n",
       "      <th></th>\n",
       "      <th>Date</th>\n",
       "      <th>Product</th>\n",
       "      <th>Region</th>\n",
       "      <th>Units Sold</th>\n",
       "      <th>Price Per Unit</th>\n",
       "      <th>Total Sales</th>\n",
       "    </tr>\n",
       "  </thead>\n",
       "  <tbody>\n",
       "    <tr>\n",
       "      <th>4</th>\n",
       "      <td>03-01-2025</td>\n",
       "      <td>Widget B</td>\n",
       "      <td>North</td>\n",
       "      <td>250</td>\n",
       "      <td>30</td>\n",
       "      <td>7500</td>\n",
       "    </tr>\n",
       "    <tr>\n",
       "      <th>1</th>\n",
       "      <td>01-01-2025</td>\n",
       "      <td>Widget B</td>\n",
       "      <td>South</td>\n",
       "      <td>200</td>\n",
       "      <td>30</td>\n",
       "      <td>6000</td>\n",
       "    </tr>\n",
       "    <tr>\n",
       "      <th>3</th>\n",
       "      <td>02-01-2025</td>\n",
       "      <td>Widget C</td>\n",
       "      <td>West</td>\n",
       "      <td>300</td>\n",
       "      <td>20</td>\n",
       "      <td>6000</td>\n",
       "    </tr>\n",
       "    <tr>\n",
       "      <th>2</th>\n",
       "      <td>02-01-2025</td>\n",
       "      <td>Widget A</td>\n",
       "      <td>East</td>\n",
       "      <td>150</td>\n",
       "      <td>25</td>\n",
       "      <td>3750</td>\n",
       "    </tr>\n",
       "    <tr>\n",
       "      <th>0</th>\n",
       "      <td>01-01-2025</td>\n",
       "      <td>Widget A</td>\n",
       "      <td>North</td>\n",
       "      <td>100</td>\n",
       "      <td>25</td>\n",
       "      <td>2500</td>\n",
       "    </tr>\n",
       "    <tr>\n",
       "      <th>5</th>\n",
       "      <td>03-01-2025</td>\n",
       "      <td>Widget C</td>\n",
       "      <td>South</td>\n",
       "      <td>100</td>\n",
       "      <td>20</td>\n",
       "      <td>2000</td>\n",
       "    </tr>\n",
       "  </tbody>\n",
       "</table>\n",
       "</div>"
      ],
      "text/plain": [
       "         Date   Product Region  Units Sold  Price Per Unit  Total Sales\n",
       "4  03-01-2025  Widget B  North         250              30         7500\n",
       "1  01-01-2025  Widget B  South         200              30         6000\n",
       "3  02-01-2025  Widget C   West         300              20         6000\n",
       "2  02-01-2025  Widget A   East         150              25         3750\n",
       "0  01-01-2025  Widget A  North         100              25         2500\n",
       "5  03-01-2025  Widget C  South         100              20         2000"
      ]
     },
     "execution_count": 76,
     "metadata": {},
     "output_type": "execute_result"
    }
   ],
   "source": [
    "# Sort: Sort the data by Total Sales in descending order.\n",
    "sorted_df = df.sort_values(\"Total Sales\", ascending=False)\n",
    "sorted_df"
   ]
  },
  {
   "cell_type": "code",
   "execution_count": 159,
   "id": "14ad45cf-d782-47a1-943e-0d8b38eb467f",
   "metadata": {},
   "outputs": [],
   "source": [
    "# Export: Save the updated DataFrame to a new CSV file called updated_sales_data.csv.\n",
    "sorted_df.to_csv('F:/Pandas Practice Data/Updated_sales.csv', index=False)"
   ]
  },
  {
   "cell_type": "code",
   "execution_count": null,
   "id": "52194108-f721-4eac-a5f9-6599bc83a9d1",
   "metadata": {},
   "outputs": [],
   "source": []
  },
  {
   "cell_type": "code",
   "execution_count": 161,
   "id": "5b2afc18-00cf-460e-8184-13f70c2cae8a",
   "metadata": {},
   "outputs": [
    {
     "data": {
      "text/html": [
       "<div>\n",
       "<style scoped>\n",
       "    .dataframe tbody tr th:only-of-type {\n",
       "        vertical-align: middle;\n",
       "    }\n",
       "\n",
       "    .dataframe tbody tr th {\n",
       "        vertical-align: top;\n",
       "    }\n",
       "\n",
       "    .dataframe thead th {\n",
       "        text-align: right;\n",
       "    }\n",
       "</style>\n",
       "<table border=\"1\" class=\"dataframe\">\n",
       "  <thead>\n",
       "    <tr style=\"text-align: right;\">\n",
       "      <th></th>\n",
       "      <th>Unnamed: 0</th>\n",
       "      <th>ID</th>\n",
       "      <th>Name</th>\n",
       "      <th>Department</th>\n",
       "      <th>Salary</th>\n",
       "      <th>Joining Date</th>\n",
       "      <th>Experience (Years)</th>\n",
       "    </tr>\n",
       "  </thead>\n",
       "  <tbody>\n",
       "    <tr>\n",
       "      <th>0</th>\n",
       "      <td>0</td>\n",
       "      <td>1</td>\n",
       "      <td>John Smith</td>\n",
       "      <td>IT</td>\n",
       "      <td>60000</td>\n",
       "      <td>2018-05-21</td>\n",
       "      <td>5</td>\n",
       "    </tr>\n",
       "    <tr>\n",
       "      <th>1</th>\n",
       "      <td>1</td>\n",
       "      <td>2</td>\n",
       "      <td>Jane Doe</td>\n",
       "      <td>HR</td>\n",
       "      <td>50000</td>\n",
       "      <td>2020-07-15</td>\n",
       "      <td>3</td>\n",
       "    </tr>\n",
       "    <tr>\n",
       "      <th>2</th>\n",
       "      <td>2</td>\n",
       "      <td>3</td>\n",
       "      <td>Alice Lee</td>\n",
       "      <td>IT</td>\n",
       "      <td>70000</td>\n",
       "      <td>2016-03-11</td>\n",
       "      <td>7</td>\n",
       "    </tr>\n",
       "    <tr>\n",
       "      <th>3</th>\n",
       "      <td>3</td>\n",
       "      <td>4</td>\n",
       "      <td>Bob Brown</td>\n",
       "      <td>Marketing</td>\n",
       "      <td>45000</td>\n",
       "      <td>2019-01-10</td>\n",
       "      <td>4</td>\n",
       "    </tr>\n",
       "    <tr>\n",
       "      <th>4</th>\n",
       "      <td>4</td>\n",
       "      <td>5</td>\n",
       "      <td>Emma Green</td>\n",
       "      <td>HR</td>\n",
       "      <td>55000</td>\n",
       "      <td>2021-06-25</td>\n",
       "      <td>2</td>\n",
       "    </tr>\n",
       "  </tbody>\n",
       "</table>\n",
       "</div>"
      ],
      "text/plain": [
       "   Unnamed: 0  ID        Name Department  Salary Joining Date  \\\n",
       "0           0   1  John Smith         IT   60000   2018-05-21   \n",
       "1           1   2    Jane Doe         HR   50000   2020-07-15   \n",
       "2           2   3   Alice Lee         IT   70000   2016-03-11   \n",
       "3           3   4   Bob Brown  Marketing   45000   2019-01-10   \n",
       "4           4   5  Emma Green         HR   55000   2021-06-25   \n",
       "\n",
       "   Experience (Years)  \n",
       "0                   5  \n",
       "1                   3  \n",
       "2                   7  \n",
       "3                   4  \n",
       "4                   2  "
      ]
     },
     "execution_count": 161,
     "metadata": {},
     "output_type": "execute_result"
    }
   ],
   "source": [
    "# 1. Read the data: Load the employee_data.csv file into a DataFrame.\n",
    "df1=pd.read_csv(\"F:/Pandas Practice Data/employee_data.csv\")\n",
    "df1"
   ]
  },
  {
   "cell_type": "code",
   "execution_count": 162,
   "id": "7a9ec612-0802-49c3-96b2-218cc4cfadc6",
   "metadata": {},
   "outputs": [
    {
     "data": {
      "text/html": [
       "<div>\n",
       "<style scoped>\n",
       "    .dataframe tbody tr th:only-of-type {\n",
       "        vertical-align: middle;\n",
       "    }\n",
       "\n",
       "    .dataframe tbody tr th {\n",
       "        vertical-align: top;\n",
       "    }\n",
       "\n",
       "    .dataframe thead th {\n",
       "        text-align: right;\n",
       "    }\n",
       "</style>\n",
       "<table border=\"1\" class=\"dataframe\">\n",
       "  <thead>\n",
       "    <tr style=\"text-align: right;\">\n",
       "      <th></th>\n",
       "      <th>Unnamed: 0</th>\n",
       "      <th>ID</th>\n",
       "      <th>Name</th>\n",
       "      <th>Department</th>\n",
       "      <th>Salary</th>\n",
       "      <th>Joining Date</th>\n",
       "      <th>Experience (Years)</th>\n",
       "    </tr>\n",
       "  </thead>\n",
       "  <tbody>\n",
       "    <tr>\n",
       "      <th>2</th>\n",
       "      <td>2</td>\n",
       "      <td>3</td>\n",
       "      <td>Alice Lee</td>\n",
       "      <td>IT</td>\n",
       "      <td>70000</td>\n",
       "      <td>2016-03-11</td>\n",
       "      <td>7</td>\n",
       "    </tr>\n",
       "  </tbody>\n",
       "</table>\n",
       "</div>"
      ],
      "text/plain": [
       "   Unnamed: 0  ID       Name Department  Salary Joining Date  \\\n",
       "2           2   3  Alice Lee         IT   70000   2016-03-11   \n",
       "\n",
       "   Experience (Years)  \n",
       "2                   7  "
      ]
     },
     "execution_count": 162,
     "metadata": {},
     "output_type": "execute_result"
    }
   ],
   "source": [
    "#  2. Filter Rows: Find all employees in the \"IT\" department with a salary greater than 60,000.\n",
    "Filter_df1=df1[(df1[\"Department\"] == \"IT\") & (df1[\"Salary\"] > 60000)]\n",
    "Filter_df1"
   ]
  },
  {
   "cell_type": "code",
   "execution_count": 163,
   "id": "7710782c-ecf5-4ce0-a53f-84e8dac56a49",
   "metadata": {},
   "outputs": [
    {
     "data": {
      "text/html": [
       "<div>\n",
       "<style scoped>\n",
       "    .dataframe tbody tr th:only-of-type {\n",
       "        vertical-align: middle;\n",
       "    }\n",
       "\n",
       "    .dataframe tbody tr th {\n",
       "        vertical-align: top;\n",
       "    }\n",
       "\n",
       "    .dataframe thead th {\n",
       "        text-align: right;\n",
       "    }\n",
       "</style>\n",
       "<table border=\"1\" class=\"dataframe\">\n",
       "  <thead>\n",
       "    <tr style=\"text-align: right;\">\n",
       "      <th></th>\n",
       "      <th>Unnamed: 0</th>\n",
       "      <th>ID</th>\n",
       "      <th>Name</th>\n",
       "      <th>Department</th>\n",
       "      <th>Salary</th>\n",
       "      <th>Joining Date</th>\n",
       "      <th>Experience (Years)</th>\n",
       "      <th>Bonus</th>\n",
       "    </tr>\n",
       "  </thead>\n",
       "  <tbody>\n",
       "    <tr>\n",
       "      <th>0</th>\n",
       "      <td>0</td>\n",
       "      <td>1</td>\n",
       "      <td>John Smith</td>\n",
       "      <td>IT</td>\n",
       "      <td>60000</td>\n",
       "      <td>2018-05-21</td>\n",
       "      <td>5</td>\n",
       "      <td>6000.0</td>\n",
       "    </tr>\n",
       "    <tr>\n",
       "      <th>1</th>\n",
       "      <td>1</td>\n",
       "      <td>2</td>\n",
       "      <td>Jane Doe</td>\n",
       "      <td>HR</td>\n",
       "      <td>50000</td>\n",
       "      <td>2020-07-15</td>\n",
       "      <td>3</td>\n",
       "      <td>5000.0</td>\n",
       "    </tr>\n",
       "    <tr>\n",
       "      <th>2</th>\n",
       "      <td>2</td>\n",
       "      <td>3</td>\n",
       "      <td>Alice Lee</td>\n",
       "      <td>IT</td>\n",
       "      <td>70000</td>\n",
       "      <td>2016-03-11</td>\n",
       "      <td>7</td>\n",
       "      <td>7000.0</td>\n",
       "    </tr>\n",
       "    <tr>\n",
       "      <th>3</th>\n",
       "      <td>3</td>\n",
       "      <td>4</td>\n",
       "      <td>Bob Brown</td>\n",
       "      <td>Marketing</td>\n",
       "      <td>45000</td>\n",
       "      <td>2019-01-10</td>\n",
       "      <td>4</td>\n",
       "      <td>4500.0</td>\n",
       "    </tr>\n",
       "    <tr>\n",
       "      <th>4</th>\n",
       "      <td>4</td>\n",
       "      <td>5</td>\n",
       "      <td>Emma Green</td>\n",
       "      <td>HR</td>\n",
       "      <td>55000</td>\n",
       "      <td>2021-06-25</td>\n",
       "      <td>2</td>\n",
       "      <td>5500.0</td>\n",
       "    </tr>\n",
       "  </tbody>\n",
       "</table>\n",
       "</div>"
      ],
      "text/plain": [
       "   Unnamed: 0  ID        Name Department  Salary Joining Date  \\\n",
       "0           0   1  John Smith         IT   60000   2018-05-21   \n",
       "1           1   2    Jane Doe         HR   50000   2020-07-15   \n",
       "2           2   3   Alice Lee         IT   70000   2016-03-11   \n",
       "3           3   4   Bob Brown  Marketing   45000   2019-01-10   \n",
       "4           4   5  Emma Green         HR   55000   2021-06-25   \n",
       "\n",
       "   Experience (Years)   Bonus  \n",
       "0                   5  6000.0  \n",
       "1                   3  5000.0  \n",
       "2                   7  7000.0  \n",
       "3                   4  4500.0  \n",
       "4                   2  5500.0  "
      ]
     },
     "execution_count": 163,
     "metadata": {},
     "output_type": "execute_result"
    }
   ],
   "source": [
    "# 3. Add a Column: Add a new column called Bonus where the bonus is 10% of the Salary.\n",
    "df1[\"Bonus\"]=df1[\"Salary\"]*10/100\n",
    "df1"
   ]
  },
  {
   "cell_type": "code",
   "execution_count": 164,
   "id": "276661df-6972-463b-9797-c6923a224ae0",
   "metadata": {},
   "outputs": [
    {
     "data": {
      "text/html": [
       "<div>\n",
       "<style scoped>\n",
       "    .dataframe tbody tr th:only-of-type {\n",
       "        vertical-align: middle;\n",
       "    }\n",
       "\n",
       "    .dataframe tbody tr th {\n",
       "        vertical-align: top;\n",
       "    }\n",
       "\n",
       "    .dataframe thead th {\n",
       "        text-align: right;\n",
       "    }\n",
       "</style>\n",
       "<table border=\"1\" class=\"dataframe\">\n",
       "  <thead>\n",
       "    <tr style=\"text-align: right;\">\n",
       "      <th></th>\n",
       "      <th>Unnamed: 0</th>\n",
       "      <th>ID</th>\n",
       "      <th>Name</th>\n",
       "      <th>Department</th>\n",
       "      <th>Salary</th>\n",
       "      <th>Joining Date</th>\n",
       "      <th>Experience (Years)</th>\n",
       "      <th>Bonus</th>\n",
       "      <th>Year</th>\n",
       "      <th>Month</th>\n",
       "    </tr>\n",
       "  </thead>\n",
       "  <tbody>\n",
       "    <tr>\n",
       "      <th>0</th>\n",
       "      <td>0</td>\n",
       "      <td>1</td>\n",
       "      <td>John Smith</td>\n",
       "      <td>IT</td>\n",
       "      <td>60000</td>\n",
       "      <td>2018-05-21</td>\n",
       "      <td>5</td>\n",
       "      <td>6000.0</td>\n",
       "      <td>2018</td>\n",
       "      <td>5</td>\n",
       "    </tr>\n",
       "    <tr>\n",
       "      <th>1</th>\n",
       "      <td>1</td>\n",
       "      <td>2</td>\n",
       "      <td>Jane Doe</td>\n",
       "      <td>HR</td>\n",
       "      <td>50000</td>\n",
       "      <td>2020-07-15</td>\n",
       "      <td>3</td>\n",
       "      <td>5000.0</td>\n",
       "      <td>2020</td>\n",
       "      <td>7</td>\n",
       "    </tr>\n",
       "    <tr>\n",
       "      <th>2</th>\n",
       "      <td>2</td>\n",
       "      <td>3</td>\n",
       "      <td>Alice Lee</td>\n",
       "      <td>IT</td>\n",
       "      <td>70000</td>\n",
       "      <td>2016-03-11</td>\n",
       "      <td>7</td>\n",
       "      <td>7000.0</td>\n",
       "      <td>2016</td>\n",
       "      <td>3</td>\n",
       "    </tr>\n",
       "    <tr>\n",
       "      <th>3</th>\n",
       "      <td>3</td>\n",
       "      <td>4</td>\n",
       "      <td>Bob Brown</td>\n",
       "      <td>Marketing</td>\n",
       "      <td>45000</td>\n",
       "      <td>2019-01-10</td>\n",
       "      <td>4</td>\n",
       "      <td>4500.0</td>\n",
       "      <td>2019</td>\n",
       "      <td>1</td>\n",
       "    </tr>\n",
       "    <tr>\n",
       "      <th>4</th>\n",
       "      <td>4</td>\n",
       "      <td>5</td>\n",
       "      <td>Emma Green</td>\n",
       "      <td>HR</td>\n",
       "      <td>55000</td>\n",
       "      <td>2021-06-25</td>\n",
       "      <td>2</td>\n",
       "      <td>5500.0</td>\n",
       "      <td>2021</td>\n",
       "      <td>6</td>\n",
       "    </tr>\n",
       "  </tbody>\n",
       "</table>\n",
       "</div>"
      ],
      "text/plain": [
       "   Unnamed: 0  ID        Name Department  Salary Joining Date  \\\n",
       "0           0   1  John Smith         IT   60000   2018-05-21   \n",
       "1           1   2    Jane Doe         HR   50000   2020-07-15   \n",
       "2           2   3   Alice Lee         IT   70000   2016-03-11   \n",
       "3           3   4   Bob Brown  Marketing   45000   2019-01-10   \n",
       "4           4   5  Emma Green         HR   55000   2021-06-25   \n",
       "\n",
       "   Experience (Years)   Bonus  Year  Month  \n",
       "0                   5  6000.0  2018      5  \n",
       "1                   3  5000.0  2020      7  \n",
       "2                   7  7000.0  2016      3  \n",
       "3                   4  4500.0  2019      1  \n",
       "4                   2  5500.0  2021      6  "
      ]
     },
     "execution_count": 164,
     "metadata": {},
     "output_type": "execute_result"
    }
   ],
   "source": [
    "# 4. Date Handling: Extract the year and month from the Joining Date column and create new columns called Year and Month.\n",
    "#    Convert Joining Date column to datetime format\n",
    "df1[\"Joining Date\"] = pd.to_datetime(df1[\"Joining Date\"])\n",
    "df1\n",
    "# Extract Year and Month\n",
    "df1[\"Year\"] = df1[\"Joining Date\"].dt.year\n",
    "df1[\"Month\"] = df1[\"Joining Date\"].dt.month\n",
    "# Display the updated DataFrame\n",
    "df1"
   ]
  },
  {
   "cell_type": "code",
   "execution_count": 165,
   "id": "b5e8fa20-68e8-44cb-bf03-57be2ae72e75",
   "metadata": {},
   "outputs": [
    {
     "data": {
      "text/plain": [
       "Department\n",
       "HR           52500.0\n",
       "IT           65000.0\n",
       "Marketing    45000.0\n",
       "Name: Salary, dtype: float64"
      ]
     },
     "execution_count": 165,
     "metadata": {},
     "output_type": "execute_result"
    }
   ],
   "source": [
    "# 5. Group by: Group the data by Department and calculate the average salary in each department.\n",
    "Avg_Salary=df1.groupby(\"Department\")[\"Salary\"].mean()\n",
    "Avg_Salary"
   ]
  },
  {
   "cell_type": "code",
   "execution_count": 166,
   "id": "c4145788-50a3-4a8d-bbfd-c171a910d09a",
   "metadata": {},
   "outputs": [
    {
     "data": {
      "text/html": [
       "<div>\n",
       "<style scoped>\n",
       "    .dataframe tbody tr th:only-of-type {\n",
       "        vertical-align: middle;\n",
       "    }\n",
       "\n",
       "    .dataframe tbody tr th {\n",
       "        vertical-align: top;\n",
       "    }\n",
       "\n",
       "    .dataframe thead th {\n",
       "        text-align: right;\n",
       "    }\n",
       "</style>\n",
       "<table border=\"1\" class=\"dataframe\">\n",
       "  <thead>\n",
       "    <tr style=\"text-align: right;\">\n",
       "      <th></th>\n",
       "      <th>Unnamed: 0</th>\n",
       "      <th>ID</th>\n",
       "      <th>Name</th>\n",
       "      <th>Department</th>\n",
       "      <th>Salary</th>\n",
       "      <th>Joining Date</th>\n",
       "      <th>Experience (Years)</th>\n",
       "      <th>Bonus</th>\n",
       "      <th>Year</th>\n",
       "      <th>Month</th>\n",
       "    </tr>\n",
       "  </thead>\n",
       "  <tbody>\n",
       "    <tr>\n",
       "      <th>2</th>\n",
       "      <td>2</td>\n",
       "      <td>3</td>\n",
       "      <td>Alice Lee</td>\n",
       "      <td>IT</td>\n",
       "      <td>70000</td>\n",
       "      <td>2016-03-11</td>\n",
       "      <td>7</td>\n",
       "      <td>7000.0</td>\n",
       "      <td>2016</td>\n",
       "      <td>3</td>\n",
       "    </tr>\n",
       "    <tr>\n",
       "      <th>0</th>\n",
       "      <td>0</td>\n",
       "      <td>1</td>\n",
       "      <td>John Smith</td>\n",
       "      <td>IT</td>\n",
       "      <td>60000</td>\n",
       "      <td>2018-05-21</td>\n",
       "      <td>5</td>\n",
       "      <td>6000.0</td>\n",
       "      <td>2018</td>\n",
       "      <td>5</td>\n",
       "    </tr>\n",
       "    <tr>\n",
       "      <th>3</th>\n",
       "      <td>3</td>\n",
       "      <td>4</td>\n",
       "      <td>Bob Brown</td>\n",
       "      <td>Marketing</td>\n",
       "      <td>45000</td>\n",
       "      <td>2019-01-10</td>\n",
       "      <td>4</td>\n",
       "      <td>4500.0</td>\n",
       "      <td>2019</td>\n",
       "      <td>1</td>\n",
       "    </tr>\n",
       "    <tr>\n",
       "      <th>1</th>\n",
       "      <td>1</td>\n",
       "      <td>2</td>\n",
       "      <td>Jane Doe</td>\n",
       "      <td>HR</td>\n",
       "      <td>50000</td>\n",
       "      <td>2020-07-15</td>\n",
       "      <td>3</td>\n",
       "      <td>5000.0</td>\n",
       "      <td>2020</td>\n",
       "      <td>7</td>\n",
       "    </tr>\n",
       "    <tr>\n",
       "      <th>4</th>\n",
       "      <td>4</td>\n",
       "      <td>5</td>\n",
       "      <td>Emma Green</td>\n",
       "      <td>HR</td>\n",
       "      <td>55000</td>\n",
       "      <td>2021-06-25</td>\n",
       "      <td>2</td>\n",
       "      <td>5500.0</td>\n",
       "      <td>2021</td>\n",
       "      <td>6</td>\n",
       "    </tr>\n",
       "  </tbody>\n",
       "</table>\n",
       "</div>"
      ],
      "text/plain": [
       "   Unnamed: 0  ID        Name Department  Salary Joining Date  \\\n",
       "2           2   3   Alice Lee         IT   70000   2016-03-11   \n",
       "0           0   1  John Smith         IT   60000   2018-05-21   \n",
       "3           3   4   Bob Brown  Marketing   45000   2019-01-10   \n",
       "1           1   2    Jane Doe         HR   50000   2020-07-15   \n",
       "4           4   5  Emma Green         HR   55000   2021-06-25   \n",
       "\n",
       "   Experience (Years)   Bonus  Year  Month  \n",
       "2                   7  7000.0  2016      3  \n",
       "0                   5  6000.0  2018      5  \n",
       "3                   4  4500.0  2019      1  \n",
       "1                   3  5000.0  2020      7  \n",
       "4                   2  5500.0  2021      6  "
      ]
     },
     "execution_count": 166,
     "metadata": {},
     "output_type": "execute_result"
    }
   ],
   "source": [
    "#  6. Sort: Sort the DataFrame by Experience (Years) in ascending order.\n",
    "sorted_df1 = df1.sort_values(\"Year\", ascending=True)\n",
    "sorted_df1"
   ]
  },
  {
   "cell_type": "code",
   "execution_count": 167,
   "id": "6ab430b8-1cd3-4670-8497-4d4b0b119f14",
   "metadata": {},
   "outputs": [
    {
     "data": {
      "text/html": [
       "<div>\n",
       "<style scoped>\n",
       "    .dataframe tbody tr th:only-of-type {\n",
       "        vertical-align: middle;\n",
       "    }\n",
       "\n",
       "    .dataframe tbody tr th {\n",
       "        vertical-align: top;\n",
       "    }\n",
       "\n",
       "    .dataframe thead th {\n",
       "        text-align: right;\n",
       "    }\n",
       "</style>\n",
       "<table border=\"1\" class=\"dataframe\">\n",
       "  <thead>\n",
       "    <tr style=\"text-align: right;\">\n",
       "      <th></th>\n",
       "      <th>Unnamed: 0</th>\n",
       "      <th>ID</th>\n",
       "      <th>Name</th>\n",
       "      <th>Department</th>\n",
       "      <th>Salary</th>\n",
       "      <th>Joining Date</th>\n",
       "      <th>Experience (Years)</th>\n",
       "      <th>Bonus</th>\n",
       "      <th>Year</th>\n",
       "      <th>Month</th>\n",
       "    </tr>\n",
       "  </thead>\n",
       "  <tbody>\n",
       "    <tr>\n",
       "      <th>0</th>\n",
       "      <td>0</td>\n",
       "      <td>1</td>\n",
       "      <td>John Smith</td>\n",
       "      <td>IT</td>\n",
       "      <td>60000</td>\n",
       "      <td>2018-05-21</td>\n",
       "      <td>5</td>\n",
       "      <td>6000.0</td>\n",
       "      <td>2018</td>\n",
       "      <td>5</td>\n",
       "    </tr>\n",
       "    <tr>\n",
       "      <th>1</th>\n",
       "      <td>1</td>\n",
       "      <td>2</td>\n",
       "      <td>Jane Doe</td>\n",
       "      <td>Human Resources</td>\n",
       "      <td>50000</td>\n",
       "      <td>2020-07-15</td>\n",
       "      <td>3</td>\n",
       "      <td>5000.0</td>\n",
       "      <td>2020</td>\n",
       "      <td>7</td>\n",
       "    </tr>\n",
       "    <tr>\n",
       "      <th>2</th>\n",
       "      <td>2</td>\n",
       "      <td>3</td>\n",
       "      <td>Alice Lee</td>\n",
       "      <td>IT</td>\n",
       "      <td>70000</td>\n",
       "      <td>2016-03-11</td>\n",
       "      <td>7</td>\n",
       "      <td>7000.0</td>\n",
       "      <td>2016</td>\n",
       "      <td>3</td>\n",
       "    </tr>\n",
       "    <tr>\n",
       "      <th>3</th>\n",
       "      <td>3</td>\n",
       "      <td>4</td>\n",
       "      <td>Bob Brown</td>\n",
       "      <td>Marketing</td>\n",
       "      <td>45000</td>\n",
       "      <td>2019-01-10</td>\n",
       "      <td>4</td>\n",
       "      <td>4500.0</td>\n",
       "      <td>2019</td>\n",
       "      <td>1</td>\n",
       "    </tr>\n",
       "    <tr>\n",
       "      <th>4</th>\n",
       "      <td>4</td>\n",
       "      <td>5</td>\n",
       "      <td>Emma Green</td>\n",
       "      <td>Human Resources</td>\n",
       "      <td>55000</td>\n",
       "      <td>2021-06-25</td>\n",
       "      <td>2</td>\n",
       "      <td>5500.0</td>\n",
       "      <td>2021</td>\n",
       "      <td>6</td>\n",
       "    </tr>\n",
       "  </tbody>\n",
       "</table>\n",
       "</div>"
      ],
      "text/plain": [
       "   Unnamed: 0  ID        Name       Department  Salary Joining Date  \\\n",
       "0           0   1  John Smith               IT   60000   2018-05-21   \n",
       "1           1   2    Jane Doe  Human Resources   50000   2020-07-15   \n",
       "2           2   3   Alice Lee               IT   70000   2016-03-11   \n",
       "3           3   4   Bob Brown        Marketing   45000   2019-01-10   \n",
       "4           4   5  Emma Green  Human Resources   55000   2021-06-25   \n",
       "\n",
       "   Experience (Years)   Bonus  Year  Month  \n",
       "0                   5  6000.0  2018      5  \n",
       "1                   3  5000.0  2020      7  \n",
       "2                   7  7000.0  2016      3  \n",
       "3                   4  4500.0  2019      1  \n",
       "4                   2  5500.0  2021      6  "
      ]
     },
     "execution_count": 167,
     "metadata": {},
     "output_type": "execute_result"
    }
   ],
   "source": [
    "# 7. Conditional Replacement: Replace the Department name \"HR\" with \"Human Resources\".\n",
    "df1[\"Department\"] = df1[\"Department\"].replace(\"HR\", \"Human Resources\")\n",
    "df1"
   ]
  },
  {
   "cell_type": "code",
   "execution_count": 168,
   "id": "bf6b8869-314c-4f4e-bfb5-7ea40ca2ed42",
   "metadata": {},
   "outputs": [
    {
     "name": "stdout",
     "output_type": "stream",
     "text": [
      "Total Salary = 280000\n",
      "Average Salary = 56000.0\n"
     ]
    }
   ],
   "source": [
    "# 8. Aggregate Function: Find the total and average salary of all employees.\n",
    "total_salary = df1[\"Salary\"].sum()\n",
    "average_salary = df1[\"Salary\"].mean()\n",
    "print(f\"Total Salary = {total_salary}\")\n",
    "print(f\"Average Salary = {average_salary}\")"
   ]
  },
  {
   "cell_type": "code",
   "execution_count": 169,
   "id": "0017bf8e-1f6b-4258-a044-0b56f5882390",
   "metadata": {},
   "outputs": [
    {
     "data": {
      "text/html": [
       "<div>\n",
       "<style scoped>\n",
       "    .dataframe tbody tr th:only-of-type {\n",
       "        vertical-align: middle;\n",
       "    }\n",
       "\n",
       "    .dataframe tbody tr th {\n",
       "        vertical-align: top;\n",
       "    }\n",
       "\n",
       "    .dataframe thead th {\n",
       "        text-align: right;\n",
       "    }\n",
       "</style>\n",
       "<table border=\"1\" class=\"dataframe\">\n",
       "  <thead>\n",
       "    <tr style=\"text-align: right;\">\n",
       "      <th></th>\n",
       "      <th>Unnamed: 0</th>\n",
       "      <th>ID</th>\n",
       "      <th>Name</th>\n",
       "      <th>Department</th>\n",
       "      <th>Salary</th>\n",
       "      <th>Joining Date</th>\n",
       "      <th>Experience (Years)</th>\n",
       "      <th>Bonus</th>\n",
       "      <th>Year</th>\n",
       "      <th>Month</th>\n",
       "      <th>Name Length</th>\n",
       "    </tr>\n",
       "  </thead>\n",
       "  <tbody>\n",
       "    <tr>\n",
       "      <th>0</th>\n",
       "      <td>0</td>\n",
       "      <td>1</td>\n",
       "      <td>John Smith</td>\n",
       "      <td>IT</td>\n",
       "      <td>60000</td>\n",
       "      <td>2018-05-21</td>\n",
       "      <td>5</td>\n",
       "      <td>6000.0</td>\n",
       "      <td>2018</td>\n",
       "      <td>5</td>\n",
       "      <td>10</td>\n",
       "    </tr>\n",
       "    <tr>\n",
       "      <th>1</th>\n",
       "      <td>1</td>\n",
       "      <td>2</td>\n",
       "      <td>Jane Doe</td>\n",
       "      <td>Human Resources</td>\n",
       "      <td>50000</td>\n",
       "      <td>2020-07-15</td>\n",
       "      <td>3</td>\n",
       "      <td>5000.0</td>\n",
       "      <td>2020</td>\n",
       "      <td>7</td>\n",
       "      <td>8</td>\n",
       "    </tr>\n",
       "    <tr>\n",
       "      <th>2</th>\n",
       "      <td>2</td>\n",
       "      <td>3</td>\n",
       "      <td>Alice Lee</td>\n",
       "      <td>IT</td>\n",
       "      <td>70000</td>\n",
       "      <td>2016-03-11</td>\n",
       "      <td>7</td>\n",
       "      <td>7000.0</td>\n",
       "      <td>2016</td>\n",
       "      <td>3</td>\n",
       "      <td>9</td>\n",
       "    </tr>\n",
       "    <tr>\n",
       "      <th>3</th>\n",
       "      <td>3</td>\n",
       "      <td>4</td>\n",
       "      <td>Bob Brown</td>\n",
       "      <td>Marketing</td>\n",
       "      <td>45000</td>\n",
       "      <td>2019-01-10</td>\n",
       "      <td>4</td>\n",
       "      <td>4500.0</td>\n",
       "      <td>2019</td>\n",
       "      <td>1</td>\n",
       "      <td>9</td>\n",
       "    </tr>\n",
       "    <tr>\n",
       "      <th>4</th>\n",
       "      <td>4</td>\n",
       "      <td>5</td>\n",
       "      <td>Emma Green</td>\n",
       "      <td>Human Resources</td>\n",
       "      <td>55000</td>\n",
       "      <td>2021-06-25</td>\n",
       "      <td>2</td>\n",
       "      <td>5500.0</td>\n",
       "      <td>2021</td>\n",
       "      <td>6</td>\n",
       "      <td>10</td>\n",
       "    </tr>\n",
       "  </tbody>\n",
       "</table>\n",
       "</div>"
      ],
      "text/plain": [
       "   Unnamed: 0  ID        Name       Department  Salary Joining Date  \\\n",
       "0           0   1  John Smith               IT   60000   2018-05-21   \n",
       "1           1   2    Jane Doe  Human Resources   50000   2020-07-15   \n",
       "2           2   3   Alice Lee               IT   70000   2016-03-11   \n",
       "3           3   4   Bob Brown        Marketing   45000   2019-01-10   \n",
       "4           4   5  Emma Green  Human Resources   55000   2021-06-25   \n",
       "\n",
       "   Experience (Years)   Bonus  Year  Month  Name Length  \n",
       "0                   5  6000.0  2018      5           10  \n",
       "1                   3  5000.0  2020      7            8  \n",
       "2                   7  7000.0  2016      3            9  \n",
       "3                   4  4500.0  2019      1            9  \n",
       "4                   2  5500.0  2021      6           10  "
      ]
     },
     "execution_count": 169,
     "metadata": {},
     "output_type": "execute_result"
    }
   ],
   "source": [
    "# 9. String Operations: Create a new column called Name Length that contains the length of each employee's name.\n",
    "df1[\"Name Length\"]=df1[\"Name\"].apply(len)\n",
    "df1"
   ]
  },
  {
   "cell_type": "code",
   "execution_count": 170,
   "id": "c1989170-83df-4648-80a7-acc1763795e4",
   "metadata": {},
   "outputs": [
    {
     "name": "stdout",
     "output_type": "stream",
     "text": [
      "0    False\n",
      "1    False\n",
      "2    False\n",
      "3    False\n",
      "4    False\n",
      "dtype: bool\n",
      "Empty DataFrame\n",
      "Columns: [Unnamed: 0, ID, Name, Department, Salary, Joining Date, Experience (Years), Bonus, Year, Month, Name Length]\n",
      "Index: []\n"
     ]
    }
   ],
   "source": [
    "# 10. Duplicates: Check if there are any duplicate rows in the dataset\n",
    "# Check for duplicate rows\n",
    "duplicates = df1.duplicated()\n",
    "\n",
    "# Display boolean series indicating duplicate rows\n",
    "print(duplicates)\n",
    "\n",
    "# To see the duplicate rows themselves (if any)\n",
    "duplicate_rows = df1[df1.duplicated()]\n",
    "print(duplicate_rows)"
   ]
  },
  {
   "cell_type": "code",
   "execution_count": 171,
   "id": "ad5d194a-2f52-4a27-8016-3d885aa978ff",
   "metadata": {},
   "outputs": [],
   "source": [
    "# Export Data: Save the updated DataFrame to a CSV file named employee_data_updated.csv.\n",
    "df1.to_csv('F:/Pandas Practice Data/employee_data_updated.csv', index=False)"
   ]
  },
  {
   "cell_type": "code",
   "execution_count": 146,
   "id": "963b49f0-2b56-41d4-82a4-d472604cbc43",
   "metadata": {},
   "outputs": [],
   "source": [
    "df2.to_csv('F:/Pandas Practice Data/sales_data.csv', index=False)"
   ]
  },
  {
   "cell_type": "code",
   "execution_count": null,
   "id": "f21d4a07-21fe-4f7c-a7ce-226357b6fdd2",
   "metadata": {},
   "outputs": [],
   "source": []
  },
  {
   "cell_type": "code",
   "execution_count": null,
   "id": "9290c7f7-a9b0-477b-a841-a1efb9b0e9ca",
   "metadata": {},
   "outputs": [],
   "source": []
  }
 ],
 "metadata": {
  "kernelspec": {
   "display_name": "Python [conda env:base] *",
   "language": "python",
   "name": "conda-base-py"
  },
  "language_info": {
   "codemirror_mode": {
    "name": "ipython",
    "version": 3
   },
   "file_extension": ".py",
   "mimetype": "text/x-python",
   "name": "python",
   "nbconvert_exporter": "python",
   "pygments_lexer": "ipython3",
   "version": "3.12.7"
  }
 },
 "nbformat": 4,
 "nbformat_minor": 5
}
