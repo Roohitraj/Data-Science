{
 "cells": [
  {
   "cell_type": "code",
   "execution_count": 1,
   "id": "342f9c69-281b-4551-bcaa-db9dd5bfd77b",
   "metadata": {},
   "outputs": [
    {
     "name": "stdout",
     "output_type": "stream",
     "text": [
      "hello\n",
      "hello \n",
      " hello\n",
      "['spple', ' banana', ' grape']\n",
      "apple,banana\n",
      "True\n",
      "True\n",
      "True\n"
     ]
    }
   ],
   "source": [
    "a = \"\"\"hii\n",
    "my name is rohit\"\"\"\n",
    "\n",
    "# remove space lstrip to rstrip using \n",
    "s = \" hello \"\n",
    "print(s.strip())  \n",
    "# output -hello \n",
    "print(s.lstrip())\n",
    "# -Hello -\n",
    "print(s.rstrip())\n",
    "# -Hello -\n",
    "\n",
    "\n",
    "s= \"spple, banana, grape\"\n",
    "print(s.split(','))\n",
    "fruits = ['apple','banana']\n",
    "print(\",\".join(fruits))\n",
    "\n",
    "# s = \"python Programming\"\n",
    "# print(s.find('Prog')) \n",
    "# predefined value is -1 return \n",
    "\n",
    "# print(s.index('Prog')) \n",
    "# substring not found \n",
    "# positive way output is same \n",
    "\n",
    "# s = \"bad boy\"\n",
    "# print(s.replace(\"bad\",\"good\",\"good\",\"girl\"))\n",
    "# replace old string to new string count\n",
    "# print(s.replace(\"bad\",\"good\",2)\n",
    "\n",
    "# s = \"hello world\"\n",
    "# print(s.startwith(\"hello\"))\n",
    "# print(s.endswith(\"world\"))\n",
    "\n",
    "# q = \"Hello\"\n",
    "# for char in q:\n",
    "#     print(char)\n",
    "            \n",
    "print(\"python\".isalnum())\n",
    "print(\"python\".isalpha())\n",
    "print(\"123\".isdigit())"
   ]
  },
  {
   "cell_type": "code",
   "execution_count": 2,
   "id": "245f4a83-c099-4c39-9eac-35c5e79fb7f1",
   "metadata": {},
   "outputs": [
    {
     "name": "stdout",
     "output_type": "stream",
     "text": [
      "PYTHON\n",
      "Hello World\n",
      "Help on method_descriptor:\n",
      "\n",
      "swapcase(self, /)\n",
      "    Convert uppercase characters to lowercase and lowercase characters to uppercase.\n",
      "\n"
     ]
    }
   ],
   "source": [
    "# tuple = (1,2,3,4,5,6,7,2,2)\n",
    "# tuple.count(2)\n",
    "# tuple.index(3)\n",
    "\n",
    "# t = int(input(\"))\n",
    "\n",
    "print(\"python\".swapcase())\n",
    "print(\"hello world\".title())\n",
    "# basically title swap letter swap capital to small \n",
    "\n",
    "# s = \"python\"\n",
    "# print(s[::-1]) \n",
    "\n",
    "help(str.swapcase)\n",
    "\n",
    "              "
   ]
  },
  {
   "cell_type": "code",
   "execution_count": 3,
   "id": "9d96b5da-e3fd-496b-87d7-dbd0dfad686a",
   "metadata": {},
   "outputs": [
    {
     "name": "stdout",
     "output_type": "stream",
     "text": [
      "pto\n"
     ]
    }
   ],
   "source": [
    "s = \"python\"\n",
    "print(s[::2])\n"
   ]
  },
  {
   "cell_type": "code",
   "execution_count": 4,
   "id": "4463a84b-574c-4bba-aa9b-47148fb241e2",
   "metadata": {},
   "outputs": [
    {
     "name": "stdout",
     "output_type": "stream",
     "text": [
      "nohtyp\n"
     ]
    }
   ],
   "source": [
    "s = \"python\"\n",
    "print(s[::-1])"
   ]
  },
  {
   "cell_type": "code",
   "execution_count": 5,
   "id": "1b8b1e75-c646-4e30-80bf-968fcbbabfd2",
   "metadata": {},
   "outputs": [
    {
     "name": "stdout",
     "output_type": "stream",
     "text": [
      "ma\n",
      "drid\n",
      "dridma\n",
      "drid\n",
      "ma\n",
      "dridma\n"
     ]
    }
   ],
   "source": [
    "a = \"madrid\"\n",
    "i = 2;\n",
    "\n",
    "# a --- [2:]drid \n",
    "# a [2:]\n",
    "\n",
    "# right \n",
    "print(a[0:2])\n",
    "print(a[2:])\n",
    "print(a[2:]+a[0:2])\n",
    "\n",
    "# left \n",
    "print(a[2:])\n",
    "print(a[:2])\n",
    "print(a[2:]+a[:2])\n"
   ]
  },
  {
   "cell_type": "code",
   "execution_count": 6,
   "id": "2a168474-4963-4496-810a-ad94e25a8242",
   "metadata": {},
   "outputs": [
    {
     "ename": "SyntaxError",
     "evalue": "invalid syntax (3187065217.py, line 6)",
     "output_type": "error",
     "traceback": [
      "\u001b[1;36m  Cell \u001b[1;32mIn[6], line 6\u001b[1;36m\u001b[0m\n\u001b[1;33m    if(pos==\"right\":\u001b[0m\n\u001b[1;37m                   ^\u001b[0m\n\u001b[1;31mSyntaxError\u001b[0m\u001b[1;31m:\u001b[0m invalid syntax\n"
     ]
    }
   ],
   "source": [
    "string=input(\"enter your string\")\n",
    "digit=int(input(\"from where you want your cursor\"))\n",
    "pos=input(\"enter you want it is right or left\").lower()\n",
    "\n",
    "if len(string)>digit:\n",
    "    if(pos==\"right\":\n",
    "        print(string1(digit:))\n",
    "       "
   ]
  },
  {
   "cell_type": "code",
   "execution_count": null,
   "id": "26a251bc-70a8-4ffc-8756-f29d013e6d0c",
   "metadata": {},
   "outputs": [],
   "source": [
    "def functionname(p1,p2,p3)"
   ]
  },
  {
   "cell_type": "code",
   "execution_count": null,
   "id": "e3646a70-c33a-4caf-8642-c9201b6050d1",
   "metadata": {},
   "outputs": [],
   "source": [
    "def armstrong(n):\n",
    "    a=0\n",
    "    b=[]\n",
    "for i in range(11,n+1):\n",
    "    print(i)\n",
    "    l=len(str(i))\n",
    "    print(l)\n",
    "    for j in str[i]:\n",
    "        a+=int(j)**(l)\n",
    "        print(a)\n",
    "        if a==i:\n",
    "            b.append(i)\n",
    "    return b\n",
    "\n"
   ]
  },
  {
   "cell_type": "code",
   "execution_count": null,
   "id": "8da51f09-0ec5-496e-a792-5a4a86c40d0d",
   "metadata": {},
   "outputs": [],
   "source": [
    "def armstrong(n):\n",
    "    b = []\n",
    "    for i in range(11, n+1):\n",
    "        a = 0\n",
    "        l = len(str(i))\n",
    "        for j in str(i):\n",
    "            a += int(j) ** l\n",
    "        if a == i:\n",
    "            b.append(i)\n",
    "    return b\n",
    "\n",
    "# Example usage\n",
    "result = armstrong(500)\n",
    "print(result)  # Output: [153, 370, 371, 407]\n"
   ]
  },
  {
   "cell_type": "code",
   "execution_count": null,
   "id": "33fceacf-b269-4a13-930a-7de4e303a3d4",
   "metadata": {},
   "outputs": [],
   "source": [
    "Q1.Write a Python function find_longest_word that takes a list of words and returns the longest word along with its length.\n",
    "    \n",
    "Q2.Write a Python function remove_duplicates that takes a list and returns a new list with duplicates removed, preserving the original order.\n",
    "Q3.Write a Python function fizz_buzz that takes an integer n and returns a list of strings with the numbers from 1 to n, but for multiples of three it returns \"Fizz\" instead of the number and for the multiples of five it returns \"Buzz\". For numbers which are multiples of both three and five, return \"FizzBuzz\".\n",
    "Q4.Write a Python function sum_of_digits that takes an integer and returns the sum of its digits."
   ]
  },
  {
   "cell_type": "code",
   "execution_count": null,
   "id": "64bee5d3-7e18-4148-92f4-876d2d3d8bd9",
   "metadata": {},
   "outputs": [],
   "source": [
    "# a = [1,2,3,4,5,6,7,8,9,11,12,13,14,15,16]\n",
    "# b = ''\n",
    "\n",
    "def sumfunction(n):\n",
    "    n = abs(n)\n",
    "    total=0\n",
    "    while n>0:\n",
    "        total+=n%10\n",
    "        n//=10\n",
    "        return total\n",
    "\n"
   ]
  },
  {
   "cell_type": "code",
   "execution_count": null,
   "id": "2fdb71df-68e9-4b2a-945d-9e7c5d57cedc",
   "metadata": {},
   "outputs": [],
   "source": [
    "list = [1, 2, 2, 6, 3, 4, 4, 5]\n",
    "check = []\n",
    "for item in list:\n",
    "    # print(item)\n",
    "    if item not in check:\n",
    "        # print(item)\n",
    "        check.append(item)\n",
    "print(check)"
   ]
  },
  {
   "cell_type": "code",
   "execution_count": null,
   "id": "1d092a02-13c7-4807-be04-bf6e72ef38b1",
   "metadata": {},
   "outputs": [],
   "source": [
    "words_list = [\"apple\", \"banana\", \"cherry\", \"blueberry\"]\n",
    "def find_longest_word(words):\n",
    "    lword = \"\"\n",
    "    mword = 0\n",
    "    \n",
    "    for word in words:\n",
    "        if len(word) > mword:\n",
    "            lword = word\n",
    "            mword = len(word)\n",
    "    return lword, mword\n",
    "\n",
    "\n",
    "longest, length = find_longest_word(words_list)\n",
    "print(f\"The longest word is '{longest}' with length {length}.\")"
   ]
  },
  {
   "cell_type": "code",
   "execution_count": null,
   "id": "20e47a33-2800-41c3-abf9-a8177fa25d84",
   "metadata": {},
   "outputs": [],
   "source": [
    "Write a Python function sum_of_digits that takes an integer and returns the sum of its digits.\n"
   ]
  },
  {
   "cell_type": "code",
   "execution_count": null,
   "id": "9b988027-cdf7-442b-86c7-437846efca78",
   "metadata": {},
   "outputs": [],
   "source": [
    "a =[]"
   ]
  },
  {
   "cell_type": "code",
   "execution_count": null,
   "id": "b53a952b-6230-491b-9b78-94b1884dfd3d",
   "metadata": {},
   "outputs": [],
   "source": [
    "# def fizz_buzz(n):\n",
    "#     result = []\n",
    "#     for i in range(1, n+1):\n",
    "#         if i % 3 == 0 and i % 5 == 0:\n",
    "#             result.append(\"fizzbuzz\")\n",
    "#         elif i % 3 == 0:\n",
    "#             result.append(\"fizz\")\n",
    "#         elif i % 5 == 0:\n",
    "#             result.append(\"Buzz\")\n",
    "#         else:\n",
    "#             result.append(str(i))\n",
    "#     return result\n",
    "    \n",
    "#     print(fizz_buzz(15))\n",
    "            "
   ]
  },
  {
   "cell_type": "code",
   "execution_count": null,
   "id": "5204ee11-4317-4c8f-a765-95e0ca972121",
   "metadata": {},
   "outputs": [],
   "source": [
    "def fizz_buzz(n):\n",
    "    result = []\n",
    "    for i in range(1, n+1):\n",
    "        # print(i)\n",
    "        if i % 3 == 0 and i % 5 == 0:\n",
    "            result.append(\"fizzbuzz\")\n",
    "        elif i % 3 == 0:\n",
    "            result.append(\"fizz\")\n",
    "        elif i % 5 == 0:\n",
    "            result.append(\"Buzz\")\n",
    "        else:\n",
    "            result.append(str(i))\n",
    "    return result  \n",
    "\n",
    "# To check the output\n",
    "print(fizz_buzz(15))\n"
   ]
  },
  {
   "cell_type": "code",
   "execution_count": null,
   "id": "8dd996d2-041b-4e27-bb0c-b758db0f26e5",
   "metadata": {},
   "outputs": [],
   "source": [
    "def fizz_bizz(n):\n",
    "    result = []\n",
    "    for i in range(1, n+1):\n",
    "        print(i)\n",
    "        if i % 3 == 0 and i % 5 == 0:\n",
    "           lresult.append(\"fizz_Buzz\")\n",
    "        elif i % 3 == 0:\n",
    "            result.append(\"fizz\")\n",
    "        elif i % 5 == 0:\n",
    "            result.append(\"Buzz\")\n",
    "        else:\n",
    "            result.append(str(i))\n",
    "        return result\n",
    "    print(fizz_buzz(15))\n",
    "    "
   ]
  },
  {
   "cell_type": "code",
   "execution_count": null,
   "id": "90d7ce8f-4629-4cb7-bb83-d6a4e35efe94",
   "metadata": {},
   "outputs": [],
   "source": []
  },
  {
   "cell_type": "code",
   "execution_count": null,
   "id": "6db7fe2c-98a2-45b7-b05a-b687504a0b1b",
   "metadata": {},
   "outputs": [],
   "source": [
    "a = ['this','is','a','happy','place','to','studey']\n",
    "longest_word =''\n",
    "for i in a:\n",
    "    # if len()\n",
    "if len(longest_word)<len(a[i]):\n",
    "    \n",
    "    # longest_word=a[i]"
   ]
  },
  {
   "cell_type": "code",
   "execution_count": null,
   "id": "12d56e0a-a9ab-4b39-bb54-0d824948e431",
   "metadata": {},
   "outputs": [],
   "source": [
    "the continue statement to skips "
   ]
  },
  {
   "cell_type": "code",
   "execution_count": null,
   "id": "5dad91ad-6a2f-47ae-baf4-23c418265b51",
   "metadata": {},
   "outputs": [],
   "source": [
    "break continue pass related question  \n",
    "for number in range(0,10)\n",
    "pirnt(number)\n",
    "    if number == 5:\n",
    "        break\n",
    "\n",
    "for number in range(10):\n",
    "    if number % 2 ==0:\n",
    "        continue \n",
    "print(numeber)\n",
    "\n",
    "for number in range(5):\n",
    "    if number%2==0:\n",
    "        pass\n",
    "    else:\n",
    "        print(f\"{number}-is odd\")\n"
   ]
  },
  {
   "cell_type": "code",
   "execution_count": null,
   "id": "70bda3eb-4cf3-415b-9845-f40f6a4319dd",
   "metadata": {},
   "outputs": [],
   "source": [
    "valid_input = {\"yes\",\"no\",\"maybe\"}\n",
    "while True:\n",
    "    user_box = input(\"Enter 'yes','no', or 'maybe' (type'exit' to quit):\")\n",
    "\n",
    "if user_box == \"exit\":\n",
    "    print(\"Exiting....\")\n",
    "    break\n",
    "elif user_box not in valid_input:\n",
    "    print(\"Invalid input, please try again\")\n",
    "    continue \n",
    "else:\n",
    "    pass"
   ]
  },
  {
   "cell_type": "code",
   "execution_count": 11,
   "id": "3df6d76d-944a-42b8-bde9-f5919f77619f",
   "metadata": {},
   "outputs": [
    {
     "name": "stdout",
     "output_type": "stream",
     "text": [
      "9 is a prime number\n",
      "11 is a prime number\n",
      "13 is a prime number\n",
      "15 is a prime number\n",
      "17 is a prime number\n",
      "17 is a prime number\n",
      "19 is a prime number\n",
      "19 is a prime number\n",
      "21 is a prime number\n",
      "23 is a prime number\n",
      "23 is a prime number\n",
      "25 is a prime number\n",
      "25 is a prime number\n",
      "25 is a prime number\n",
      "27 is a prime number\n",
      "29 is a prime number\n",
      "29 is a prime number\n",
      "29 is a prime number\n",
      "31 is a prime number\n",
      "31 is a prime number\n",
      "31 is a prime number\n",
      "33 is a prime number\n",
      "35 is a prime number\n",
      "35 is a prime number\n",
      "35 is a prime number\n",
      "37 is a prime number\n",
      "37 is a prime number\n",
      "37 is a prime number\n",
      "37 is a prime number\n",
      "39 is a prime number\n",
      "41 is a prime number\n",
      "41 is a prime number\n",
      "41 is a prime number\n",
      "41 is a prime number\n",
      "43 is a prime number\n",
      "43 is a prime number\n",
      "43 is a prime number\n",
      "43 is a prime number\n",
      "45 is a prime number\n",
      "47 is a prime number\n",
      "47 is a prime number\n",
      "47 is a prime number\n",
      "47 is a prime number\n",
      "49 is a prime number\n",
      "49 is a prime number\n",
      "49 is a prime number\n",
      "49 is a prime number\n",
      "49 is a prime number\n",
      "51 is a prime number\n",
      "53 is a prime number\n",
      "53 is a prime number\n",
      "53 is a prime number\n",
      "53 is a prime number\n",
      "53 is a prime number\n",
      "55 is a prime number\n",
      "55 is a prime number\n",
      "55 is a prime number\n",
      "57 is a prime number\n",
      "59 is a prime number\n",
      "59 is a prime number\n",
      "59 is a prime number\n",
      "59 is a prime number\n",
      "59 is a prime number\n",
      "61 is a prime number\n",
      "61 is a prime number\n",
      "61 is a prime number\n",
      "61 is a prime number\n",
      "61 is a prime number\n",
      "63 is a prime number\n",
      "65 is a prime number\n",
      "65 is a prime number\n",
      "65 is a prime number\n",
      "67 is a prime number\n",
      "67 is a prime number\n",
      "67 is a prime number\n",
      "67 is a prime number\n",
      "67 is a prime number\n",
      "67 is a prime number\n",
      "69 is a prime number\n",
      "71 is a prime number\n",
      "71 is a prime number\n",
      "71 is a prime number\n",
      "71 is a prime number\n",
      "71 is a prime number\n",
      "71 is a prime number\n",
      "73 is a prime number\n",
      "73 is a prime number\n",
      "73 is a prime number\n",
      "73 is a prime number\n",
      "73 is a prime number\n",
      "73 is a prime number\n",
      "75 is a prime number\n",
      "77 is a prime number\n",
      "77 is a prime number\n",
      "77 is a prime number\n",
      "77 is a prime number\n",
      "77 is a prime number\n",
      "79 is a prime number\n",
      "79 is a prime number\n",
      "79 is a prime number\n",
      "79 is a prime number\n",
      "79 is a prime number\n",
      "79 is a prime number\n",
      "81 is a prime number\n",
      "83 is a prime number\n",
      "83 is a prime number\n",
      "83 is a prime number\n",
      "83 is a prime number\n",
      "83 is a prime number\n",
      "83 is a prime number\n",
      "83 is a prime number\n",
      "85 is a prime number\n",
      "85 is a prime number\n",
      "85 is a prime number\n",
      "87 is a prime number\n",
      "89 is a prime number\n",
      "89 is a prime number\n",
      "89 is a prime number\n",
      "89 is a prime number\n",
      "89 is a prime number\n",
      "89 is a prime number\n",
      "89 is a prime number\n",
      "91 is a prime number\n",
      "91 is a prime number\n",
      "91 is a prime number\n",
      "91 is a prime number\n",
      "91 is a prime number\n",
      "93 is a prime number\n",
      "95 is a prime number\n",
      "95 is a prime number\n",
      "95 is a prime number\n",
      "97 is a prime number\n",
      "97 is a prime number\n",
      "97 is a prime number\n",
      "97 is a prime number\n",
      "97 is a prime number\n",
      "97 is a prime number\n",
      "97 is a prime number\n",
      "99 is a prime number\n",
      "101 is a prime number\n",
      "101 is a prime number\n",
      "101 is a prime number\n",
      "101 is a prime number\n",
      "101 is a prime number\n",
      "101 is a prime number\n",
      "101 is a prime number\n",
      "101 is a prime number\n",
      "103 is a prime number\n",
      "103 is a prime number\n",
      "103 is a prime number\n",
      "103 is a prime number\n",
      "103 is a prime number\n",
      "103 is a prime number\n",
      "103 is a prime number\n",
      "103 is a prime number\n",
      "105 is a prime number\n",
      "107 is a prime number\n",
      "107 is a prime number\n",
      "107 is a prime number\n",
      "107 is a prime number\n",
      "107 is a prime number\n",
      "107 is a prime number\n",
      "107 is a prime number\n",
      "107 is a prime number\n",
      "109 is a prime number\n",
      "109 is a prime number\n",
      "109 is a prime number\n",
      "109 is a prime number\n",
      "109 is a prime number\n",
      "109 is a prime number\n",
      "109 is a prime number\n",
      "109 is a prime number\n",
      "111 is a prime number\n",
      "113 is a prime number\n",
      "113 is a prime number\n",
      "113 is a prime number\n",
      "113 is a prime number\n",
      "113 is a prime number\n",
      "113 is a prime number\n",
      "113 is a prime number\n",
      "113 is a prime number\n",
      "115 is a prime number\n",
      "115 is a prime number\n",
      "115 is a prime number\n",
      "117 is a prime number\n",
      "119 is a prime number\n",
      "119 is a prime number\n",
      "119 is a prime number\n",
      "119 is a prime number\n",
      "119 is a prime number\n",
      "121 is a prime number\n",
      "121 is a prime number\n",
      "121 is a prime number\n",
      "121 is a prime number\n",
      "121 is a prime number\n",
      "121 is a prime number\n",
      "121 is a prime number\n",
      "121 is a prime number\n",
      "121 is a prime number\n",
      "123 is a prime number\n",
      "125 is a prime number\n",
      "125 is a prime number\n",
      "125 is a prime number\n",
      "127 is a prime number\n",
      "127 is a prime number\n",
      "127 is a prime number\n",
      "127 is a prime number\n",
      "127 is a prime number\n",
      "127 is a prime number\n",
      "127 is a prime number\n",
      "127 is a prime number\n",
      "127 is a prime number\n",
      "129 is a prime number\n",
      "131 is a prime number\n",
      "131 is a prime number\n",
      "131 is a prime number\n",
      "131 is a prime number\n",
      "131 is a prime number\n",
      "131 is a prime number\n",
      "131 is a prime number\n",
      "131 is a prime number\n",
      "131 is a prime number\n",
      "133 is a prime number\n",
      "133 is a prime number\n",
      "133 is a prime number\n",
      "133 is a prime number\n",
      "133 is a prime number\n",
      "135 is a prime number\n",
      "137 is a prime number\n",
      "137 is a prime number\n",
      "137 is a prime number\n",
      "137 is a prime number\n",
      "137 is a prime number\n",
      "137 is a prime number\n",
      "137 is a prime number\n",
      "137 is a prime number\n",
      "137 is a prime number\n",
      "139 is a prime number\n",
      "139 is a prime number\n",
      "139 is a prime number\n",
      "139 is a prime number\n",
      "139 is a prime number\n",
      "139 is a prime number\n",
      "139 is a prime number\n",
      "139 is a prime number\n",
      "139 is a prime number\n",
      "141 is a prime number\n",
      "143 is a prime number\n",
      "143 is a prime number\n",
      "143 is a prime number\n",
      "143 is a prime number\n",
      "143 is a prime number\n",
      "143 is a prime number\n",
      "143 is a prime number\n",
      "143 is a prime number\n",
      "143 is a prime number\n",
      "145 is a prime number\n",
      "145 is a prime number\n",
      "145 is a prime number\n",
      "147 is a prime number\n",
      "149 is a prime number\n",
      "149 is a prime number\n",
      "149 is a prime number\n",
      "149 is a prime number\n",
      "149 is a prime number\n",
      "149 is a prime number\n",
      "149 is a prime number\n",
      "149 is a prime number\n",
      "149 is a prime number\n",
      "149 is a prime number\n",
      "151 is a prime number\n",
      "151 is a prime number\n",
      "151 is a prime number\n",
      "151 is a prime number\n",
      "151 is a prime number\n",
      "151 is a prime number\n",
      "151 is a prime number\n",
      "151 is a prime number\n",
      "151 is a prime number\n",
      "151 is a prime number\n",
      "153 is a prime number\n",
      "155 is a prime number\n",
      "155 is a prime number\n",
      "155 is a prime number\n",
      "157 is a prime number\n",
      "157 is a prime number\n",
      "157 is a prime number\n",
      "157 is a prime number\n",
      "157 is a prime number\n",
      "157 is a prime number\n",
      "157 is a prime number\n",
      "157 is a prime number\n",
      "157 is a prime number\n",
      "157 is a prime number\n",
      "159 is a prime number\n",
      "161 is a prime number\n",
      "161 is a prime number\n",
      "161 is a prime number\n",
      "161 is a prime number\n",
      "161 is a prime number\n",
      "163 is a prime number\n",
      "163 is a prime number\n",
      "163 is a prime number\n",
      "163 is a prime number\n",
      "163 is a prime number\n",
      "163 is a prime number\n",
      "163 is a prime number\n",
      "163 is a prime number\n",
      "163 is a prime number\n",
      "163 is a prime number\n",
      "165 is a prime number\n",
      "167 is a prime number\n",
      "167 is a prime number\n",
      "167 is a prime number\n",
      "167 is a prime number\n",
      "167 is a prime number\n",
      "167 is a prime number\n",
      "167 is a prime number\n",
      "167 is a prime number\n",
      "167 is a prime number\n",
      "167 is a prime number\n",
      "169 is a prime number\n",
      "169 is a prime number\n",
      "169 is a prime number\n",
      "169 is a prime number\n",
      "169 is a prime number\n",
      "169 is a prime number\n",
      "169 is a prime number\n",
      "169 is a prime number\n",
      "169 is a prime number\n",
      "169 is a prime number\n",
      "169 is a prime number\n",
      "171 is a prime number\n",
      "173 is a prime number\n",
      "173 is a prime number\n",
      "173 is a prime number\n",
      "173 is a prime number\n",
      "173 is a prime number\n",
      "173 is a prime number\n",
      "173 is a prime number\n",
      "173 is a prime number\n",
      "173 is a prime number\n",
      "173 is a prime number\n",
      "173 is a prime number\n",
      "175 is a prime number\n",
      "175 is a prime number\n",
      "175 is a prime number\n",
      "177 is a prime number\n",
      "179 is a prime number\n",
      "179 is a prime number\n",
      "179 is a prime number\n",
      "179 is a prime number\n",
      "179 is a prime number\n",
      "179 is a prime number\n",
      "179 is a prime number\n",
      "179 is a prime number\n",
      "179 is a prime number\n",
      "179 is a prime number\n",
      "179 is a prime number\n",
      "181 is a prime number\n",
      "181 is a prime number\n",
      "181 is a prime number\n",
      "181 is a prime number\n",
      "181 is a prime number\n",
      "181 is a prime number\n",
      "181 is a prime number\n",
      "181 is a prime number\n",
      "181 is a prime number\n",
      "181 is a prime number\n",
      "181 is a prime number\n",
      "183 is a prime number\n",
      "185 is a prime number\n",
      "185 is a prime number\n",
      "185 is a prime number\n",
      "187 is a prime number\n",
      "187 is a prime number\n",
      "187 is a prime number\n",
      "187 is a prime number\n",
      "187 is a prime number\n",
      "187 is a prime number\n",
      "187 is a prime number\n",
      "187 is a prime number\n",
      "187 is a prime number\n",
      "189 is a prime number\n",
      "191 is a prime number\n",
      "191 is a prime number\n",
      "191 is a prime number\n",
      "191 is a prime number\n",
      "191 is a prime number\n",
      "191 is a prime number\n",
      "191 is a prime number\n",
      "191 is a prime number\n",
      "191 is a prime number\n",
      "191 is a prime number\n",
      "191 is a prime number\n",
      "193 is a prime number\n",
      "193 is a prime number\n",
      "193 is a prime number\n",
      "193 is a prime number\n",
      "193 is a prime number\n",
      "193 is a prime number\n",
      "193 is a prime number\n",
      "193 is a prime number\n",
      "193 is a prime number\n",
      "193 is a prime number\n",
      "193 is a prime number\n",
      "195 is a prime number\n",
      "197 is a prime number\n",
      "197 is a prime number\n",
      "197 is a prime number\n",
      "197 is a prime number\n",
      "197 is a prime number\n",
      "197 is a prime number\n",
      "197 is a prime number\n",
      "197 is a prime number\n",
      "197 is a prime number\n",
      "197 is a prime number\n",
      "197 is a prime number\n",
      "197 is a prime number\n",
      "199 is a prime number\n",
      "199 is a prime number\n",
      "199 is a prime number\n",
      "199 is a prime number\n",
      "199 is a prime number\n",
      "199 is a prime number\n",
      "199 is a prime number\n",
      "199 is a prime number\n",
      "199 is a prime number\n",
      "199 is a prime number\n",
      "199 is a prime number\n",
      "199 is a prime number\n"
     ]
    }
   ],
   "source": [
    "n=200\n",
    "for j in range(2,n+1):\n",
    "    for i in range(2,int(j**0.5)):\n",
    "        if (j%i)==0:\n",
    "            break\n",
    "        print(j,\"is a prime number\")\n",
    "        \n"
   ]
  },
  {
   "cell_type": "code",
   "execution_count": null,
   "id": "343896d5-e064-42e3-bd24-5ed1ae478645",
   "metadata": {},
   "outputs": [],
   "source": [
    "file handling in python is an essentials skill for dealing with files sucs as text files CSV and more i'LL cover all the key conecpt and functions in file handling in python, including writing appending and managing different types files."
   ]
  },
  {
   "cell_type": "code",
   "execution_count": 6,
   "id": "aaa30f7a-4c8e-4a32-b257-3708cdecf303",
   "metadata": {},
   "outputs": [],
   "source": [
    "file = open('example.txt','r')\n",
    "file.close()\n",
    "# with open()"
   ]
  },
  {
   "cell_type": "code",
   "execution_count": 12,
   "id": "6cf8c591-b2e2-43a3-9d91-322b79875dd8",
   "metadata": {},
   "outputs": [],
   "source": [
    "with open('example.txt','r') as file:\n",
    "       pass"
   ]
  },
  {
   "cell_type": "code",
   "execution_count": 20,
   "id": "49cf3ec9-ee98-417a-a619-7a6a21feecb7",
   "metadata": {},
   "outputs": [
    {
     "name": "stdout",
     "output_type": "stream",
     "text": [
      "hello world\n",
      "hel\n"
     ]
    }
   ],
   "source": [
    "with open('example.txt','r') as file:\n",
    "    content = file.read(10)\n",
    "    print(content)"
   ]
  },
  {
   "cell_type": "code",
   "execution_count": 17,
   "id": "9855f793-5f1c-4435-a720-c97b0c347e65",
   "metadata": {},
   "outputs": [
    {
     "name": "stdout",
     "output_type": "stream",
     "text": [
      "hello world\n",
      "\n"
     ]
    }
   ],
   "source": [
    "with open('example.txt','r') as file:\n",
    "    first_line = file.readline()\n",
    "    print(first_line)"
   ]
  },
  {
   "cell_type": "code",
   "execution_count": 18,
   "id": "cfccef89-6faa-4fc9-9c9a-f3a606328b31",
   "metadata": {},
   "outputs": [
    {
     "name": "stdout",
     "output_type": "stream",
     "text": [
      "['hello world\\n', 'hello world\\n', 'hello world\\n', 'hello world\\n', 'hello world\\n', 'hello world\\n', 'hello world\\n', 'hello world\\n', 'hello world\\n', 'hello world\\n', 'hello world\\n', 'hello world\\n', 'hello world\\n', 'hello world\\n', 'hello world\\n', 'hello world\\n', 'hello world\\n', '\\n', '\\n', '\\n', 'hello worldhello world']\n"
     ]
    }
   ],
   "source": [
    "with open('example.txt','r') as file:\n",
    "    first_line = file.readlines()\n",
    "    print(first_line)"
   ]
  },
  {
   "cell_type": "code",
   "execution_count": 32,
   "id": "69368b42-8156-420d-a437-2b7a79e2ed54",
   "metadata": {},
   "outputs": [],
   "source": [
    "lines = [\"Hello\\n\", \"pyhon for Data Science\\n\",\"This is a practise fine.\\n\"]\n",
    "with open('example.txt','a') as file:\n",
    "    file.writelines(lines)\n",
    "    # print(lines)\n",
    "\n",
    "\n",
    "lines = [\"Hello\\n\", \"pyhon for Data Science\\n\",\"This is a practise fine.\\n\"]\n",
    "with open('example.txt','w') as file:\n",
    "    file.writelines(lines)\n",
    "    # print(lines)\n"
   ]
  },
  {
   "cell_type": "code",
   "execution_count": 29,
   "id": "affc2f78-00e2-4f5a-968f-01e186880b43",
   "metadata": {},
   "outputs": [
    {
     "name": "stdout",
     "output_type": "stream",
     "text": [
      "\n"
     ]
    }
   ],
   "source": [
    "with open('example.txt','w+') as file:\n",
    "    file.write(\"Hello world\")\n",
    "    print(file.read(10))\n",
    "    file.close()\n"
   ]
  },
  {
   "cell_type": "code",
   "execution_count": 26,
   "id": "215b6324-2b5c-49dd-8cef-ba3d1476732b",
   "metadata": {},
   "outputs": [],
   "source": [
    "lines = [\"hello, python\\n\",\"solve this quest.\\n\"]\n",
    "with open('python_file.txt','w') as file:\n",
    "    file.writelines(lines)"
   ]
  },
  {
   "cell_type": "code",
   "execution_count": null,
   "id": "853f1594-db81-407f-bf7e-9fb8e87db644",
   "metadata": {},
   "outputs": [],
   "source": [
    "with open('image.jpg','rb') as file:\n",
    "    content = file.read()\n",
    "\n",
    "with open('image.jpg','wb') as file:\n",
    "    content = file.read()"
   ]
  },
  {
   "cell_type": "code",
   "execution_count": 34,
   "id": "24a1d5a3-b2ac-4279-9430-c01e39be513e",
   "metadata": {},
   "outputs": [
    {
     "name": "stdout",
     "output_type": "stream",
     "text": [
      "llo\n"
     ]
    }
   ],
   "source": [
    "with open('python_file.txt','r') as file:\n",
    "    file.seek(2)\n",
    "    contents = file.read(3)\n",
    "    print(contents)"
   ]
  },
  {
   "cell_type": "code",
   "execution_count": 1,
   "id": "2af787c7-59d1-480a-b500-6228ccf48d1f",
   "metadata": {},
   "outputs": [
    {
     "name": "stdout",
     "output_type": "stream",
     "text": [
      "The file does not exist.\n",
      "the code is executed\n"
     ]
    }
   ],
   "source": [
    "try:\n",
    "    with open('non_existent.txt','r') as file:\n",
    "        content = file.read()\n",
    "except FileNotFoundError:\n",
    "    print(\"The file does not exist.\")\n",
    "except IDError:\n",
    "    print(\"An I/o error occured\")\n",
    "else:\n",
    "    print(\"the file is opened successfully\")\n",
    "finally:\n",
    "    print(\"the code is executed\")"
   ]
  },
  {
   "cell_type": "code",
   "execution_count": 4,
   "id": "9bfeb562-bfd7-4822-aa1c-e2ae18573678",
   "metadata": {},
   "outputs": [
    {
     "name": "stdout",
     "output_type": "stream",
     "text": [
      "the timw taken for the execution if the loop  0.006618\n"
     ]
    }
   ],
   "source": [
    "import time\n",
    "st = time.time()\n",
    "for i in range(1,10000):\n",
    "    a=i**2\n",
    "et=time.time()\n",
    "exec = et-st\n",
    "print(f\"the timw taken for the execution if the loop {exec: 4f}\")"
   ]
  },
  {
   "cell_type": "code",
   "execution_count": null,
   "id": "1c8674ca-ce36-47ff-bb54-56b2fb753c35",
   "metadata": {},
   "outputs": [],
   "source": [
    "file name Return the \n",
    "list occupy space \n",
    "array memory management is one of the best \n",
    "converse a list"
   ]
  },
  {
   "cell_type": "code",
   "execution_count": 6,
   "id": "ef22fb75-b2ec-4dc7-b35f-5ab36848b471",
   "metadata": {},
   "outputs": [
    {
     "name": "stdin",
     "output_type": "stream",
     "text": [
      "enter your first number 5\n",
      "enter your second number 5\n"
     ]
    },
    {
     "name": "stdout",
     "output_type": "stream",
     "text": [
      "nothing happen\n"
     ]
    }
   ],
   "source": [
    "firstno = input(\"enter your first number\")\n",
    "secondno = input(\"enter your second number\")\n",
    "\n",
    "firstno = int(firstno)\n",
    "secondno = int(secondno)\n",
    "\n",
    "final = \"\";\n",
    "if final == str(firstno+secondno):\n",
    "    # print(\"sum of the number {firstno+secondno}\")\n",
    "    print(f\"Sum of the numbers: {firstno + secondno}\")\n",
    "elif final == str(firstno-secondno):\n",
    "     print(\"substract the number {firstno-secondno}\")\n",
    "elif final == str(firstno*secondno):         \n",
    "      print(\"Multiply the number {firstno*secondno}\")   \n",
    "elif final == str(firstno%secondno):         \n",
    "      print(\"Divisible the number {firstno%secondno}\") \n",
    "else:\n",
    "    print(\"nothing happen\");"
   ]
  },
  {
   "cell_type": "code",
   "execution_count": 35,
   "id": "8b6a02e4-6011-49f7-b25f-74f9a1b6d975",
   "metadata": {},
   "outputs": [
    {
     "name": "stdout",
     "output_type": "stream",
     "text": [
      "perfect number 6\n",
      "perfect number 28\n"
     ]
    }
   ],
   "source": [
    "for i in range(1, 101):\n",
    "    list = []\n",
    "    for j in range(1,i):\n",
    "        if(i % j == 0):\n",
    "            list.append(j)\n",
    "\n",
    "    if(sum(list) == i):\n",
    "        print(f\"perfect number {i}\")\n",
    "            "
   ]
  },
  {
   "cell_type": "code",
   "execution_count": 37,
   "id": "15c652f4-85ff-4732-a0f0-c34b2675ce2f",
   "metadata": {},
   "outputs": [
    {
     "name": "stdout",
     "output_type": "stream",
     "text": [
      "*\n",
      "**\n",
      "***\n",
      "****\n",
      "*****\n"
     ]
    }
   ],
   "source": [
    "for i in range(1,6):\n",
    "    print('*' *i)"
   ]
  },
  {
   "cell_type": "code",
   "execution_count": 62,
   "id": "6c9cc9ed-3c7e-4233-833a-9569ebce2d53",
   "metadata": {},
   "outputs": [],
   "source": [
    "def permutation(n, r):\n",
    "    num = 1 \n",
    "    den = 1\n",
    "    for i in range(1,n+1):\n",
    "        num*=i\n",
    "    for j in range(1,(n-r)+1):\n",
    "        den*=j\n",
    "    a = (num/den)\n",
    "    print(f\"your permutation total is{a}\")\n",
    "   \n"
   ]
  },
  {
   "cell_type": "code",
   "execution_count": 64,
   "id": "4ff1e50c-9775-401b-9763-452f16039215",
   "metadata": {},
   "outputs": [
    {
     "name": "stdout",
     "output_type": "stream",
     "text": [
      "your permutation total is504.0\n"
     ]
    }
   ],
   "source": [
    " permutation(9,3)"
   ]
  },
  {
   "cell_type": "code",
   "execution_count": 4,
   "id": "6ca94a99-8c62-49c7-9488-58e5cce382ba",
   "metadata": {},
   "outputs": [
    {
     "name": "stdout",
     "output_type": "stream",
     "text": [
      "Requirement already satisfied: numpy in d:\\anaconda3\\lib\\site-packages (1.26.4)\n"
     ]
    }
   ],
   "source": [
    "!pip install numpy\n"
   ]
  },
  {
   "cell_type": "code",
   "execution_count": 10,
   "id": "f9cc75f3-e74d-4837-b24b-c7d701b79320",
   "metadata": {},
   "outputs": [],
   "source": [
    "import numpy as np"
   ]
  },
  {
   "cell_type": "code",
   "execution_count": 16,
   "id": "ed05257b-5180-4cf2-b400-04c7a9e2fdd3",
   "metadata": {},
   "outputs": [
    {
     "name": "stdout",
     "output_type": "stream",
     "text": [
      "[1 2 3 4 5 6]\n"
     ]
    },
    {
     "data": {
      "text/plain": [
       "1"
      ]
     },
     "execution_count": 16,
     "metadata": {},
     "output_type": "execute_result"
    }
   ],
   "source": [
    "a = np.array([1,2,3,4,5,6])\n",
    "print(a)\n",
    "a.ndim \n",
    "# no of dimensions # showing dimension"
   ]
  },
  {
   "cell_type": "code",
   "execution_count": 26,
   "id": "16347452-a34d-413e-8aec-400bdd34e39e",
   "metadata": {},
   "outputs": [
    {
     "name": "stdout",
     "output_type": "stream",
     "text": [
      "[[1 2 3]\n",
      " [1 2 3]\n",
      " [1 2 3]]\n",
      "[[1 2]\n",
      " [1 2]\n",
      " [1 2]]\n"
     ]
    },
    {
     "data": {
      "text/plain": [
       "dtype('int32')"
      ]
     },
     "execution_count": 26,
     "metadata": {},
     "output_type": "execute_result"
    }
   ],
   "source": [
    "a = np.array([[1,2,3],[1,2,3],[1,2,3]])\n",
    "print(a)\n",
    "a.ndim\n",
    "b = np.array([[1,2],[1,2],[1,2]])\n",
    "print(b)\n",
    "b.ndim\n",
    "a.shape\n",
    "a.size\n",
    "a.dtype\n",
    "#def infoabtarray(arr):\n",
    "    #print(f\"array shape is {a.shape}\")"
   ]
  },
  {
   "cell_type": "code",
   "execution_count": 32,
   "id": "7aa93257-1fe8-47ce-8f81-ab603d15e123",
   "metadata": {},
   "outputs": [
    {
     "ename": "ValueError",
     "evalue": "setting an array element with a sequence. The requested array has an inhomogeneous shape after 1 dimensions. The detected shape was (3,) + inhomogeneous part.",
     "output_type": "error",
     "traceback": [
      "\u001b[1;31m---------------------------------------------------------------------------\u001b[0m",
      "\u001b[1;31mValueError\u001b[0m                                Traceback (most recent call last)",
      "Cell \u001b[1;32mIn[32], line 3\u001b[0m\n\u001b[0;32m      1\u001b[0m b \u001b[38;5;241m=\u001b[39m np\u001b[38;5;241m.\u001b[39marray([[\u001b[38;5;241m1\u001b[39m,\u001b[38;5;241m2\u001b[39m,\u001b[38;5;241m3\u001b[39m,\u001b[38;5;241m4\u001b[39m],[\u001b[38;5;241m4\u001b[39m,\u001b[38;5;241m5\u001b[39m,\u001b[38;5;241m6\u001b[39m,\u001b[38;5;241m7\u001b[39m],[\u001b[38;5;241m8\u001b[39m,\u001b[38;5;241m9\u001b[39m,\u001b[38;5;241m10\u001b[39m,\u001b[38;5;241m11\u001b[39m]])\n\u001b[1;32m----> 3\u001b[0m a \u001b[38;5;241m=\u001b[39m np\u001b[38;5;241m.\u001b[39marray([[\u001b[38;5;241m1\u001b[39m,\u001b[38;5;241m2\u001b[39m,\u001b[38;5;241m3\u001b[39m,\u001b[38;5;241m4\u001b[39m],[\u001b[38;5;241m4\u001b[39m,\u001b[38;5;241m5\u001b[39m,\u001b[38;5;241m6\u001b[39m,\u001b[38;5;241m7\u001b[39m,\u001b[38;5;241m5\u001b[39m],[\u001b[38;5;241m8\u001b[39m,\u001b[38;5;241m9\u001b[39m,\u001b[38;5;241m10\u001b[39m,\u001b[38;5;241m11\u001b[39m,\u001b[38;5;241m5\u001b[39m]])\n\u001b[0;32m      4\u001b[0m \u001b[38;5;28mprint\u001b[39m(a)\n",
      "\u001b[1;31mValueError\u001b[0m: setting an array element with a sequence. The requested array has an inhomogeneous shape after 1 dimensions. The detected shape was (3,) + inhomogeneous part."
     ]
    }
   ],
   "source": [
    "b = np.array([[1,2,3,4],[4,5,6,7],[8,9,10,11]])\n",
    "\n",
    "a = np.array([[1,2,3,4],[4,5,6,7,5],[8,9,10,11,5]])\n",
    "print(a)"
   ]
  },
  {
   "cell_type": "code",
   "execution_count": 36,
   "id": "706979c2-b9be-460d-899b-7a286e93cebd",
   "metadata": {},
   "outputs": [
    {
     "data": {
      "text/plain": [
       "array([3, 5])"
      ]
     },
     "execution_count": 36,
     "metadata": {},
     "output_type": "execute_result"
    }
   ],
   "source": [
    "a=np.array([[1,2,3,4,5],\n",
    "      [7,8,9,10,11],\n",
    "      [12,13,14,15,16],\n",
    "      [17,18,19,20,21]\n",
    "      ])\n",
    "a[0,[2,4]]\n"
   ]
  },
  {
   "cell_type": "code",
   "execution_count": 44,
   "id": "a3f1317a-656f-4a7a-aa73-a28cd0520a17",
   "metadata": {},
   "outputs": [
    {
     "name": "stdout",
     "output_type": "stream",
     "text": [
      "[[[ 1  2  3]\n",
      "  [ 4  5  6]\n",
      "  [ 7  8  9]]\n",
      "\n",
      " [[10 11 12]\n",
      "  [13 14 15]\n",
      "  [16 17 18]]]\n"
     ]
    }
   ],
   "source": [
    "#rows or columns = items is 3d third dimension\n",
    "a = np.array([[\n",
    "        [1,2,3],\n",
    "        [4,5,6],\n",
    "        [7,8,9]],\n",
    "        [\n",
    "            [10,11,12],\n",
    "            [13,14,15],\n",
    "            [16,17,18]\n",
    "        ]])\n",
    "print(a)"
   ]
  },
  {
   "cell_type": "code",
   "execution_count": 24,
   "id": "349a3098-c220-4d8c-826b-0e8672fb5a46",
   "metadata": {},
   "outputs": [
    {
     "name": "stdout",
     "output_type": "stream",
     "text": [
      "[[[1 2 3 4]\n",
      "  [4 5 6 7]]\n",
      "\n",
      " [[1 2 3 4]\n",
      "  [4 5 6 7]]]\n"
     ]
    }
   ],
   "source": [
    "#4d array\n",
    "#P.I,R,C\n",
    "import numpy as np\n",
    "a=np.array([[\n",
    "    [1,2,3,4],\n",
    "    [4,5,6,7]\n",
    "],   [\n",
    "    [1,2,3,4],\n",
    "    [4,5,6,7]         \n",
    "]])\n",
    "print(a)"
   ]
  },
  {
   "cell_type": "code",
   "execution_count": null,
   "id": "534128b1-5a12-4f01-beef-199d47f8dbaf",
   "metadata": {},
   "outputs": [],
   "source": []
  },
  {
   "cell_type": "code",
   "execution_count": null,
   "id": "590975b0-0e3d-4d56-ae4c-5f1500532a2c",
   "metadata": {},
   "outputs": [],
   "source": []
  },
  {
   "cell_type": "code",
   "execution_count": 44,
   "id": "87b40e09-2b2b-4298-9501-acd2909b2783",
   "metadata": {},
   "outputs": [],
   "source": [
    "#1d array#\n",
    "d1=np.array([1,2,3,4])\n",
    "#d1.ndim\n"
   ]
  },
  {
   "cell_type": "code",
   "execution_count": 50,
   "id": "381ffca2-8bf6-4979-b783-dce0f4432d81",
   "metadata": {},
   "outputs": [
    {
     "data": {
      "text/plain": [
       "array([[ 2,  4,  6,  8],\n",
       "       [ 6,  8, 10, 12]])"
      ]
     },
     "execution_count": 50,
     "metadata": {},
     "output_type": "execute_result"
    }
   ],
   "source": [
    "d1+d2"
   ]
  },
  {
   "cell_type": "code",
   "execution_count": 48,
   "id": "3cfd58d1-0ee3-43a0-b6bf-58c8bf05c2ed",
   "metadata": {},
   "outputs": [],
   "source": [
    "#2d array\n",
    "d2=np.array([\n",
    "    [1,2,3,4],\n",
    "    [5,6,7,8]\n",
    "])\n",
    "#d1.ndim\n",
    "#d1.shape\n",
    "#d1.size#\n"
   ]
  },
  {
   "cell_type": "code",
   "execution_count": 52,
   "id": "e2975ce7-3011-48fa-bbab-8ee4f62ac801",
   "metadata": {},
   "outputs": [
    {
     "data": {
      "text/plain": [
       "array([[ 2,  4,  6,  8],\n",
       "       [ 6,  8, 10, 12]])"
      ]
     },
     "execution_count": 52,
     "metadata": {},
     "output_type": "execute_result"
    }
   ],
   "source": [
    "#3d array\n",
    "d2+d1"
   ]
  },
  {
   "cell_type": "code",
   "execution_count": 56,
   "id": "5812fecd-3561-4410-99c9-e79d64e8d23f",
   "metadata": {},
   "outputs": [],
   "source": [
    "#3dd\n",
    "d3=np.array([\n",
    "\n",
    "    [\n",
    "        [1,2,3,4],\n",
    "        [5,6,7,8]\n",
    "    ],\n",
    "    [\n",
    "        [1,2,3,4],\n",
    "        [5,6,7,8]\n",
    "    ]\n",
    "])"
   ]
  },
  {
   "cell_type": "code",
   "execution_count": 61,
   "id": "6cb5d480-0cbf-48ac-8ddd-cc9d64d962e7",
   "metadata": {},
   "outputs": [],
   "source": [
    "d4 = np.array(\n",
    " [\n",
    "    [\n",
    "\n",
    "    [\n",
    "        [1,2,3,4],\n",
    "        [5,6,7,8]\n",
    "    ],\n",
    "    [\n",
    "        [1,2,3,4],\n",
    "        [5,6,7,8]\n",
    "    ]\n",
    "],\n",
    "    [\n",
    "\n",
    "    [\n",
    "        [1,2,3,4],\n",
    "        [5,6,7,8]\n",
    "    ],\n",
    "    [\n",
    "        [1,2,3,4],\n",
    "        [5,6,7,8]\n",
    "    ]\n",
    "]\n",
    "    \n",
    "])"
   ]
  },
  {
   "cell_type": "code",
   "execution_count": 63,
   "id": "d6a74729-ec41-4f8b-99b3-25d9c168ee59",
   "metadata": {},
   "outputs": [
    {
     "data": {
      "text/plain": [
       "(2, 2, 2, 4)"
      ]
     },
     "execution_count": 63,
     "metadata": {},
     "output_type": "execute_result"
    }
   ],
   "source": [
    "d4.shape"
   ]
  },
  {
   "cell_type": "code",
   "execution_count": 65,
   "id": "1e64cd7d-d088-433a-9cc9-be438a45cc33",
   "metadata": {},
   "outputs": [],
   "source": [
    "d5 = np.array(\n",
    "    [\n",
    "       [\n",
    "    [\n",
    "\n",
    "    [\n",
    "        [1,2,3,4],\n",
    "        [5,6,7,8]\n",
    "    ],\n",
    "    [\n",
    "        [1,2,3,4],\n",
    "        [5,6,7,8]\n",
    "    ]\n",
    "],\n",
    "    [\n",
    "\n",
    "    [\n",
    "        [1,2,3,4],\n",
    "        [5,6,7,8]\n",
    "    ],\n",
    "    [\n",
    "        [1,2,3,4],\n",
    "        [5,6,7,8]\n",
    "    ]\n",
    "]\n",
    "    \n",
    "],\n",
    "               [\n",
    "    [\n",
    "\n",
    "    [\n",
    "        [1,2,3,4],\n",
    "        [5,6,7,8]\n",
    "    ],\n",
    "    [\n",
    "        [1,2,3,4],\n",
    "        [5,6,7,8]\n",
    "    ]\n",
    "],\n",
    "    [\n",
    "\n",
    "    [\n",
    "        [1,2,3,4],\n",
    "        [5,6,7,8]\n",
    "    ],\n",
    "    [\n",
    "        [1,2,3,4],\n",
    "        [5,6,7,8]\n",
    "    ]\n",
    "]\n",
    "    \n",
    "]\n",
    "        \n",
    "    ])"
   ]
  },
  {
   "cell_type": "code",
   "execution_count": 67,
   "id": "1ccb716b-06e3-48a6-a7de-5664f2a07041",
   "metadata": {},
   "outputs": [
    {
     "data": {
      "text/plain": [
       "(2, 2, 2, 2, 4)"
      ]
     },
     "execution_count": 67,
     "metadata": {},
     "output_type": "execute_result"
    }
   ],
   "source": [
    "d5.shape"
   ]
  },
  {
   "cell_type": "code",
   "execution_count": 69,
   "id": "27c17d68-88ee-4665-855f-dfc955b148a1",
   "metadata": {},
   "outputs": [],
   "source": [
    "#Deep copy in duplicate not change\n",
    "a=np.array([1,2,3,4,5])\n",
    "b=a.copy()"
   ]
  },
  {
   "cell_type": "code",
   "execution_count": 71,
   "id": "2a173e2d-8d2e-4a00-962f-1df5d10f4d9a",
   "metadata": {},
   "outputs": [
    {
     "name": "stdout",
     "output_type": "stream",
     "text": [
      "[2 2 3 4 5]\n",
      "[1 2 3 4 5]\n"
     ]
    }
   ],
   "source": [
    "a[0]=2\n",
    "print(a)\n",
    "print(b)"
   ]
  },
  {
   "cell_type": "code",
   "execution_count": 73,
   "id": "f0bd41d5-9faa-4d98-bcec-4ba067b1dd1e",
   "metadata": {},
   "outputs": [],
   "source": [
    "#shallo copyt()\n",
    "\n",
    "a=np.array([1,2,3,4,5])\n",
    "b=a.view()"
   ]
  },
  {
   "cell_type": "code",
   "execution_count": 77,
   "id": "6acd4541-d62a-4e5d-adb7-65ed0bf4ba9c",
   "metadata": {},
   "outputs": [
    {
     "name": "stdout",
     "output_type": "stream",
     "text": [
      "[3 2 3 4 5]\n",
      "[3 2 3 4 5]\n"
     ]
    }
   ],
   "source": [
    "a[0]=3\n",
    "print(a)\n",
    "print(b)"
   ]
  },
  {
   "cell_type": "code",
   "execution_count": 93,
   "id": "d1844cba-0155-48e7-bfd6-c790bed8e94c",
   "metadata": {},
   "outputs": [
    {
     "name": "stdout",
     "output_type": "stream",
     "text": [
      "7 8\n",
      "14 16\n",
      "21 24\n",
      "28 32\n",
      "35 40\n",
      "42 48\n",
      "49 56\n",
      "56 64\n",
      "63 72\n",
      "70 80\n",
      "77 88\n",
      "84 96\n"
     ]
    }
   ],
   "source": [
    "#box = 3\n",
    "\n",
    "#dropped = \n",
    "\n",
    "#third no of box frogs should be less than 0 \n",
    "\n",
    "\n",
    "for frogs in range(2,100):\n",
    "    for drop in range(2,100):\n",
    "        a=2*frogs-drop\n",
    "        if a<0:\n",
    "            break\n",
    "        #2pull drop\n",
    "        a=2*a-drop\n",
    "        if a<0:\n",
    "            break\n",
    "        #3rd pull drop\n",
    "        a=2*a-drop\n",
    "        if a==0:\n",
    "            print(frogs,drop)\n",
    "        \n",
    "    \n"
   ]
  },
  {
   "cell_type": "code",
   "execution_count": null,
   "id": "f719d9ff-0cce-4e5b-b414-cced9ff3317b",
   "metadata": {},
   "outputs": [],
   "source": []
  },
  {
   "cell_type": "code",
   "execution_count": null,
   "id": "8bcf3288-074f-44f6-87ee-5ea3a4f1b13b",
   "metadata": {},
   "outputs": [],
   "source": []
  },
  {
   "cell_type": "code",
   "execution_count": null,
   "id": "13fe2208-0633-4f03-9a94-5e83bbc5b57a",
   "metadata": {},
   "outputs": [],
   "source": []
  }
 ],
 "metadata": {
  "kernelspec": {
   "display_name": "Python [conda env:base] *",
   "language": "python",
   "name": "conda-base-py"
  },
  "language_info": {
   "codemirror_mode": {
    "name": "ipython",
    "version": 3
   },
   "file_extension": ".py",
   "mimetype": "text/x-python",
   "name": "python",
   "nbconvert_exporter": "python",
   "pygments_lexer": "ipython3",
   "version": "3.12.7"
  }
 },
 "nbformat": 4,
 "nbformat_minor": 5
}
