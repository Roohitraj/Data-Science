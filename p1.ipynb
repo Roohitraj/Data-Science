{
 "cells": [
  {
   "cell_type": "code",
   "execution_count": 1,
   "id": "ba41603c-c38d-452f-8f35-bc44ba7a67e9",
   "metadata": {},
   "outputs": [],
   "source": [
    "import numpy as np\n",
    "import pandas as pd"
   ]
  },
  {
   "cell_type": "code",
   "execution_count": 3,
   "id": "53292a26-1ee6-4ebc-86d7-9adea0d03481",
   "metadata": {},
   "outputs": [],
   "source": [
    "data = {'Name': ['Rohit','Rahul','gaurav','Raghav','Test'],'Age':[12,23,45,67,88],'Bloodgroup': ['A','B','o','A+','-negative'],'Location':['INDIA','USA','Germany','California','Auckland'],'Subject': ['physics', 'chemistry', 'math', 'Bio', None],'Phone No': [123, 345, 678, 910, 234]}"
   ]
  },
  {
   "cell_type": "code",
   "execution_count": 5,
   "id": "e2d5b949-baff-453e-ae47-2845cbe53de5",
   "metadata": {},
   "outputs": [
    {
     "data": {
      "text/plain": [
       "{'Name': ['Rohit', 'Rahul', 'gaurav', 'Raghav', 'Test'],\n",
       " 'Age': [12, 23, 45, 67, 88],\n",
       " 'Bloodgroup': ['A', 'B', 'o', 'A+', '-negative'],\n",
       " 'Location': ['INDIA', 'USA', 'Germany', 'California', 'Auckland'],\n",
       " 'Subject': ['physics', 'chemistry', 'math', 'Bio', None],\n",
       " 'Phone No': [123, 345, 678, 910, 234]}"
      ]
     },
     "execution_count": 5,
     "metadata": {},
     "output_type": "execute_result"
    }
   ],
   "source": [
    "data"
   ]
  },
  {
   "cell_type": "code",
   "execution_count": 7,
   "id": "0e01a04a-3286-4f5b-9e37-f4d65a80e9dc",
   "metadata": {},
   "outputs": [],
   "source": [
    "data = pd.DataFrame(data)"
   ]
  },
  {
   "cell_type": "code",
   "execution_count": 9,
   "id": "156fe432-c00e-4af2-8fb0-1129c028b071",
   "metadata": {},
   "outputs": [
    {
     "data": {
      "text/html": [
       "<div>\n",
       "<style scoped>\n",
       "    .dataframe tbody tr th:only-of-type {\n",
       "        vertical-align: middle;\n",
       "    }\n",
       "\n",
       "    .dataframe tbody tr th {\n",
       "        vertical-align: top;\n",
       "    }\n",
       "\n",
       "    .dataframe thead th {\n",
       "        text-align: right;\n",
       "    }\n",
       "</style>\n",
       "<table border=\"1\" class=\"dataframe\">\n",
       "  <thead>\n",
       "    <tr style=\"text-align: right;\">\n",
       "      <th></th>\n",
       "      <th>Name</th>\n",
       "      <th>Age</th>\n",
       "      <th>Bloodgroup</th>\n",
       "      <th>Location</th>\n",
       "      <th>Subject</th>\n",
       "      <th>Phone No</th>\n",
       "    </tr>\n",
       "  </thead>\n",
       "  <tbody>\n",
       "    <tr>\n",
       "      <th>0</th>\n",
       "      <td>Rohit</td>\n",
       "      <td>12</td>\n",
       "      <td>A</td>\n",
       "      <td>INDIA</td>\n",
       "      <td>physics</td>\n",
       "      <td>123</td>\n",
       "    </tr>\n",
       "    <tr>\n",
       "      <th>1</th>\n",
       "      <td>Rahul</td>\n",
       "      <td>23</td>\n",
       "      <td>B</td>\n",
       "      <td>USA</td>\n",
       "      <td>chemistry</td>\n",
       "      <td>345</td>\n",
       "    </tr>\n",
       "    <tr>\n",
       "      <th>2</th>\n",
       "      <td>gaurav</td>\n",
       "      <td>45</td>\n",
       "      <td>o</td>\n",
       "      <td>Germany</td>\n",
       "      <td>math</td>\n",
       "      <td>678</td>\n",
       "    </tr>\n",
       "    <tr>\n",
       "      <th>3</th>\n",
       "      <td>Raghav</td>\n",
       "      <td>67</td>\n",
       "      <td>A+</td>\n",
       "      <td>California</td>\n",
       "      <td>Bio</td>\n",
       "      <td>910</td>\n",
       "    </tr>\n",
       "    <tr>\n",
       "      <th>4</th>\n",
       "      <td>Test</td>\n",
       "      <td>88</td>\n",
       "      <td>-negative</td>\n",
       "      <td>Auckland</td>\n",
       "      <td>None</td>\n",
       "      <td>234</td>\n",
       "    </tr>\n",
       "  </tbody>\n",
       "</table>\n",
       "</div>"
      ],
      "text/plain": [
       "     Name  Age Bloodgroup    Location    Subject  Phone No\n",
       "0   Rohit   12          A       INDIA    physics       123\n",
       "1   Rahul   23          B         USA  chemistry       345\n",
       "2  gaurav   45          o     Germany       math       678\n",
       "3  Raghav   67         A+  California        Bio       910\n",
       "4    Test   88  -negative    Auckland       None       234"
      ]
     },
     "execution_count": 9,
     "metadata": {},
     "output_type": "execute_result"
    }
   ],
   "source": [
    "data"
   ]
  },
  {
   "cell_type": "code",
   "execution_count": 11,
   "id": "d3120100-c053-4900-93e5-e474f875f165",
   "metadata": {},
   "outputs": [
    {
     "data": {
      "text/plain": [
       "array(['A', 'B', 'o', 'A+', '-negative'], dtype=object)"
      ]
     },
     "execution_count": 11,
     "metadata": {},
     "output_type": "execute_result"
    }
   ],
   "source": [
    "data['Bloodgroup'].unique()"
   ]
  },
  {
   "cell_type": "code",
   "execution_count": 13,
   "id": "7ef5e56f-90e0-4c25-97d2-36f563d00266",
   "metadata": {},
   "outputs": [
    {
     "name": "stdout",
     "output_type": "stream",
     "text": [
      "<class 'pandas.core.frame.DataFrame'>\n",
      "RangeIndex: 5 entries, 0 to 4\n",
      "Data columns (total 6 columns):\n",
      " #   Column      Non-Null Count  Dtype \n",
      "---  ------      --------------  ----- \n",
      " 0   Name        5 non-null      object\n",
      " 1   Age         5 non-null      int64 \n",
      " 2   Bloodgroup  5 non-null      object\n",
      " 3   Location    5 non-null      object\n",
      " 4   Subject     4 non-null      object\n",
      " 5   Phone No    5 non-null      int64 \n",
      "dtypes: int64(2), object(4)\n",
      "memory usage: 372.0+ bytes\n"
     ]
    }
   ],
   "source": [
    "data.info()"
   ]
  },
  {
   "cell_type": "code",
   "execution_count": 8,
   "id": "d5374127-cffa-4785-a344-44383f65abb3",
   "metadata": {},
   "outputs": [
    {
     "data": {
      "text/plain": [
       "Bloodgroup\n",
       "A            1\n",
       "B            1\n",
       "o            1\n",
       "A+           1\n",
       "-negative    1\n",
       "Name: count, dtype: int64"
      ]
     },
     "execution_count": 8,
     "metadata": {},
     "output_type": "execute_result"
    }
   ],
   "source": [
    "data['Bloodgroup'].value_counts()"
   ]
  },
  {
   "cell_type": "code",
   "execution_count": 15,
   "id": "4a86bb54-d6f0-461f-ba8d-16f22fec5408",
   "metadata": {},
   "outputs": [
    {
     "data": {
      "text/html": [
       "<div>\n",
       "<style scoped>\n",
       "    .dataframe tbody tr th:only-of-type {\n",
       "        vertical-align: middle;\n",
       "    }\n",
       "\n",
       "    .dataframe tbody tr th {\n",
       "        vertical-align: top;\n",
       "    }\n",
       "\n",
       "    .dataframe thead th {\n",
       "        text-align: right;\n",
       "    }\n",
       "</style>\n",
       "<table border=\"1\" class=\"dataframe\">\n",
       "  <thead>\n",
       "    <tr style=\"text-align: right;\">\n",
       "      <th></th>\n",
       "      <th>Age</th>\n",
       "      <th>Phone No</th>\n",
       "    </tr>\n",
       "  </thead>\n",
       "  <tbody>\n",
       "    <tr>\n",
       "      <th>count</th>\n",
       "      <td>5.000000</td>\n",
       "      <td>5.000000</td>\n",
       "    </tr>\n",
       "    <tr>\n",
       "      <th>mean</th>\n",
       "      <td>47.000000</td>\n",
       "      <td>458.000000</td>\n",
       "    </tr>\n",
       "    <tr>\n",
       "      <th>std</th>\n",
       "      <td>31.168895</td>\n",
       "      <td>327.060392</td>\n",
       "    </tr>\n",
       "    <tr>\n",
       "      <th>min</th>\n",
       "      <td>12.000000</td>\n",
       "      <td>123.000000</td>\n",
       "    </tr>\n",
       "    <tr>\n",
       "      <th>25%</th>\n",
       "      <td>23.000000</td>\n",
       "      <td>234.000000</td>\n",
       "    </tr>\n",
       "    <tr>\n",
       "      <th>50%</th>\n",
       "      <td>45.000000</td>\n",
       "      <td>345.000000</td>\n",
       "    </tr>\n",
       "    <tr>\n",
       "      <th>75%</th>\n",
       "      <td>67.000000</td>\n",
       "      <td>678.000000</td>\n",
       "    </tr>\n",
       "    <tr>\n",
       "      <th>max</th>\n",
       "      <td>88.000000</td>\n",
       "      <td>910.000000</td>\n",
       "    </tr>\n",
       "  </tbody>\n",
       "</table>\n",
       "</div>"
      ],
      "text/plain": [
       "             Age    Phone No\n",
       "count   5.000000    5.000000\n",
       "mean   47.000000  458.000000\n",
       "std    31.168895  327.060392\n",
       "min    12.000000  123.000000\n",
       "25%    23.000000  234.000000\n",
       "50%    45.000000  345.000000\n",
       "75%    67.000000  678.000000\n",
       "max    88.000000  910.000000"
      ]
     },
     "execution_count": 15,
     "metadata": {},
     "output_type": "execute_result"
    }
   ],
   "source": [
    "data.describe()"
   ]
  },
  {
   "cell_type": "code",
   "execution_count": 10,
   "id": "396f1b05-8ce8-4327-8c90-558f7e6867f2",
   "metadata": {},
   "outputs": [],
   "source": [
    "id = [1,2,3,4,5]\n",
    "id1=pd.Series(id)"
   ]
  },
  {
   "cell_type": "code",
   "execution_count": 35,
   "id": "61ea0b05-266a-4f9d-b71d-e0863002d9e5",
   "metadata": {},
   "outputs": [
    {
     "data": {
      "text/html": [
       "<div>\n",
       "<style scoped>\n",
       "    .dataframe tbody tr th:only-of-type {\n",
       "        vertical-align: middle;\n",
       "    }\n",
       "\n",
       "    .dataframe tbody tr th {\n",
       "        vertical-align: top;\n",
       "    }\n",
       "\n",
       "    .dataframe thead th {\n",
       "        text-align: right;\n",
       "    }\n",
       "</style>\n",
       "<table border=\"1\" class=\"dataframe\">\n",
       "  <thead>\n",
       "    <tr style=\"text-align: right;\">\n",
       "      <th></th>\n",
       "      <th>Name</th>\n",
       "      <th>Age</th>\n",
       "      <th>Bloodgroup</th>\n",
       "      <th>Location</th>\n",
       "      <th>Subject</th>\n",
       "      <th>Phone No</th>\n",
       "    </tr>\n",
       "  </thead>\n",
       "  <tbody>\n",
       "    <tr>\n",
       "      <th>0</th>\n",
       "      <td>Rohit</td>\n",
       "      <td>12</td>\n",
       "      <td>A</td>\n",
       "      <td>INDIA</td>\n",
       "      <td>physics</td>\n",
       "      <td>123</td>\n",
       "    </tr>\n",
       "    <tr>\n",
       "      <th>1</th>\n",
       "      <td>Rahul</td>\n",
       "      <td>23</td>\n",
       "      <td>B</td>\n",
       "      <td>USA</td>\n",
       "      <td>chemistry</td>\n",
       "      <td>345</td>\n",
       "    </tr>\n",
       "    <tr>\n",
       "      <th>2</th>\n",
       "      <td>gaurav</td>\n",
       "      <td>45</td>\n",
       "      <td>o</td>\n",
       "      <td>Germany</td>\n",
       "      <td>math</td>\n",
       "      <td>678</td>\n",
       "    </tr>\n",
       "    <tr>\n",
       "      <th>3</th>\n",
       "      <td>Raghav</td>\n",
       "      <td>67</td>\n",
       "      <td>A+</td>\n",
       "      <td>California</td>\n",
       "      <td>Bio</td>\n",
       "      <td>910</td>\n",
       "    </tr>\n",
       "    <tr>\n",
       "      <th>4</th>\n",
       "      <td>Test</td>\n",
       "      <td>88</td>\n",
       "      <td>-negative</td>\n",
       "      <td>Auckland</td>\n",
       "      <td>None</td>\n",
       "      <td>234</td>\n",
       "    </tr>\n",
       "  </tbody>\n",
       "</table>\n",
       "</div>"
      ],
      "text/plain": [
       "     Name  Age Bloodgroup    Location    Subject  Phone No\n",
       "0   Rohit   12          A       INDIA    physics       123\n",
       "1   Rahul   23          B         USA  chemistry       345\n",
       "2  gaurav   45          o     Germany       math       678\n",
       "3  Raghav   67         A+  California        Bio       910\n",
       "4    Test   88  -negative    Auckland       None       234"
      ]
     },
     "execution_count": 35,
     "metadata": {},
     "output_type": "execute_result"
    }
   ],
   "source": [
    "data"
   ]
  },
  {
   "cell_type": "code",
   "execution_count": 12,
   "id": "f29b5965-0b96-43a3-a538-eddd7a6bbd78",
   "metadata": {},
   "outputs": [
    {
     "data": {
      "text/plain": [
       "0    1\n",
       "1    2\n",
       "2    3\n",
       "3    4\n",
       "4    5\n",
       "dtype: int64"
      ]
     },
     "execution_count": 12,
     "metadata": {},
     "output_type": "execute_result"
    }
   ],
   "source": [
    "id1"
   ]
  },
  {
   "cell_type": "code",
   "execution_count": 31,
   "id": "3d8e4a56-a025-4f7b-a0be-a5fd352cc15d",
   "metadata": {},
   "outputs": [
    {
     "ename": "NameError",
     "evalue": "name 'id1' is not defined",
     "output_type": "error",
     "traceback": [
      "\u001b[1;31m---------------------------------------------------------------------------\u001b[0m",
      "\u001b[1;31mNameError\u001b[0m                                 Traceback (most recent call last)",
      "Cell \u001b[1;32mIn[31], line 1\u001b[0m\n\u001b[1;32m----> 1\u001b[0m datas\u001b[38;5;241m=\u001b[39mpd\u001b[38;5;241m.\u001b[39mDataFrame(data,index\u001b[38;5;241m=\u001b[39mid1)\n",
      "\u001b[1;31mNameError\u001b[0m: name 'id1' is not defined"
     ]
    }
   ],
   "source": [
    "\n"
   ]
  },
  {
   "cell_type": "code",
   "execution_count": 33,
   "id": "c66ad67a-cf70-4710-b3dc-2d7b2e44c795",
   "metadata": {},
   "outputs": [
    {
     "data": {
      "text/html": [
       "<div>\n",
       "<style scoped>\n",
       "    .dataframe tbody tr th:only-of-type {\n",
       "        vertical-align: middle;\n",
       "    }\n",
       "\n",
       "    .dataframe tbody tr th {\n",
       "        vertical-align: top;\n",
       "    }\n",
       "\n",
       "    .dataframe thead th {\n",
       "        text-align: right;\n",
       "    }\n",
       "</style>\n",
       "<table border=\"1\" class=\"dataframe\">\n",
       "  <thead>\n",
       "    <tr style=\"text-align: right;\">\n",
       "      <th></th>\n",
       "      <th>Name</th>\n",
       "      <th>Age</th>\n",
       "      <th>Bloodgroup</th>\n",
       "      <th>Location</th>\n",
       "      <th>Subject</th>\n",
       "      <th>Phone No</th>\n",
       "    </tr>\n",
       "  </thead>\n",
       "  <tbody>\n",
       "    <tr>\n",
       "      <th>a</th>\n",
       "      <td>NaN</td>\n",
       "      <td>NaN</td>\n",
       "      <td>NaN</td>\n",
       "      <td>NaN</td>\n",
       "      <td>NaN</td>\n",
       "      <td>NaN</td>\n",
       "    </tr>\n",
       "    <tr>\n",
       "      <th>b</th>\n",
       "      <td>NaN</td>\n",
       "      <td>NaN</td>\n",
       "      <td>NaN</td>\n",
       "      <td>NaN</td>\n",
       "      <td>NaN</td>\n",
       "      <td>NaN</td>\n",
       "    </tr>\n",
       "    <tr>\n",
       "      <th>c</th>\n",
       "      <td>NaN</td>\n",
       "      <td>NaN</td>\n",
       "      <td>NaN</td>\n",
       "      <td>NaN</td>\n",
       "      <td>NaN</td>\n",
       "      <td>NaN</td>\n",
       "    </tr>\n",
       "    <tr>\n",
       "      <th>d</th>\n",
       "      <td>NaN</td>\n",
       "      <td>NaN</td>\n",
       "      <td>NaN</td>\n",
       "      <td>NaN</td>\n",
       "      <td>NaN</td>\n",
       "      <td>NaN</td>\n",
       "    </tr>\n",
       "    <tr>\n",
       "      <th>e</th>\n",
       "      <td>NaN</td>\n",
       "      <td>NaN</td>\n",
       "      <td>NaN</td>\n",
       "      <td>NaN</td>\n",
       "      <td>NaN</td>\n",
       "      <td>NaN</td>\n",
       "    </tr>\n",
       "  </tbody>\n",
       "</table>\n",
       "</div>"
      ],
      "text/plain": [
       "  Name  Age Bloodgroup Location Subject  Phone No\n",
       "a  NaN  NaN        NaN      NaN     NaN       NaN\n",
       "b  NaN  NaN        NaN      NaN     NaN       NaN\n",
       "c  NaN  NaN        NaN      NaN     NaN       NaN\n",
       "d  NaN  NaN        NaN      NaN     NaN       NaN\n",
       "e  NaN  NaN        NaN      NaN     NaN       NaN"
      ]
     },
     "execution_count": 33,
     "metadata": {},
     "output_type": "execute_result"
    }
   ],
   "source": [
    "datas"
   ]
  },
  {
   "cell_type": "code",
   "execution_count": 19,
   "id": "41da6415-ca19-435c-8153-0c2a9bb0b1b4",
   "metadata": {},
   "outputs": [],
   "source": [
    "datas = pd.DataFrame(data,index=['a','b','c','d','e'])"
   ]
  },
  {
   "cell_type": "code",
   "execution_count": 21,
   "id": "44081aea-f80d-4296-acf2-298667a99750",
   "metadata": {},
   "outputs": [
    {
     "data": {
      "text/html": [
       "<div>\n",
       "<style scoped>\n",
       "    .dataframe tbody tr th:only-of-type {\n",
       "        vertical-align: middle;\n",
       "    }\n",
       "\n",
       "    .dataframe tbody tr th {\n",
       "        vertical-align: top;\n",
       "    }\n",
       "\n",
       "    .dataframe thead th {\n",
       "        text-align: right;\n",
       "    }\n",
       "</style>\n",
       "<table border=\"1\" class=\"dataframe\">\n",
       "  <thead>\n",
       "    <tr style=\"text-align: right;\">\n",
       "      <th></th>\n",
       "      <th>Name</th>\n",
       "      <th>Age</th>\n",
       "      <th>Bloodgroup</th>\n",
       "      <th>Location</th>\n",
       "      <th>Subject</th>\n",
       "      <th>Phone No</th>\n",
       "    </tr>\n",
       "  </thead>\n",
       "  <tbody>\n",
       "    <tr>\n",
       "      <th>a</th>\n",
       "      <td>NaN</td>\n",
       "      <td>NaN</td>\n",
       "      <td>NaN</td>\n",
       "      <td>NaN</td>\n",
       "      <td>NaN</td>\n",
       "      <td>NaN</td>\n",
       "    </tr>\n",
       "    <tr>\n",
       "      <th>b</th>\n",
       "      <td>NaN</td>\n",
       "      <td>NaN</td>\n",
       "      <td>NaN</td>\n",
       "      <td>NaN</td>\n",
       "      <td>NaN</td>\n",
       "      <td>NaN</td>\n",
       "    </tr>\n",
       "    <tr>\n",
       "      <th>c</th>\n",
       "      <td>NaN</td>\n",
       "      <td>NaN</td>\n",
       "      <td>NaN</td>\n",
       "      <td>NaN</td>\n",
       "      <td>NaN</td>\n",
       "      <td>NaN</td>\n",
       "    </tr>\n",
       "    <tr>\n",
       "      <th>d</th>\n",
       "      <td>NaN</td>\n",
       "      <td>NaN</td>\n",
       "      <td>NaN</td>\n",
       "      <td>NaN</td>\n",
       "      <td>NaN</td>\n",
       "      <td>NaN</td>\n",
       "    </tr>\n",
       "    <tr>\n",
       "      <th>e</th>\n",
       "      <td>NaN</td>\n",
       "      <td>NaN</td>\n",
       "      <td>NaN</td>\n",
       "      <td>NaN</td>\n",
       "      <td>NaN</td>\n",
       "      <td>NaN</td>\n",
       "    </tr>\n",
       "  </tbody>\n",
       "</table>\n",
       "</div>"
      ],
      "text/plain": [
       "  Name  Age Bloodgroup Location Subject  Phone No\n",
       "a  NaN  NaN        NaN      NaN     NaN       NaN\n",
       "b  NaN  NaN        NaN      NaN     NaN       NaN\n",
       "c  NaN  NaN        NaN      NaN     NaN       NaN\n",
       "d  NaN  NaN        NaN      NaN     NaN       NaN\n",
       "e  NaN  NaN        NaN      NaN     NaN       NaN"
      ]
     },
     "execution_count": 21,
     "metadata": {},
     "output_type": "execute_result"
    }
   ],
   "source": [
    "datas"
   ]
  },
  {
   "cell_type": "code",
   "execution_count": 39,
   "id": "4b034235-c492-474c-9d05-9eebbe96dd47",
   "metadata": {},
   "outputs": [
    {
     "data": {
      "text/html": [
       "<div>\n",
       "<style scoped>\n",
       "    .dataframe tbody tr th:only-of-type {\n",
       "        vertical-align: middle;\n",
       "    }\n",
       "\n",
       "    .dataframe tbody tr th {\n",
       "        vertical-align: top;\n",
       "    }\n",
       "\n",
       "    .dataframe thead th {\n",
       "        text-align: right;\n",
       "    }\n",
       "</style>\n",
       "<table border=\"1\" class=\"dataframe\">\n",
       "  <thead>\n",
       "    <tr style=\"text-align: right;\">\n",
       "      <th></th>\n",
       "      <th>Name</th>\n",
       "      <th>Age</th>\n",
       "      <th>Bloodgroup</th>\n",
       "      <th>Location</th>\n",
       "      <th>Subject</th>\n",
       "      <th>Phone No</th>\n",
       "    </tr>\n",
       "  </thead>\n",
       "  <tbody>\n",
       "    <tr>\n",
       "      <th>0</th>\n",
       "      <td>Rohit</td>\n",
       "      <td>12</td>\n",
       "      <td>A</td>\n",
       "      <td>INDIA</td>\n",
       "      <td>physics</td>\n",
       "      <td>123</td>\n",
       "    </tr>\n",
       "    <tr>\n",
       "      <th>1</th>\n",
       "      <td>Rahul</td>\n",
       "      <td>23</td>\n",
       "      <td>B</td>\n",
       "      <td>USA</td>\n",
       "      <td>chemistry</td>\n",
       "      <td>345</td>\n",
       "    </tr>\n",
       "    <tr>\n",
       "      <th>2</th>\n",
       "      <td>gaurav</td>\n",
       "      <td>45</td>\n",
       "      <td>o</td>\n",
       "      <td>Germany</td>\n",
       "      <td>math</td>\n",
       "      <td>678</td>\n",
       "    </tr>\n",
       "    <tr>\n",
       "      <th>3</th>\n",
       "      <td>Raghav</td>\n",
       "      <td>67</td>\n",
       "      <td>A+</td>\n",
       "      <td>California</td>\n",
       "      <td>Bio</td>\n",
       "      <td>910</td>\n",
       "    </tr>\n",
       "    <tr>\n",
       "      <th>4</th>\n",
       "      <td>Test</td>\n",
       "      <td>88</td>\n",
       "      <td>-negative</td>\n",
       "      <td>Auckland</td>\n",
       "      <td>None</td>\n",
       "      <td>234</td>\n",
       "    </tr>\n",
       "  </tbody>\n",
       "</table>\n",
       "</div>"
      ],
      "text/plain": [
       "     Name  Age Bloodgroup    Location    Subject  Phone No\n",
       "0   Rohit   12          A       INDIA    physics       123\n",
       "1   Rahul   23          B         USA  chemistry       345\n",
       "2  gaurav   45          o     Germany       math       678\n",
       "3  Raghav   67         A+  California        Bio       910\n",
       "4    Test   88  -negative    Auckland       None       234"
      ]
     },
     "execution_count": 39,
     "metadata": {},
     "output_type": "execute_result"
    }
   ],
   "source": [
    "data"
   ]
  },
  {
   "cell_type": "code",
   "execution_count": 43,
   "id": "0f4426a6-afb1-408a-8201-abb8f6eabb4c",
   "metadata": {},
   "outputs": [
    {
     "data": {
      "text/html": [
       "<div>\n",
       "<style scoped>\n",
       "    .dataframe tbody tr th:only-of-type {\n",
       "        vertical-align: middle;\n",
       "    }\n",
       "\n",
       "    .dataframe tbody tr th {\n",
       "        vertical-align: top;\n",
       "    }\n",
       "\n",
       "    .dataframe thead th {\n",
       "        text-align: right;\n",
       "    }\n",
       "</style>\n",
       "<table border=\"1\" class=\"dataframe\">\n",
       "  <thead>\n",
       "    <tr style=\"text-align: right;\">\n",
       "      <th></th>\n",
       "      <th>Name</th>\n",
       "      <th>Phone No</th>\n",
       "    </tr>\n",
       "  </thead>\n",
       "  <tbody>\n",
       "    <tr>\n",
       "      <th>2</th>\n",
       "      <td>gaurav</td>\n",
       "      <td>678</td>\n",
       "    </tr>\n",
       "    <tr>\n",
       "      <th>4</th>\n",
       "      <td>Test</td>\n",
       "      <td>234</td>\n",
       "    </tr>\n",
       "  </tbody>\n",
       "</table>\n",
       "</div>"
      ],
      "text/plain": [
       "     Name  Phone No\n",
       "2  gaurav       678\n",
       "4    Test       234"
      ]
     },
     "execution_count": 43,
     "metadata": {},
     "output_type": "execute_result"
    }
   ],
   "source": [
    "data.loc[[2,4],['Name','Phone No']]\n"
   ]
  },
  {
   "cell_type": "code",
   "execution_count": 51,
   "id": "efaba8ec-84f8-4c77-ac66-75959b9794a1",
   "metadata": {},
   "outputs": [
    {
     "data": {
      "text/html": [
       "<div>\n",
       "<style scoped>\n",
       "    .dataframe tbody tr th:only-of-type {\n",
       "        vertical-align: middle;\n",
       "    }\n",
       "\n",
       "    .dataframe tbody tr th {\n",
       "        vertical-align: top;\n",
       "    }\n",
       "\n",
       "    .dataframe thead th {\n",
       "        text-align: right;\n",
       "    }\n",
       "</style>\n",
       "<table border=\"1\" class=\"dataframe\">\n",
       "  <thead>\n",
       "    <tr style=\"text-align: right;\">\n",
       "      <th></th>\n",
       "      <th>Location</th>\n",
       "      <th>Subject</th>\n",
       "    </tr>\n",
       "  </thead>\n",
       "  <tbody>\n",
       "    <tr>\n",
       "      <th>3</th>\n",
       "      <td>California</td>\n",
       "      <td>Bio</td>\n",
       "    </tr>\n",
       "    <tr>\n",
       "      <th>4</th>\n",
       "      <td>Auckland</td>\n",
       "      <td>None</td>\n",
       "    </tr>\n",
       "  </tbody>\n",
       "</table>\n",
       "</div>"
      ],
      "text/plain": [
       "     Location Subject\n",
       "3  California     Bio\n",
       "4    Auckland    None"
      ]
     },
     "execution_count": 51,
     "metadata": {},
     "output_type": "execute_result"
    }
   ],
   "source": [
    "data.loc[[3,4],['Location','Subject']]"
   ]
  },
  {
   "cell_type": "code",
   "execution_count": null,
   "id": "badc50a6-f4a6-46f7-b98a-bc8b04c3fe21",
   "metadata": {},
   "outputs": [],
   "source": [
    "datas"
   ]
  },
  {
   "cell_type": "code",
   "execution_count": 53,
   "id": "7ce53f9c-9250-4503-9462-88b96e73cd36",
   "metadata": {},
   "outputs": [
    {
     "data": {
      "text/html": [
       "<div>\n",
       "<style scoped>\n",
       "    .dataframe tbody tr th:only-of-type {\n",
       "        vertical-align: middle;\n",
       "    }\n",
       "\n",
       "    .dataframe tbody tr th {\n",
       "        vertical-align: top;\n",
       "    }\n",
       "\n",
       "    .dataframe thead th {\n",
       "        text-align: right;\n",
       "    }\n",
       "</style>\n",
       "<table border=\"1\" class=\"dataframe\">\n",
       "  <thead>\n",
       "    <tr style=\"text-align: right;\">\n",
       "      <th></th>\n",
       "      <th>Bloodgroup</th>\n",
       "      <th>Location</th>\n",
       "    </tr>\n",
       "  </thead>\n",
       "  <tbody>\n",
       "    <tr>\n",
       "      <th>1</th>\n",
       "      <td>B</td>\n",
       "      <td>USA</td>\n",
       "    </tr>\n",
       "    <tr>\n",
       "      <th>2</th>\n",
       "      <td>o</td>\n",
       "      <td>Germany</td>\n",
       "    </tr>\n",
       "  </tbody>\n",
       "</table>\n",
       "</div>"
      ],
      "text/plain": [
       "  Bloodgroup Location\n",
       "1          B      USA\n",
       "2          o  Germany"
      ]
     },
     "execution_count": 53,
     "metadata": {},
     "output_type": "execute_result"
    }
   ],
   "source": [
    "data.iloc[[1,2],[2,3]]\n"
   ]
  },
  {
   "cell_type": "code",
   "execution_count": null,
   "id": "7f9c9533-3cce-4931-becb-268cb7e6b793",
   "metadata": {},
   "outputs": [],
   "source": [
    "datas.loc[datas['Age']>45]"
   ]
  },
  {
   "cell_type": "code",
   "execution_count": null,
   "id": "1ec72caf-1292-4cef-87da-c3a0b1e60a4c",
   "metadata": {},
   "outputs": [],
   "source": [
    "datas.loc[datas['Name']!='A']"
   ]
  },
  {
   "cell_type": "code",
   "execution_count": 55,
   "id": "a8043772-addd-4de8-a315-973fad95bd53",
   "metadata": {},
   "outputs": [
    {
     "data": {
      "text/plain": [
       "Name          0\n",
       "Age           0\n",
       "Bloodgroup    0\n",
       "Location      0\n",
       "Subject       1\n",
       "Phone No      0\n",
       "dtype: int64"
      ]
     },
     "execution_count": 55,
     "metadata": {},
     "output_type": "execute_result"
    }
   ],
   "source": [
    "data.isnull().sum()"
   ]
  },
  {
   "cell_type": "code",
   "execution_count": null,
   "id": "b198cfbb-6045-454f-bd29-6c94ae2f9569",
   "metadata": {},
   "outputs": [],
   "source": [
    "datas.notnull().sum()"
   ]
  },
  {
   "cell_type": "code",
   "execution_count": 73,
   "id": "d66aae0d-b2b8-4261-9b6c-4e4f5428b6a1",
   "metadata": {},
   "outputs": [
    {
     "data": {
      "text/html": [
       "<div>\n",
       "<style scoped>\n",
       "    .dataframe tbody tr th:only-of-type {\n",
       "        vertical-align: middle;\n",
       "    }\n",
       "\n",
       "    .dataframe tbody tr th {\n",
       "        vertical-align: top;\n",
       "    }\n",
       "\n",
       "    .dataframe thead th {\n",
       "        text-align: right;\n",
       "    }\n",
       "</style>\n",
       "<table border=\"1\" class=\"dataframe\">\n",
       "  <thead>\n",
       "    <tr style=\"text-align: right;\">\n",
       "      <th></th>\n",
       "      <th>Name</th>\n",
       "      <th>Age</th>\n",
       "      <th>Bloodgroup</th>\n",
       "      <th>Location</th>\n",
       "      <th>Subject</th>\n",
       "      <th>Phone No</th>\n",
       "    </tr>\n",
       "  </thead>\n",
       "  <tbody>\n",
       "    <tr>\n",
       "      <th>0</th>\n",
       "      <td>Rohit</td>\n",
       "      <td>12</td>\n",
       "      <td>A</td>\n",
       "      <td>INDIA</td>\n",
       "      <td>physics</td>\n",
       "      <td>123</td>\n",
       "    </tr>\n",
       "    <tr>\n",
       "      <th>1</th>\n",
       "      <td>Rahul</td>\n",
       "      <td>23</td>\n",
       "      <td>B</td>\n",
       "      <td>USA</td>\n",
       "      <td>chemistry</td>\n",
       "      <td>345</td>\n",
       "    </tr>\n",
       "    <tr>\n",
       "      <th>2</th>\n",
       "      <td>gaurav</td>\n",
       "      <td>45</td>\n",
       "      <td>o</td>\n",
       "      <td>Germany</td>\n",
       "      <td>math</td>\n",
       "      <td>678</td>\n",
       "    </tr>\n",
       "    <tr>\n",
       "      <th>3</th>\n",
       "      <td>Raghav</td>\n",
       "      <td>67</td>\n",
       "      <td>A+</td>\n",
       "      <td>California</td>\n",
       "      <td>Bio</td>\n",
       "      <td>910</td>\n",
       "    </tr>\n",
       "    <tr>\n",
       "      <th>4</th>\n",
       "      <td>Test</td>\n",
       "      <td>88</td>\n",
       "      <td>-negative</td>\n",
       "      <td>Auckland</td>\n",
       "      <td>None</td>\n",
       "      <td>234</td>\n",
       "    </tr>\n",
       "  </tbody>\n",
       "</table>\n",
       "</div>"
      ],
      "text/plain": [
       "     Name  Age Bloodgroup    Location    Subject  Phone No\n",
       "0   Rohit   12          A       INDIA    physics       123\n",
       "1   Rahul   23          B         USA  chemistry       345\n",
       "2  gaurav   45          o     Germany       math       678\n",
       "3  Raghav   67         A+  California        Bio       910\n",
       "4    Test   88  -negative    Auckland       None       234"
      ]
     },
     "execution_count": 73,
     "metadata": {},
     "output_type": "execute_result"
    }
   ],
   "source": [
    "data.dropna(axis=1,thresh=3)"
   ]
  },
  {
   "cell_type": "code",
   "execution_count": 57,
   "id": "3d9e6d49-898b-4a6d-9cde-32568fd11a28",
   "metadata": {},
   "outputs": [
    {
     "data": {
      "text/html": [
       "<div>\n",
       "<style scoped>\n",
       "    .dataframe tbody tr th:only-of-type {\n",
       "        vertical-align: middle;\n",
       "    }\n",
       "\n",
       "    .dataframe tbody tr th {\n",
       "        vertical-align: top;\n",
       "    }\n",
       "\n",
       "    .dataframe thead th {\n",
       "        text-align: right;\n",
       "    }\n",
       "</style>\n",
       "<table border=\"1\" class=\"dataframe\">\n",
       "  <thead>\n",
       "    <tr style=\"text-align: right;\">\n",
       "      <th></th>\n",
       "      <th>Name</th>\n",
       "      <th>Age</th>\n",
       "      <th>Bloodgroup</th>\n",
       "      <th>Location</th>\n",
       "      <th>Subject</th>\n",
       "      <th>Phone No</th>\n",
       "    </tr>\n",
       "  </thead>\n",
       "  <tbody>\n",
       "    <tr>\n",
       "      <th>0</th>\n",
       "      <td>Rohit</td>\n",
       "      <td>12</td>\n",
       "      <td>A</td>\n",
       "      <td>INDIA</td>\n",
       "      <td>physics</td>\n",
       "      <td>123</td>\n",
       "    </tr>\n",
       "    <tr>\n",
       "      <th>1</th>\n",
       "      <td>Rahul</td>\n",
       "      <td>23</td>\n",
       "      <td>B</td>\n",
       "      <td>USA</td>\n",
       "      <td>chemistry</td>\n",
       "      <td>345</td>\n",
       "    </tr>\n",
       "    <tr>\n",
       "      <th>2</th>\n",
       "      <td>gaurav</td>\n",
       "      <td>45</td>\n",
       "      <td>o</td>\n",
       "      <td>Germany</td>\n",
       "      <td>math</td>\n",
       "      <td>678</td>\n",
       "    </tr>\n",
       "    <tr>\n",
       "      <th>3</th>\n",
       "      <td>Raghav</td>\n",
       "      <td>67</td>\n",
       "      <td>A+</td>\n",
       "      <td>California</td>\n",
       "      <td>Bio</td>\n",
       "      <td>910</td>\n",
       "    </tr>\n",
       "  </tbody>\n",
       "</table>\n",
       "</div>"
      ],
      "text/plain": [
       "     Name  Age Bloodgroup    Location    Subject  Phone No\n",
       "0   Rohit   12          A       INDIA    physics       123\n",
       "1   Rahul   23          B         USA  chemistry       345\n",
       "2  gaurav   45          o     Germany       math       678\n",
       "3  Raghav   67         A+  California        Bio       910"
      ]
     },
     "execution_count": 57,
     "metadata": {},
     "output_type": "execute_result"
    }
   ],
   "source": [
    "data.dropna(axis=0,how='any')"
   ]
  },
  {
   "cell_type": "code",
   "execution_count": null,
   "id": "bd6e07af-9257-4b2d-a0e5-bb0bacd19bae",
   "metadata": {},
   "outputs": [],
   "source": [
    "data2 = data"
   ]
  },
  {
   "cell_type": "code",
   "execution_count": 8,
   "id": "62adbed9-5368-468e-8e31-a20b2c5b71fe",
   "metadata": {},
   "outputs": [],
   "source": [
    "dict1 = {\"Name\":['Rohit','Rohan','vishnu','shubh','shiva'],\"marks\":[92,34,24,17,46],\"city\":['rampur','kolkata','Barelly','Antatica','bhilapuri']}"
   ]
  },
  {
   "cell_type": "code",
   "execution_count": 10,
   "id": "c053c9da-e150-49fb-ad48-2a48bb805dbd",
   "metadata": {},
   "outputs": [
    {
     "data": {
      "text/plain": [
       "{'Name': ['Rohit', 'Rohan', 'vishnu', 'shubh', 'shiva'],\n",
       " 'marks': [92, 34, 24, 17, 46],\n",
       " 'city': ['rampur', 'kolkata', 'Barelly', 'Antatica', 'bhilapuri']}"
      ]
     },
     "execution_count": 10,
     "metadata": {},
     "output_type": "execute_result"
    }
   ],
   "source": [
    "dict1"
   ]
  },
  {
   "cell_type": "code",
   "execution_count": 12,
   "id": "92359b58-9205-43c1-bfc3-a8ca59e639f8",
   "metadata": {},
   "outputs": [],
   "source": [
    "dfs = pd.DataFrame(dict1)"
   ]
  },
  {
   "cell_type": "code",
   "execution_count": 14,
   "id": "48e077f3-ae92-4acd-8076-5af3800ce2c9",
   "metadata": {},
   "outputs": [
    {
     "data": {
      "text/html": [
       "<div>\n",
       "<style scoped>\n",
       "    .dataframe tbody tr th:only-of-type {\n",
       "        vertical-align: middle;\n",
       "    }\n",
       "\n",
       "    .dataframe tbody tr th {\n",
       "        vertical-align: top;\n",
       "    }\n",
       "\n",
       "    .dataframe thead th {\n",
       "        text-align: right;\n",
       "    }\n",
       "</style>\n",
       "<table border=\"1\" class=\"dataframe\">\n",
       "  <thead>\n",
       "    <tr style=\"text-align: right;\">\n",
       "      <th></th>\n",
       "      <th>Name</th>\n",
       "      <th>marks</th>\n",
       "      <th>city</th>\n",
       "    </tr>\n",
       "  </thead>\n",
       "  <tbody>\n",
       "    <tr>\n",
       "      <th>0</th>\n",
       "      <td>Rohit</td>\n",
       "      <td>92</td>\n",
       "      <td>rampur</td>\n",
       "    </tr>\n",
       "    <tr>\n",
       "      <th>1</th>\n",
       "      <td>Rohan</td>\n",
       "      <td>34</td>\n",
       "      <td>kolkata</td>\n",
       "    </tr>\n",
       "    <tr>\n",
       "      <th>2</th>\n",
       "      <td>vishnu</td>\n",
       "      <td>24</td>\n",
       "      <td>Barelly</td>\n",
       "    </tr>\n",
       "    <tr>\n",
       "      <th>3</th>\n",
       "      <td>shubh</td>\n",
       "      <td>17</td>\n",
       "      <td>Antatica</td>\n",
       "    </tr>\n",
       "    <tr>\n",
       "      <th>4</th>\n",
       "      <td>shiva</td>\n",
       "      <td>46</td>\n",
       "      <td>bhilapuri</td>\n",
       "    </tr>\n",
       "  </tbody>\n",
       "</table>\n",
       "</div>"
      ],
      "text/plain": [
       "     Name  marks       city\n",
       "0   Rohit     92     rampur\n",
       "1   Rohan     34    kolkata\n",
       "2  vishnu     24    Barelly\n",
       "3   shubh     17   Antatica\n",
       "4   shiva     46  bhilapuri"
      ]
     },
     "execution_count": 14,
     "metadata": {},
     "output_type": "execute_result"
    }
   ],
   "source": [
    "dfs"
   ]
  },
  {
   "cell_type": "code",
   "execution_count": 18,
   "id": "0abc17ee-e39f-4c1c-bfa0-e724eb664611",
   "metadata": {},
   "outputs": [],
   "source": [
    "dfs.to_csv('friends.csv',index=False) #remove index in csv file"
   ]
  },
  {
   "cell_type": "code",
   "execution_count": 20,
   "id": "4408644a-e15a-4917-a9d4-033e051a40af",
   "metadata": {},
   "outputs": [
    {
     "data": {
      "text/html": [
       "<div>\n",
       "<style scoped>\n",
       "    .dataframe tbody tr th:only-of-type {\n",
       "        vertical-align: middle;\n",
       "    }\n",
       "\n",
       "    .dataframe tbody tr th {\n",
       "        vertical-align: top;\n",
       "    }\n",
       "\n",
       "    .dataframe thead th {\n",
       "        text-align: right;\n",
       "    }\n",
       "</style>\n",
       "<table border=\"1\" class=\"dataframe\">\n",
       "  <thead>\n",
       "    <tr style=\"text-align: right;\">\n",
       "      <th></th>\n",
       "      <th>Name</th>\n",
       "      <th>marks</th>\n",
       "      <th>city</th>\n",
       "    </tr>\n",
       "  </thead>\n",
       "  <tbody>\n",
       "    <tr>\n",
       "      <th>3</th>\n",
       "      <td>shubh</td>\n",
       "      <td>17</td>\n",
       "      <td>Antatica</td>\n",
       "    </tr>\n",
       "    <tr>\n",
       "      <th>4</th>\n",
       "      <td>shiva</td>\n",
       "      <td>46</td>\n",
       "      <td>bhilapuri</td>\n",
       "    </tr>\n",
       "  </tbody>\n",
       "</table>\n",
       "</div>"
      ],
      "text/plain": [
       "    Name  marks       city\n",
       "3  shubh     17   Antatica\n",
       "4  shiva     46  bhilapuri"
      ]
     },
     "execution_count": 20,
     "metadata": {},
     "output_type": "execute_result"
    }
   ],
   "source": [
    "dfs.tail(2)"
   ]
  },
  {
   "cell_type": "code",
   "execution_count": 22,
   "id": "0896941c-743d-41c2-9afc-5b3e73beb2e5",
   "metadata": {},
   "outputs": [
    {
     "data": {
      "text/html": [
       "<div>\n",
       "<style scoped>\n",
       "    .dataframe tbody tr th:only-of-type {\n",
       "        vertical-align: middle;\n",
       "    }\n",
       "\n",
       "    .dataframe tbody tr th {\n",
       "        vertical-align: top;\n",
       "    }\n",
       "\n",
       "    .dataframe thead th {\n",
       "        text-align: right;\n",
       "    }\n",
       "</style>\n",
       "<table border=\"1\" class=\"dataframe\">\n",
       "  <thead>\n",
       "    <tr style=\"text-align: right;\">\n",
       "      <th></th>\n",
       "      <th>Name</th>\n",
       "      <th>marks</th>\n",
       "      <th>city</th>\n",
       "    </tr>\n",
       "  </thead>\n",
       "  <tbody>\n",
       "    <tr>\n",
       "      <th>0</th>\n",
       "      <td>Rohit</td>\n",
       "      <td>92</td>\n",
       "      <td>rampur</td>\n",
       "    </tr>\n",
       "    <tr>\n",
       "      <th>1</th>\n",
       "      <td>Rohan</td>\n",
       "      <td>34</td>\n",
       "      <td>kolkata</td>\n",
       "    </tr>\n",
       "    <tr>\n",
       "      <th>2</th>\n",
       "      <td>vishnu</td>\n",
       "      <td>24</td>\n",
       "      <td>Barelly</td>\n",
       "    </tr>\n",
       "  </tbody>\n",
       "</table>\n",
       "</div>"
      ],
      "text/plain": [
       "     Name  marks     city\n",
       "0   Rohit     92   rampur\n",
       "1   Rohan     34  kolkata\n",
       "2  vishnu     24  Barelly"
      ]
     },
     "execution_count": 22,
     "metadata": {},
     "output_type": "execute_result"
    }
   ],
   "source": [
    "dfs.head(3)"
   ]
  },
  {
   "cell_type": "code",
   "execution_count": null,
   "id": "93ff2080-a34f-4628-9e65-6c8cdb139112",
   "metadata": {},
   "outputs": [],
   "source": [
    "df.describe()"
   ]
  },
  {
   "cell_type": "code",
   "execution_count": null,
   "id": "cdbaecb3-eff3-4e2f-8c7f-81c9b1ba14c1",
   "metadata": {},
   "outputs": [],
   "source": [
    "df.info()"
   ]
  },
  {
   "cell_type": "code",
   "execution_count": null,
   "id": "c5422c11-13e1-4372-af9a-e0db149e9b4b",
   "metadata": {},
   "outputs": [],
   "source": [
    "df['city'].unique()"
   ]
  },
  {
   "cell_type": "code",
   "execution_count": null,
   "id": "79e3d5e4-4cfd-413f-8d23-099da3dbfe21",
   "metadata": {},
   "outputs": [],
   "source": [
    "df['marks'].value_counts()"
   ]
  },
  {
   "cell_type": "code",
   "execution_count": 32,
   "id": "18b78e49-0e3c-4f8f-a3a7-440df9a4f155",
   "metadata": {},
   "outputs": [],
   "source": [
    "dfs.to_csv('rohit_copy.csv', index=False)"
   ]
  },
  {
   "cell_type": "code",
   "execution_count": null,
   "id": "931ef2f5-048d-4213-9b51-84ef507c951e",
   "metadata": {},
   "outputs": [],
   "source": [
    "df.to_csv"
   ]
  },
  {
   "cell_type": "code",
   "execution_count": 24,
   "id": "b2ea80be-7a0e-43b3-9c2d-ed7fa2c3cd0e",
   "metadata": {},
   "outputs": [],
   "source": [
    "res = pd.read_csv('rohit_copy.csv')\n"
   ]
  },
  {
   "cell_type": "code",
   "execution_count": 34,
   "id": "f36e8df0-783a-43ce-a234-f85ff20d6b40",
   "metadata": {},
   "outputs": [
    {
     "data": {
      "text/html": [
       "<div>\n",
       "<style scoped>\n",
       "    .dataframe tbody tr th:only-of-type {\n",
       "        vertical-align: middle;\n",
       "    }\n",
       "\n",
       "    .dataframe tbody tr th {\n",
       "        vertical-align: top;\n",
       "    }\n",
       "\n",
       "    .dataframe thead th {\n",
       "        text-align: right;\n",
       "    }\n",
       "</style>\n",
       "<table border=\"1\" class=\"dataframe\">\n",
       "  <thead>\n",
       "    <tr style=\"text-align: right;\">\n",
       "      <th></th>\n",
       "      <th>Train No</th>\n",
       "      <th>Speed</th>\n",
       "      <th>city</th>\n",
       "    </tr>\n",
       "  </thead>\n",
       "  <tbody>\n",
       "    <tr>\n",
       "      <th>0</th>\n",
       "      <td>12345</td>\n",
       "      <td>92</td>\n",
       "      <td>rampur</td>\n",
       "    </tr>\n",
       "    <tr>\n",
       "      <th>1</th>\n",
       "      <td>23456</td>\n",
       "      <td>34</td>\n",
       "      <td>kolkata</td>\n",
       "    </tr>\n",
       "    <tr>\n",
       "      <th>2</th>\n",
       "      <td>24566</td>\n",
       "      <td>24</td>\n",
       "      <td>Barelly</td>\n",
       "    </tr>\n",
       "    <tr>\n",
       "      <th>3</th>\n",
       "      <td>13556</td>\n",
       "      <td>17</td>\n",
       "      <td>Antatica</td>\n",
       "    </tr>\n",
       "    <tr>\n",
       "      <th>4</th>\n",
       "      <td>34748</td>\n",
       "      <td>46</td>\n",
       "      <td>bhilapuri</td>\n",
       "    </tr>\n",
       "  </tbody>\n",
       "</table>\n",
       "</div>"
      ],
      "text/plain": [
       "   Train No  Speed       city\n",
       "0     12345     92     rampur\n",
       "1     23456     34    kolkata\n",
       "2     24566     24    Barelly\n",
       "3     13556     17   Antatica\n",
       "4     34748     46  bhilapuri"
      ]
     },
     "execution_count": 34,
     "metadata": {},
     "output_type": "execute_result"
    }
   ],
   "source": [
    "res"
   ]
  },
  {
   "cell_type": "code",
   "execution_count": 36,
   "id": "f91534bd-4247-4349-b33d-90d1a54e319d",
   "metadata": {},
   "outputs": [
    {
     "name": "stderr",
     "output_type": "stream",
     "text": [
      "C:\\Users\\rahul\\AppData\\Local\\Temp\\ipykernel_20736\\2500441070.py:1: FutureWarning: ChainedAssignmentError: behaviour will change in pandas 3.0!\n",
      "You are setting values through chained assignment. Currently this works in certain cases, but when using Copy-on-Write (which will become the default behaviour in pandas 3.0) this will never work to update the original DataFrame or Series, because the intermediate object on which we are setting values will behave as a copy.\n",
      "A typical example is when you are setting values in a column of a DataFrame, like:\n",
      "\n",
      "df[\"col\"][row_indexer] = value\n",
      "\n",
      "Use `df.loc[row_indexer, \"col\"] = values` instead, to perform the assignment in a single step and ensure this keeps updating the original `df`.\n",
      "\n",
      "See the caveats in the documentation: https://pandas.pydata.org/pandas-docs/stable/user_guide/indexing.html#returning-a-view-versus-a-copy\n",
      "\n",
      "  res['Speed'][0] = 50\n",
      "C:\\Users\\rahul\\AppData\\Local\\Temp\\ipykernel_20736\\2500441070.py:1: SettingWithCopyWarning: \n",
      "A value is trying to be set on a copy of a slice from a DataFrame\n",
      "\n",
      "See the caveats in the documentation: https://pandas.pydata.org/pandas-docs/stable/user_guide/indexing.html#returning-a-view-versus-a-copy\n",
      "  res['Speed'][0] = 50\n"
     ]
    }
   ],
   "source": [
    "res['Speed'][0] = 50"
   ]
  },
  {
   "cell_type": "code",
   "execution_count": 38,
   "id": "c6f6ae0b-2832-4f0d-b8a3-b831a9f42b37",
   "metadata": {},
   "outputs": [
    {
     "data": {
      "text/html": [
       "<div>\n",
       "<style scoped>\n",
       "    .dataframe tbody tr th:only-of-type {\n",
       "        vertical-align: middle;\n",
       "    }\n",
       "\n",
       "    .dataframe tbody tr th {\n",
       "        vertical-align: top;\n",
       "    }\n",
       "\n",
       "    .dataframe thead th {\n",
       "        text-align: right;\n",
       "    }\n",
       "</style>\n",
       "<table border=\"1\" class=\"dataframe\">\n",
       "  <thead>\n",
       "    <tr style=\"text-align: right;\">\n",
       "      <th></th>\n",
       "      <th>Train No</th>\n",
       "      <th>Speed</th>\n",
       "      <th>city</th>\n",
       "    </tr>\n",
       "  </thead>\n",
       "  <tbody>\n",
       "    <tr>\n",
       "      <th>0</th>\n",
       "      <td>12345</td>\n",
       "      <td>50</td>\n",
       "      <td>rampur</td>\n",
       "    </tr>\n",
       "    <tr>\n",
       "      <th>1</th>\n",
       "      <td>23456</td>\n",
       "      <td>34</td>\n",
       "      <td>kolkata</td>\n",
       "    </tr>\n",
       "    <tr>\n",
       "      <th>2</th>\n",
       "      <td>24566</td>\n",
       "      <td>24</td>\n",
       "      <td>Barelly</td>\n",
       "    </tr>\n",
       "    <tr>\n",
       "      <th>3</th>\n",
       "      <td>13556</td>\n",
       "      <td>17</td>\n",
       "      <td>Antatica</td>\n",
       "    </tr>\n",
       "    <tr>\n",
       "      <th>4</th>\n",
       "      <td>34748</td>\n",
       "      <td>46</td>\n",
       "      <td>bhilapuri</td>\n",
       "    </tr>\n",
       "  </tbody>\n",
       "</table>\n",
       "</div>"
      ],
      "text/plain": [
       "   Train No  Speed       city\n",
       "0     12345     50     rampur\n",
       "1     23456     34    kolkata\n",
       "2     24566     24    Barelly\n",
       "3     13556     17   Antatica\n",
       "4     34748     46  bhilapuri"
      ]
     },
     "execution_count": 38,
     "metadata": {},
     "output_type": "execute_result"
    }
   ],
   "source": [
    "res"
   ]
  },
  {
   "cell_type": "code",
   "execution_count": 47,
   "id": "c74bb19e-f285-4ca7-ae08-af9ede987a9e",
   "metadata": {},
   "outputs": [],
   "source": [
    "res = pd.read_csv('rohit_copy.csv')"
   ]
  },
  {
   "cell_type": "code",
   "execution_count": 40,
   "id": "19ea5afe-44d1-4bbb-98fb-609d062ce8f5",
   "metadata": {},
   "outputs": [],
   "source": [
    "ser = pd.Series(np.random.rand(34))"
   ]
  },
  {
   "cell_type": "code",
   "execution_count": 42,
   "id": "7e969fe6-da3d-4936-b278-19e0d5bad314",
   "metadata": {},
   "outputs": [
    {
     "data": {
      "text/plain": [
       "0     0.635457\n",
       "1     0.414145\n",
       "2     0.866220\n",
       "3     0.117297\n",
       "4     0.793880\n",
       "5     0.389044\n",
       "6     0.055200\n",
       "7     0.128114\n",
       "8     0.073027\n",
       "9     0.595176\n",
       "10    0.234803\n",
       "11    0.479558\n",
       "12    0.294345\n",
       "13    0.697344\n",
       "14    0.025259\n",
       "15    0.494792\n",
       "16    0.411994\n",
       "17    0.514938\n",
       "18    0.502305\n",
       "19    0.079397\n",
       "20    0.445924\n",
       "21    0.993267\n",
       "22    0.219602\n",
       "23    0.435696\n",
       "24    0.056049\n",
       "25    0.143280\n",
       "26    0.826588\n",
       "27    0.509925\n",
       "28    0.573344\n",
       "29    0.383599\n",
       "30    0.328702\n",
       "31    0.988760\n",
       "32    0.051874\n",
       "33    0.558158\n",
       "dtype: float64"
      ]
     },
     "execution_count": 42,
     "metadata": {},
     "output_type": "execute_result"
    }
   ],
   "source": [
    "ser"
   ]
  },
  {
   "cell_type": "code",
   "execution_count": 44,
   "id": "5bd2de08-6855-4998-9619-bcb4cd7059e3",
   "metadata": {},
   "outputs": [
    {
     "data": {
      "text/plain": [
       "pandas.core.series.Series"
      ]
     },
     "execution_count": 44,
     "metadata": {},
     "output_type": "execute_result"
    }
   ],
   "source": [
    "type(ser)"
   ]
  },
  {
   "cell_type": "code",
   "execution_count": 46,
   "id": "3024e4c1-5ede-4d09-8675-de8dc05e37c5",
   "metadata": {},
   "outputs": [],
   "source": [
    "newdf = pd.DataFrame(np.random.rand(334,5), index=np.arange(334))"
   ]
  },
  {
   "cell_type": "code",
   "execution_count": 54,
   "id": "2f266445-bac8-4c0b-8288-2e3c2f860a50",
   "metadata": {},
   "outputs": [
    {
     "data": {
      "text/html": [
       "<div>\n",
       "<style scoped>\n",
       "    .dataframe tbody tr th:only-of-type {\n",
       "        vertical-align: middle;\n",
       "    }\n",
       "\n",
       "    .dataframe tbody tr th {\n",
       "        vertical-align: top;\n",
       "    }\n",
       "\n",
       "    .dataframe thead th {\n",
       "        text-align: right;\n",
       "    }\n",
       "</style>\n",
       "<table border=\"1\" class=\"dataframe\">\n",
       "  <thead>\n",
       "    <tr style=\"text-align: right;\">\n",
       "      <th></th>\n",
       "      <th>0</th>\n",
       "      <th>1</th>\n",
       "      <th>2</th>\n",
       "      <th>3</th>\n",
       "      <th>4</th>\n",
       "    </tr>\n",
       "  </thead>\n",
       "  <tbody>\n",
       "    <tr>\n",
       "      <th>0</th>\n",
       "      <td>0.226076</td>\n",
       "      <td>0.046643</td>\n",
       "      <td>0.739829</td>\n",
       "      <td>0.765904</td>\n",
       "      <td>0.386877</td>\n",
       "    </tr>\n",
       "    <tr>\n",
       "      <th>1</th>\n",
       "      <td>0.613352</td>\n",
       "      <td>0.277341</td>\n",
       "      <td>0.507807</td>\n",
       "      <td>0.449425</td>\n",
       "      <td>0.211555</td>\n",
       "    </tr>\n",
       "    <tr>\n",
       "      <th>2</th>\n",
       "      <td>0.755950</td>\n",
       "      <td>0.144889</td>\n",
       "      <td>0.202105</td>\n",
       "      <td>0.930993</td>\n",
       "      <td>0.032084</td>\n",
       "    </tr>\n",
       "    <tr>\n",
       "      <th>3</th>\n",
       "      <td>0.699839</td>\n",
       "      <td>0.244540</td>\n",
       "      <td>0.104933</td>\n",
       "      <td>0.783893</td>\n",
       "      <td>0.987417</td>\n",
       "    </tr>\n",
       "    <tr>\n",
       "      <th>4</th>\n",
       "      <td>0.085582</td>\n",
       "      <td>0.227220</td>\n",
       "      <td>0.739872</td>\n",
       "      <td>0.346571</td>\n",
       "      <td>0.705008</td>\n",
       "    </tr>\n",
       "  </tbody>\n",
       "</table>\n",
       "</div>"
      ],
      "text/plain": [
       "          0         1         2         3         4\n",
       "0  0.226076  0.046643  0.739829  0.765904  0.386877\n",
       "1  0.613352  0.277341  0.507807  0.449425  0.211555\n",
       "2  0.755950  0.144889  0.202105  0.930993  0.032084\n",
       "3  0.699839  0.244540  0.104933  0.783893  0.987417\n",
       "4  0.085582  0.227220  0.739872  0.346571  0.705008"
      ]
     },
     "execution_count": 54,
     "metadata": {},
     "output_type": "execute_result"
    }
   ],
   "source": [
    "newdf.head()"
   ]
  },
  {
   "cell_type": "code",
   "execution_count": 48,
   "id": "8445a30a-959e-4d0f-a752-ab693e2b4eae",
   "metadata": {},
   "outputs": [
    {
     "data": {
      "text/plain": [
       "pandas.core.frame.DataFrame"
      ]
     },
     "execution_count": 48,
     "metadata": {},
     "output_type": "execute_result"
    }
   ],
   "source": [
    "#newdf.head()\n",
    "#newdf\n",
    "type(newdf)"
   ]
  },
  {
   "cell_type": "code",
   "execution_count": 50,
   "id": "6eaa041d-cf71-4bad-9b08-c8b8ced48005",
   "metadata": {},
   "outputs": [
    {
     "data": {
      "text/plain": [
       "0    float64\n",
       "1    float64\n",
       "2    float64\n",
       "3    float64\n",
       "4    float64\n",
       "dtype: object"
      ]
     },
     "execution_count": 50,
     "metadata": {},
     "output_type": "execute_result"
    }
   ],
   "source": [
    "newdf.dtypes\n",
    "#newdf.head()"
   ]
  },
  {
   "cell_type": "code",
   "execution_count": 52,
   "id": "f53fed97-b9b7-4f8b-b5f2-44ba4ad81815",
   "metadata": {},
   "outputs": [
    {
     "data": {
      "text/plain": [
       "False"
      ]
     },
     "execution_count": 52,
     "metadata": {},
     "output_type": "execute_result"
    }
   ],
   "source": [
    "newdf[0][0] == 'rohit'"
   ]
  },
  {
   "cell_type": "code",
   "execution_count": null,
   "id": "41d97efb-55e2-414f-9a85-8ec0fa0730c3",
   "metadata": {},
   "outputs": [],
   "source": [
    "newdf.dtypes"
   ]
  },
  {
   "cell_type": "code",
   "execution_count": 56,
   "id": "7313bff8-ce1e-43f3-a513-b751ffb4fc3f",
   "metadata": {},
   "outputs": [
    {
     "data": {
      "text/html": [
       "<div>\n",
       "<style scoped>\n",
       "    .dataframe tbody tr th:only-of-type {\n",
       "        vertical-align: middle;\n",
       "    }\n",
       "\n",
       "    .dataframe tbody tr th {\n",
       "        vertical-align: top;\n",
       "    }\n",
       "\n",
       "    .dataframe thead th {\n",
       "        text-align: right;\n",
       "    }\n",
       "</style>\n",
       "<table border=\"1\" class=\"dataframe\">\n",
       "  <thead>\n",
       "    <tr style=\"text-align: right;\">\n",
       "      <th></th>\n",
       "      <th>0</th>\n",
       "      <th>1</th>\n",
       "      <th>2</th>\n",
       "      <th>3</th>\n",
       "      <th>4</th>\n",
       "    </tr>\n",
       "  </thead>\n",
       "  <tbody>\n",
       "    <tr>\n",
       "      <th>count</th>\n",
       "      <td>334.000000</td>\n",
       "      <td>334.000000</td>\n",
       "      <td>334.000000</td>\n",
       "      <td>334.000000</td>\n",
       "      <td>334.000000</td>\n",
       "    </tr>\n",
       "    <tr>\n",
       "      <th>mean</th>\n",
       "      <td>0.524860</td>\n",
       "      <td>0.511328</td>\n",
       "      <td>0.513544</td>\n",
       "      <td>0.501921</td>\n",
       "      <td>0.514244</td>\n",
       "    </tr>\n",
       "    <tr>\n",
       "      <th>std</th>\n",
       "      <td>0.284807</td>\n",
       "      <td>0.294119</td>\n",
       "      <td>0.273891</td>\n",
       "      <td>0.284861</td>\n",
       "      <td>0.283811</td>\n",
       "    </tr>\n",
       "    <tr>\n",
       "      <th>min</th>\n",
       "      <td>0.003493</td>\n",
       "      <td>0.002139</td>\n",
       "      <td>0.007969</td>\n",
       "      <td>0.011388</td>\n",
       "      <td>0.003994</td>\n",
       "    </tr>\n",
       "    <tr>\n",
       "      <th>25%</th>\n",
       "      <td>0.289864</td>\n",
       "      <td>0.275936</td>\n",
       "      <td>0.276208</td>\n",
       "      <td>0.259532</td>\n",
       "      <td>0.273755</td>\n",
       "    </tr>\n",
       "    <tr>\n",
       "      <th>50%</th>\n",
       "      <td>0.517838</td>\n",
       "      <td>0.519171</td>\n",
       "      <td>0.520160</td>\n",
       "      <td>0.501596</td>\n",
       "      <td>0.530234</td>\n",
       "    </tr>\n",
       "    <tr>\n",
       "      <th>75%</th>\n",
       "      <td>0.771472</td>\n",
       "      <td>0.771699</td>\n",
       "      <td>0.732839</td>\n",
       "      <td>0.754715</td>\n",
       "      <td>0.765773</td>\n",
       "    </tr>\n",
       "    <tr>\n",
       "      <th>max</th>\n",
       "      <td>0.996137</td>\n",
       "      <td>0.999669</td>\n",
       "      <td>0.999924</td>\n",
       "      <td>0.998796</td>\n",
       "      <td>0.999203</td>\n",
       "    </tr>\n",
       "  </tbody>\n",
       "</table>\n",
       "</div>"
      ],
      "text/plain": [
       "                0           1           2           3           4\n",
       "count  334.000000  334.000000  334.000000  334.000000  334.000000\n",
       "mean     0.524860    0.511328    0.513544    0.501921    0.514244\n",
       "std      0.284807    0.294119    0.273891    0.284861    0.283811\n",
       "min      0.003493    0.002139    0.007969    0.011388    0.003994\n",
       "25%      0.289864    0.275936    0.276208    0.259532    0.273755\n",
       "50%      0.517838    0.519171    0.520160    0.501596    0.530234\n",
       "75%      0.771472    0.771699    0.732839    0.754715    0.765773\n",
       "max      0.996137    0.999669    0.999924    0.998796    0.999203"
      ]
     },
     "execution_count": 56,
     "metadata": {},
     "output_type": "execute_result"
    }
   ],
   "source": [
    "newdf.describe()"
   ]
  },
  {
   "cell_type": "code",
   "execution_count": 58,
   "id": "d67c0ba4-08a8-4610-a797-73a1ec02932d",
   "metadata": {},
   "outputs": [
    {
     "data": {
      "text/plain": [
       "Index([  0,   1,   2,   3,   4,   5,   6,   7,   8,   9,\n",
       "       ...\n",
       "       324, 325, 326, 327, 328, 329, 330, 331, 332, 333],\n",
       "      dtype='int32', length=334)"
      ]
     },
     "execution_count": 58,
     "metadata": {},
     "output_type": "execute_result"
    }
   ],
   "source": [
    "newdf.index"
   ]
  },
  {
   "cell_type": "code",
   "execution_count": 60,
   "id": "f2e9e6a1-35ce-406d-af67-d59d3685a206",
   "metadata": {},
   "outputs": [
    {
     "data": {
      "text/plain": [
       "RangeIndex(start=0, stop=5, step=1)"
      ]
     },
     "execution_count": 60,
     "metadata": {},
     "output_type": "execute_result"
    }
   ],
   "source": [
    "newdf.columns"
   ]
  },
  {
   "cell_type": "code",
   "execution_count": 62,
   "id": "92d4a4c1-5e1d-4021-99f7-2bda83bb13c8",
   "metadata": {},
   "outputs": [
    {
     "data": {
      "text/plain": [
       "array([[0.22607611, 0.04664338, 0.73982928, 0.76590427, 0.38687697],\n",
       "       [0.61335205, 0.27734113, 0.50780706, 0.44942526, 0.21155496],\n",
       "       [0.75595005, 0.14488897, 0.20210454, 0.93099308, 0.03208381],\n",
       "       ...,\n",
       "       [0.58243963, 0.002877  , 0.75369596, 0.85589711, 0.42158561],\n",
       "       [0.79931498, 0.85488391, 0.69312159, 0.24159916, 0.97903279],\n",
       "       [0.72834277, 0.48637765, 0.92556565, 0.51675383, 0.36161986]])"
      ]
     },
     "execution_count": 62,
     "metadata": {},
     "output_type": "execute_result"
    }
   ],
   "source": [
    "newdf.to_numpy()"
   ]
  },
  {
   "cell_type": "code",
   "execution_count": 64,
   "id": "6d686589-a6cd-40b1-82b6-09ac09324586",
   "metadata": {},
   "outputs": [
    {
     "name": "stderr",
     "output_type": "stream",
     "text": [
      "C:\\Users\\rahul\\AppData\\Local\\Temp\\ipykernel_20736\\417204169.py:1: FutureWarning: ChainedAssignmentError: behaviour will change in pandas 3.0!\n",
      "You are setting values through chained assignment. Currently this works in certain cases, but when using Copy-on-Write (which will become the default behaviour in pandas 3.0) this will never work to update the original DataFrame or Series, because the intermediate object on which we are setting values will behave as a copy.\n",
      "A typical example is when you are setting values in a column of a DataFrame, like:\n",
      "\n",
      "df[\"col\"][row_indexer] = value\n",
      "\n",
      "Use `df.loc[row_indexer, \"col\"] = values` instead, to perform the assignment in a single step and ensure this keeps updating the original `df`.\n",
      "\n",
      "See the caveats in the documentation: https://pandas.pydata.org/pandas-docs/stable/user_guide/indexing.html#returning-a-view-versus-a-copy\n",
      "\n",
      "  newdf[0][0] = 0.3\n"
     ]
    }
   ],
   "source": [
    "newdf[0][0] = 0.3"
   ]
  },
  {
   "cell_type": "code",
   "execution_count": 66,
   "id": "a785721f-d009-4e15-a11b-2b3c3ee16a21",
   "metadata": {},
   "outputs": [
    {
     "data": {
      "text/html": [
       "<div>\n",
       "<style scoped>\n",
       "    .dataframe tbody tr th:only-of-type {\n",
       "        vertical-align: middle;\n",
       "    }\n",
       "\n",
       "    .dataframe tbody tr th {\n",
       "        vertical-align: top;\n",
       "    }\n",
       "\n",
       "    .dataframe thead th {\n",
       "        text-align: right;\n",
       "    }\n",
       "</style>\n",
       "<table border=\"1\" class=\"dataframe\">\n",
       "  <thead>\n",
       "    <tr style=\"text-align: right;\">\n",
       "      <th></th>\n",
       "      <th>0</th>\n",
       "      <th>1</th>\n",
       "      <th>2</th>\n",
       "      <th>3</th>\n",
       "      <th>4</th>\n",
       "    </tr>\n",
       "  </thead>\n",
       "  <tbody>\n",
       "    <tr>\n",
       "      <th>0</th>\n",
       "      <td>0.300000</td>\n",
       "      <td>0.046643</td>\n",
       "      <td>0.739829</td>\n",
       "      <td>0.765904</td>\n",
       "      <td>0.386877</td>\n",
       "    </tr>\n",
       "    <tr>\n",
       "      <th>1</th>\n",
       "      <td>0.613352</td>\n",
       "      <td>0.277341</td>\n",
       "      <td>0.507807</td>\n",
       "      <td>0.449425</td>\n",
       "      <td>0.211555</td>\n",
       "    </tr>\n",
       "    <tr>\n",
       "      <th>2</th>\n",
       "      <td>0.755950</td>\n",
       "      <td>0.144889</td>\n",
       "      <td>0.202105</td>\n",
       "      <td>0.930993</td>\n",
       "      <td>0.032084</td>\n",
       "    </tr>\n",
       "    <tr>\n",
       "      <th>3</th>\n",
       "      <td>0.699839</td>\n",
       "      <td>0.244540</td>\n",
       "      <td>0.104933</td>\n",
       "      <td>0.783893</td>\n",
       "      <td>0.987417</td>\n",
       "    </tr>\n",
       "    <tr>\n",
       "      <th>4</th>\n",
       "      <td>0.085582</td>\n",
       "      <td>0.227220</td>\n",
       "      <td>0.739872</td>\n",
       "      <td>0.346571</td>\n",
       "      <td>0.705008</td>\n",
       "    </tr>\n",
       "  </tbody>\n",
       "</table>\n",
       "</div>"
      ],
      "text/plain": [
       "          0         1         2         3         4\n",
       "0  0.300000  0.046643  0.739829  0.765904  0.386877\n",
       "1  0.613352  0.277341  0.507807  0.449425  0.211555\n",
       "2  0.755950  0.144889  0.202105  0.930993  0.032084\n",
       "3  0.699839  0.244540  0.104933  0.783893  0.987417\n",
       "4  0.085582  0.227220  0.739872  0.346571  0.705008"
      ]
     },
     "execution_count": 66,
     "metadata": {},
     "output_type": "execute_result"
    }
   ],
   "source": [
    "newdf.head()"
   ]
  },
  {
   "cell_type": "code",
   "execution_count": 68,
   "id": "73e2b042-3668-4260-8717-84808281de73",
   "metadata": {},
   "outputs": [
    {
     "data": {
      "text/html": [
       "<div>\n",
       "<style scoped>\n",
       "    .dataframe tbody tr th:only-of-type {\n",
       "        vertical-align: middle;\n",
       "    }\n",
       "\n",
       "    .dataframe tbody tr th {\n",
       "        vertical-align: top;\n",
       "    }\n",
       "\n",
       "    .dataframe thead th {\n",
       "        text-align: right;\n",
       "    }\n",
       "</style>\n",
       "<table border=\"1\" class=\"dataframe\">\n",
       "  <thead>\n",
       "    <tr style=\"text-align: right;\">\n",
       "      <th></th>\n",
       "      <th>0</th>\n",
       "      <th>1</th>\n",
       "      <th>2</th>\n",
       "      <th>3</th>\n",
       "      <th>4</th>\n",
       "      <th>5</th>\n",
       "      <th>6</th>\n",
       "      <th>7</th>\n",
       "      <th>8</th>\n",
       "      <th>9</th>\n",
       "      <th>...</th>\n",
       "      <th>324</th>\n",
       "      <th>325</th>\n",
       "      <th>326</th>\n",
       "      <th>327</th>\n",
       "      <th>328</th>\n",
       "      <th>329</th>\n",
       "      <th>330</th>\n",
       "      <th>331</th>\n",
       "      <th>332</th>\n",
       "      <th>333</th>\n",
       "    </tr>\n",
       "  </thead>\n",
       "  <tbody>\n",
       "    <tr>\n",
       "      <th>0</th>\n",
       "      <td>0.300000</td>\n",
       "      <td>0.613352</td>\n",
       "      <td>0.755950</td>\n",
       "      <td>0.699839</td>\n",
       "      <td>0.085582</td>\n",
       "      <td>0.023831</td>\n",
       "      <td>0.822928</td>\n",
       "      <td>0.950409</td>\n",
       "      <td>0.729373</td>\n",
       "      <td>0.959048</td>\n",
       "      <td>...</td>\n",
       "      <td>0.599403</td>\n",
       "      <td>0.110675</td>\n",
       "      <td>0.839181</td>\n",
       "      <td>0.206062</td>\n",
       "      <td>0.487440</td>\n",
       "      <td>0.493626</td>\n",
       "      <td>0.465246</td>\n",
       "      <td>0.582440</td>\n",
       "      <td>0.799315</td>\n",
       "      <td>0.728343</td>\n",
       "    </tr>\n",
       "    <tr>\n",
       "      <th>1</th>\n",
       "      <td>0.046643</td>\n",
       "      <td>0.277341</td>\n",
       "      <td>0.144889</td>\n",
       "      <td>0.244540</td>\n",
       "      <td>0.227220</td>\n",
       "      <td>0.825457</td>\n",
       "      <td>0.767500</td>\n",
       "      <td>0.742992</td>\n",
       "      <td>0.234305</td>\n",
       "      <td>0.415658</td>\n",
       "      <td>...</td>\n",
       "      <td>0.356206</td>\n",
       "      <td>0.991540</td>\n",
       "      <td>0.904755</td>\n",
       "      <td>0.824651</td>\n",
       "      <td>0.221546</td>\n",
       "      <td>0.521339</td>\n",
       "      <td>0.473139</td>\n",
       "      <td>0.002877</td>\n",
       "      <td>0.854884</td>\n",
       "      <td>0.486378</td>\n",
       "    </tr>\n",
       "    <tr>\n",
       "      <th>2</th>\n",
       "      <td>0.739829</td>\n",
       "      <td>0.507807</td>\n",
       "      <td>0.202105</td>\n",
       "      <td>0.104933</td>\n",
       "      <td>0.739872</td>\n",
       "      <td>0.803244</td>\n",
       "      <td>0.935128</td>\n",
       "      <td>0.239324</td>\n",
       "      <td>0.461965</td>\n",
       "      <td>0.511274</td>\n",
       "      <td>...</td>\n",
       "      <td>0.612396</td>\n",
       "      <td>0.613549</td>\n",
       "      <td>0.235528</td>\n",
       "      <td>0.337271</td>\n",
       "      <td>0.556977</td>\n",
       "      <td>0.627073</td>\n",
       "      <td>0.995121</td>\n",
       "      <td>0.753696</td>\n",
       "      <td>0.693122</td>\n",
       "      <td>0.925566</td>\n",
       "    </tr>\n",
       "    <tr>\n",
       "      <th>3</th>\n",
       "      <td>0.765904</td>\n",
       "      <td>0.449425</td>\n",
       "      <td>0.930993</td>\n",
       "      <td>0.783893</td>\n",
       "      <td>0.346571</td>\n",
       "      <td>0.232521</td>\n",
       "      <td>0.168532</td>\n",
       "      <td>0.921131</td>\n",
       "      <td>0.236014</td>\n",
       "      <td>0.227536</td>\n",
       "      <td>...</td>\n",
       "      <td>0.577305</td>\n",
       "      <td>0.302511</td>\n",
       "      <td>0.491884</td>\n",
       "      <td>0.530012</td>\n",
       "      <td>0.667725</td>\n",
       "      <td>0.341322</td>\n",
       "      <td>0.200084</td>\n",
       "      <td>0.855897</td>\n",
       "      <td>0.241599</td>\n",
       "      <td>0.516754</td>\n",
       "    </tr>\n",
       "    <tr>\n",
       "      <th>4</th>\n",
       "      <td>0.386877</td>\n",
       "      <td>0.211555</td>\n",
       "      <td>0.032084</td>\n",
       "      <td>0.987417</td>\n",
       "      <td>0.705008</td>\n",
       "      <td>0.037042</td>\n",
       "      <td>0.184601</td>\n",
       "      <td>0.789159</td>\n",
       "      <td>0.429250</td>\n",
       "      <td>0.390995</td>\n",
       "      <td>...</td>\n",
       "      <td>0.268013</td>\n",
       "      <td>0.108213</td>\n",
       "      <td>0.392467</td>\n",
       "      <td>0.123196</td>\n",
       "      <td>0.015162</td>\n",
       "      <td>0.101054</td>\n",
       "      <td>0.530208</td>\n",
       "      <td>0.421586</td>\n",
       "      <td>0.979033</td>\n",
       "      <td>0.361620</td>\n",
       "    </tr>\n",
       "  </tbody>\n",
       "</table>\n",
       "<p>5 rows × 334 columns</p>\n",
       "</div>"
      ],
      "text/plain": [
       "        0         1         2         3         4         5         6    \\\n",
       "0  0.300000  0.613352  0.755950  0.699839  0.085582  0.023831  0.822928   \n",
       "1  0.046643  0.277341  0.144889  0.244540  0.227220  0.825457  0.767500   \n",
       "2  0.739829  0.507807  0.202105  0.104933  0.739872  0.803244  0.935128   \n",
       "3  0.765904  0.449425  0.930993  0.783893  0.346571  0.232521  0.168532   \n",
       "4  0.386877  0.211555  0.032084  0.987417  0.705008  0.037042  0.184601   \n",
       "\n",
       "        7         8         9    ...       324       325       326       327  \\\n",
       "0  0.950409  0.729373  0.959048  ...  0.599403  0.110675  0.839181  0.206062   \n",
       "1  0.742992  0.234305  0.415658  ...  0.356206  0.991540  0.904755  0.824651   \n",
       "2  0.239324  0.461965  0.511274  ...  0.612396  0.613549  0.235528  0.337271   \n",
       "3  0.921131  0.236014  0.227536  ...  0.577305  0.302511  0.491884  0.530012   \n",
       "4  0.789159  0.429250  0.390995  ...  0.268013  0.108213  0.392467  0.123196   \n",
       "\n",
       "        328       329       330       331       332       333  \n",
       "0  0.487440  0.493626  0.465246  0.582440  0.799315  0.728343  \n",
       "1  0.221546  0.521339  0.473139  0.002877  0.854884  0.486378  \n",
       "2  0.556977  0.627073  0.995121  0.753696  0.693122  0.925566  \n",
       "3  0.667725  0.341322  0.200084  0.855897  0.241599  0.516754  \n",
       "4  0.015162  0.101054  0.530208  0.421586  0.979033  0.361620  \n",
       "\n",
       "[5 rows x 334 columns]"
      ]
     },
     "execution_count": 68,
     "metadata": {},
     "output_type": "execute_result"
    }
   ],
   "source": [
    "newdf.T"
   ]
  },
  {
   "cell_type": "code",
   "execution_count": 72,
   "id": "b17daf11-4346-4a0e-809f-bd5723b3d088",
   "metadata": {},
   "outputs": [
    {
     "data": {
      "text/html": [
       "<div>\n",
       "<style scoped>\n",
       "    .dataframe tbody tr th:only-of-type {\n",
       "        vertical-align: middle;\n",
       "    }\n",
       "\n",
       "    .dataframe tbody tr th {\n",
       "        vertical-align: top;\n",
       "    }\n",
       "\n",
       "    .dataframe thead th {\n",
       "        text-align: right;\n",
       "    }\n",
       "</style>\n",
       "<table border=\"1\" class=\"dataframe\">\n",
       "  <thead>\n",
       "    <tr style=\"text-align: right;\">\n",
       "      <th></th>\n",
       "      <th>0</th>\n",
       "      <th>1</th>\n",
       "      <th>2</th>\n",
       "      <th>3</th>\n",
       "      <th>4</th>\n",
       "    </tr>\n",
       "  </thead>\n",
       "  <tbody>\n",
       "    <tr>\n",
       "      <th>0</th>\n",
       "      <td>0.300000</td>\n",
       "      <td>0.046643</td>\n",
       "      <td>0.739829</td>\n",
       "      <td>0.765904</td>\n",
       "      <td>0.386877</td>\n",
       "    </tr>\n",
       "    <tr>\n",
       "      <th>1</th>\n",
       "      <td>0.613352</td>\n",
       "      <td>0.277341</td>\n",
       "      <td>0.507807</td>\n",
       "      <td>0.449425</td>\n",
       "      <td>0.211555</td>\n",
       "    </tr>\n",
       "    <tr>\n",
       "      <th>2</th>\n",
       "      <td>0.755950</td>\n",
       "      <td>0.144889</td>\n",
       "      <td>0.202105</td>\n",
       "      <td>0.930993</td>\n",
       "      <td>0.032084</td>\n",
       "    </tr>\n",
       "    <tr>\n",
       "      <th>3</th>\n",
       "      <td>0.699839</td>\n",
       "      <td>0.244540</td>\n",
       "      <td>0.104933</td>\n",
       "      <td>0.783893</td>\n",
       "      <td>0.987417</td>\n",
       "    </tr>\n",
       "    <tr>\n",
       "      <th>4</th>\n",
       "      <td>0.085582</td>\n",
       "      <td>0.227220</td>\n",
       "      <td>0.739872</td>\n",
       "      <td>0.346571</td>\n",
       "      <td>0.705008</td>\n",
       "    </tr>\n",
       "  </tbody>\n",
       "</table>\n",
       "</div>"
      ],
      "text/plain": [
       "          0         1         2         3         4\n",
       "0  0.300000  0.046643  0.739829  0.765904  0.386877\n",
       "1  0.613352  0.277341  0.507807  0.449425  0.211555\n",
       "2  0.755950  0.144889  0.202105  0.930993  0.032084\n",
       "3  0.699839  0.244540  0.104933  0.783893  0.987417\n",
       "4  0.085582  0.227220  0.739872  0.346571  0.705008"
      ]
     },
     "execution_count": 72,
     "metadata": {},
     "output_type": "execute_result"
    }
   ],
   "source": [
    "newdf.head()"
   ]
  },
  {
   "cell_type": "code",
   "execution_count": 74,
   "id": "e5e82c27-ce6c-48f7-b4c3-d89a70717f26",
   "metadata": {},
   "outputs": [
    {
     "data": {
      "text/html": [
       "<div>\n",
       "<style scoped>\n",
       "    .dataframe tbody tr th:only-of-type {\n",
       "        vertical-align: middle;\n",
       "    }\n",
       "\n",
       "    .dataframe tbody tr th {\n",
       "        vertical-align: top;\n",
       "    }\n",
       "\n",
       "    .dataframe thead th {\n",
       "        text-align: right;\n",
       "    }\n",
       "</style>\n",
       "<table border=\"1\" class=\"dataframe\">\n",
       "  <thead>\n",
       "    <tr style=\"text-align: right;\">\n",
       "      <th></th>\n",
       "      <th>0</th>\n",
       "      <th>1</th>\n",
       "      <th>2</th>\n",
       "      <th>3</th>\n",
       "      <th>4</th>\n",
       "    </tr>\n",
       "  </thead>\n",
       "  <tbody>\n",
       "    <tr>\n",
       "      <th>333</th>\n",
       "      <td>0.728343</td>\n",
       "      <td>0.486378</td>\n",
       "      <td>0.925566</td>\n",
       "      <td>0.516754</td>\n",
       "      <td>0.361620</td>\n",
       "    </tr>\n",
       "    <tr>\n",
       "      <th>332</th>\n",
       "      <td>0.799315</td>\n",
       "      <td>0.854884</td>\n",
       "      <td>0.693122</td>\n",
       "      <td>0.241599</td>\n",
       "      <td>0.979033</td>\n",
       "    </tr>\n",
       "    <tr>\n",
       "      <th>331</th>\n",
       "      <td>0.582440</td>\n",
       "      <td>0.002877</td>\n",
       "      <td>0.753696</td>\n",
       "      <td>0.855897</td>\n",
       "      <td>0.421586</td>\n",
       "    </tr>\n",
       "    <tr>\n",
       "      <th>330</th>\n",
       "      <td>0.465246</td>\n",
       "      <td>0.473139</td>\n",
       "      <td>0.995121</td>\n",
       "      <td>0.200084</td>\n",
       "      <td>0.530208</td>\n",
       "    </tr>\n",
       "    <tr>\n",
       "      <th>329</th>\n",
       "      <td>0.493626</td>\n",
       "      <td>0.521339</td>\n",
       "      <td>0.627073</td>\n",
       "      <td>0.341322</td>\n",
       "      <td>0.101054</td>\n",
       "    </tr>\n",
       "    <tr>\n",
       "      <th>...</th>\n",
       "      <td>...</td>\n",
       "      <td>...</td>\n",
       "      <td>...</td>\n",
       "      <td>...</td>\n",
       "      <td>...</td>\n",
       "    </tr>\n",
       "    <tr>\n",
       "      <th>4</th>\n",
       "      <td>0.085582</td>\n",
       "      <td>0.227220</td>\n",
       "      <td>0.739872</td>\n",
       "      <td>0.346571</td>\n",
       "      <td>0.705008</td>\n",
       "    </tr>\n",
       "    <tr>\n",
       "      <th>3</th>\n",
       "      <td>0.699839</td>\n",
       "      <td>0.244540</td>\n",
       "      <td>0.104933</td>\n",
       "      <td>0.783893</td>\n",
       "      <td>0.987417</td>\n",
       "    </tr>\n",
       "    <tr>\n",
       "      <th>2</th>\n",
       "      <td>0.755950</td>\n",
       "      <td>0.144889</td>\n",
       "      <td>0.202105</td>\n",
       "      <td>0.930993</td>\n",
       "      <td>0.032084</td>\n",
       "    </tr>\n",
       "    <tr>\n",
       "      <th>1</th>\n",
       "      <td>0.613352</td>\n",
       "      <td>0.277341</td>\n",
       "      <td>0.507807</td>\n",
       "      <td>0.449425</td>\n",
       "      <td>0.211555</td>\n",
       "    </tr>\n",
       "    <tr>\n",
       "      <th>0</th>\n",
       "      <td>0.300000</td>\n",
       "      <td>0.046643</td>\n",
       "      <td>0.739829</td>\n",
       "      <td>0.765904</td>\n",
       "      <td>0.386877</td>\n",
       "    </tr>\n",
       "  </tbody>\n",
       "</table>\n",
       "<p>334 rows × 5 columns</p>\n",
       "</div>"
      ],
      "text/plain": [
       "            0         1         2         3         4\n",
       "333  0.728343  0.486378  0.925566  0.516754  0.361620\n",
       "332  0.799315  0.854884  0.693122  0.241599  0.979033\n",
       "331  0.582440  0.002877  0.753696  0.855897  0.421586\n",
       "330  0.465246  0.473139  0.995121  0.200084  0.530208\n",
       "329  0.493626  0.521339  0.627073  0.341322  0.101054\n",
       "..        ...       ...       ...       ...       ...\n",
       "4    0.085582  0.227220  0.739872  0.346571  0.705008\n",
       "3    0.699839  0.244540  0.104933  0.783893  0.987417\n",
       "2    0.755950  0.144889  0.202105  0.930993  0.032084\n",
       "1    0.613352  0.277341  0.507807  0.449425  0.211555\n",
       "0    0.300000  0.046643  0.739829  0.765904  0.386877\n",
       "\n",
       "[334 rows x 5 columns]"
      ]
     },
     "execution_count": 74,
     "metadata": {},
     "output_type": "execute_result"
    }
   ],
   "source": [
    "newdf.sort_index(axis=0, ascending=False)"
   ]
  },
  {
   "cell_type": "code",
   "execution_count": 76,
   "id": "e65690b1-1539-48d1-bbb7-1c00c84a8b9c",
   "metadata": {},
   "outputs": [
    {
     "data": {
      "text/html": [
       "<div>\n",
       "<style scoped>\n",
       "    .dataframe tbody tr th:only-of-type {\n",
       "        vertical-align: middle;\n",
       "    }\n",
       "\n",
       "    .dataframe tbody tr th {\n",
       "        vertical-align: top;\n",
       "    }\n",
       "\n",
       "    .dataframe thead th {\n",
       "        text-align: right;\n",
       "    }\n",
       "</style>\n",
       "<table border=\"1\" class=\"dataframe\">\n",
       "  <thead>\n",
       "    <tr style=\"text-align: right;\">\n",
       "      <th></th>\n",
       "      <th>4</th>\n",
       "      <th>3</th>\n",
       "      <th>2</th>\n",
       "      <th>1</th>\n",
       "      <th>0</th>\n",
       "    </tr>\n",
       "  </thead>\n",
       "  <tbody>\n",
       "    <tr>\n",
       "      <th>0</th>\n",
       "      <td>0.386877</td>\n",
       "      <td>0.765904</td>\n",
       "      <td>0.739829</td>\n",
       "      <td>0.046643</td>\n",
       "      <td>0.300000</td>\n",
       "    </tr>\n",
       "    <tr>\n",
       "      <th>1</th>\n",
       "      <td>0.211555</td>\n",
       "      <td>0.449425</td>\n",
       "      <td>0.507807</td>\n",
       "      <td>0.277341</td>\n",
       "      <td>0.613352</td>\n",
       "    </tr>\n",
       "    <tr>\n",
       "      <th>2</th>\n",
       "      <td>0.032084</td>\n",
       "      <td>0.930993</td>\n",
       "      <td>0.202105</td>\n",
       "      <td>0.144889</td>\n",
       "      <td>0.755950</td>\n",
       "    </tr>\n",
       "    <tr>\n",
       "      <th>3</th>\n",
       "      <td>0.987417</td>\n",
       "      <td>0.783893</td>\n",
       "      <td>0.104933</td>\n",
       "      <td>0.244540</td>\n",
       "      <td>0.699839</td>\n",
       "    </tr>\n",
       "    <tr>\n",
       "      <th>4</th>\n",
       "      <td>0.705008</td>\n",
       "      <td>0.346571</td>\n",
       "      <td>0.739872</td>\n",
       "      <td>0.227220</td>\n",
       "      <td>0.085582</td>\n",
       "    </tr>\n",
       "    <tr>\n",
       "      <th>...</th>\n",
       "      <td>...</td>\n",
       "      <td>...</td>\n",
       "      <td>...</td>\n",
       "      <td>...</td>\n",
       "      <td>...</td>\n",
       "    </tr>\n",
       "    <tr>\n",
       "      <th>329</th>\n",
       "      <td>0.101054</td>\n",
       "      <td>0.341322</td>\n",
       "      <td>0.627073</td>\n",
       "      <td>0.521339</td>\n",
       "      <td>0.493626</td>\n",
       "    </tr>\n",
       "    <tr>\n",
       "      <th>330</th>\n",
       "      <td>0.530208</td>\n",
       "      <td>0.200084</td>\n",
       "      <td>0.995121</td>\n",
       "      <td>0.473139</td>\n",
       "      <td>0.465246</td>\n",
       "    </tr>\n",
       "    <tr>\n",
       "      <th>331</th>\n",
       "      <td>0.421586</td>\n",
       "      <td>0.855897</td>\n",
       "      <td>0.753696</td>\n",
       "      <td>0.002877</td>\n",
       "      <td>0.582440</td>\n",
       "    </tr>\n",
       "    <tr>\n",
       "      <th>332</th>\n",
       "      <td>0.979033</td>\n",
       "      <td>0.241599</td>\n",
       "      <td>0.693122</td>\n",
       "      <td>0.854884</td>\n",
       "      <td>0.799315</td>\n",
       "    </tr>\n",
       "    <tr>\n",
       "      <th>333</th>\n",
       "      <td>0.361620</td>\n",
       "      <td>0.516754</td>\n",
       "      <td>0.925566</td>\n",
       "      <td>0.486378</td>\n",
       "      <td>0.728343</td>\n",
       "    </tr>\n",
       "  </tbody>\n",
       "</table>\n",
       "<p>334 rows × 5 columns</p>\n",
       "</div>"
      ],
      "text/plain": [
       "            4         3         2         1         0\n",
       "0    0.386877  0.765904  0.739829  0.046643  0.300000\n",
       "1    0.211555  0.449425  0.507807  0.277341  0.613352\n",
       "2    0.032084  0.930993  0.202105  0.144889  0.755950\n",
       "3    0.987417  0.783893  0.104933  0.244540  0.699839\n",
       "4    0.705008  0.346571  0.739872  0.227220  0.085582\n",
       "..        ...       ...       ...       ...       ...\n",
       "329  0.101054  0.341322  0.627073  0.521339  0.493626\n",
       "330  0.530208  0.200084  0.995121  0.473139  0.465246\n",
       "331  0.421586  0.855897  0.753696  0.002877  0.582440\n",
       "332  0.979033  0.241599  0.693122  0.854884  0.799315\n",
       "333  0.361620  0.516754  0.925566  0.486378  0.728343\n",
       "\n",
       "[334 rows x 5 columns]"
      ]
     },
     "execution_count": 76,
     "metadata": {},
     "output_type": "execute_result"
    }
   ],
   "source": [
    "newdf.sort_index(axis=1, ascending=False)"
   ]
  },
  {
   "cell_type": "code",
   "execution_count": 78,
   "id": "7cf6ef05-e493-420c-bdef-238120c956c3",
   "metadata": {},
   "outputs": [
    {
     "data": {
      "text/html": [
       "<div>\n",
       "<style scoped>\n",
       "    .dataframe tbody tr th:only-of-type {\n",
       "        vertical-align: middle;\n",
       "    }\n",
       "\n",
       "    .dataframe tbody tr th {\n",
       "        vertical-align: top;\n",
       "    }\n",
       "\n",
       "    .dataframe thead th {\n",
       "        text-align: right;\n",
       "    }\n",
       "</style>\n",
       "<table border=\"1\" class=\"dataframe\">\n",
       "  <thead>\n",
       "    <tr style=\"text-align: right;\">\n",
       "      <th></th>\n",
       "      <th>0</th>\n",
       "      <th>1</th>\n",
       "      <th>2</th>\n",
       "      <th>3</th>\n",
       "      <th>4</th>\n",
       "    </tr>\n",
       "  </thead>\n",
       "  <tbody>\n",
       "    <tr>\n",
       "      <th>0</th>\n",
       "      <td>0.300000</td>\n",
       "      <td>0.046643</td>\n",
       "      <td>0.739829</td>\n",
       "      <td>0.765904</td>\n",
       "      <td>0.386877</td>\n",
       "    </tr>\n",
       "    <tr>\n",
       "      <th>1</th>\n",
       "      <td>0.613352</td>\n",
       "      <td>0.277341</td>\n",
       "      <td>0.507807</td>\n",
       "      <td>0.449425</td>\n",
       "      <td>0.211555</td>\n",
       "    </tr>\n",
       "    <tr>\n",
       "      <th>2</th>\n",
       "      <td>0.755950</td>\n",
       "      <td>0.144889</td>\n",
       "      <td>0.202105</td>\n",
       "      <td>0.930993</td>\n",
       "      <td>0.032084</td>\n",
       "    </tr>\n",
       "    <tr>\n",
       "      <th>3</th>\n",
       "      <td>0.699839</td>\n",
       "      <td>0.244540</td>\n",
       "      <td>0.104933</td>\n",
       "      <td>0.783893</td>\n",
       "      <td>0.987417</td>\n",
       "    </tr>\n",
       "    <tr>\n",
       "      <th>4</th>\n",
       "      <td>0.085582</td>\n",
       "      <td>0.227220</td>\n",
       "      <td>0.739872</td>\n",
       "      <td>0.346571</td>\n",
       "      <td>0.705008</td>\n",
       "    </tr>\n",
       "    <tr>\n",
       "      <th>...</th>\n",
       "      <td>...</td>\n",
       "      <td>...</td>\n",
       "      <td>...</td>\n",
       "      <td>...</td>\n",
       "      <td>...</td>\n",
       "    </tr>\n",
       "    <tr>\n",
       "      <th>329</th>\n",
       "      <td>0.493626</td>\n",
       "      <td>0.521339</td>\n",
       "      <td>0.627073</td>\n",
       "      <td>0.341322</td>\n",
       "      <td>0.101054</td>\n",
       "    </tr>\n",
       "    <tr>\n",
       "      <th>330</th>\n",
       "      <td>0.465246</td>\n",
       "      <td>0.473139</td>\n",
       "      <td>0.995121</td>\n",
       "      <td>0.200084</td>\n",
       "      <td>0.530208</td>\n",
       "    </tr>\n",
       "    <tr>\n",
       "      <th>331</th>\n",
       "      <td>0.582440</td>\n",
       "      <td>0.002877</td>\n",
       "      <td>0.753696</td>\n",
       "      <td>0.855897</td>\n",
       "      <td>0.421586</td>\n",
       "    </tr>\n",
       "    <tr>\n",
       "      <th>332</th>\n",
       "      <td>0.799315</td>\n",
       "      <td>0.854884</td>\n",
       "      <td>0.693122</td>\n",
       "      <td>0.241599</td>\n",
       "      <td>0.979033</td>\n",
       "    </tr>\n",
       "    <tr>\n",
       "      <th>333</th>\n",
       "      <td>0.728343</td>\n",
       "      <td>0.486378</td>\n",
       "      <td>0.925566</td>\n",
       "      <td>0.516754</td>\n",
       "      <td>0.361620</td>\n",
       "    </tr>\n",
       "  </tbody>\n",
       "</table>\n",
       "<p>334 rows × 5 columns</p>\n",
       "</div>"
      ],
      "text/plain": [
       "            0         1         2         3         4\n",
       "0    0.300000  0.046643  0.739829  0.765904  0.386877\n",
       "1    0.613352  0.277341  0.507807  0.449425  0.211555\n",
       "2    0.755950  0.144889  0.202105  0.930993  0.032084\n",
       "3    0.699839  0.244540  0.104933  0.783893  0.987417\n",
       "4    0.085582  0.227220  0.739872  0.346571  0.705008\n",
       "..        ...       ...       ...       ...       ...\n",
       "329  0.493626  0.521339  0.627073  0.341322  0.101054\n",
       "330  0.465246  0.473139  0.995121  0.200084  0.530208\n",
       "331  0.582440  0.002877  0.753696  0.855897  0.421586\n",
       "332  0.799315  0.854884  0.693122  0.241599  0.979033\n",
       "333  0.728343  0.486378  0.925566  0.516754  0.361620\n",
       "\n",
       "[334 rows x 5 columns]"
      ]
     },
     "execution_count": 78,
     "metadata": {},
     "output_type": "execute_result"
    }
   ],
   "source": [
    "newdf.sort_index(axis=0)"
   ]
  },
  {
   "cell_type": "code",
   "execution_count": 86,
   "id": "b9c8bb02-78ea-40d9-8123-8d1e313a65de",
   "metadata": {},
   "outputs": [
    {
     "data": {
      "text/html": [
       "<div>\n",
       "<style scoped>\n",
       "    .dataframe tbody tr th:only-of-type {\n",
       "        vertical-align: middle;\n",
       "    }\n",
       "\n",
       "    .dataframe tbody tr th {\n",
       "        vertical-align: top;\n",
       "    }\n",
       "\n",
       "    .dataframe thead th {\n",
       "        text-align: right;\n",
       "    }\n",
       "</style>\n",
       "<table border=\"1\" class=\"dataframe\">\n",
       "  <thead>\n",
       "    <tr style=\"text-align: right;\">\n",
       "      <th></th>\n",
       "      <th>0</th>\n",
       "      <th>1</th>\n",
       "      <th>2</th>\n",
       "      <th>3</th>\n",
       "      <th>4</th>\n",
       "    </tr>\n",
       "  </thead>\n",
       "  <tbody>\n",
       "    <tr>\n",
       "      <th>0</th>\n",
       "      <td>0.300000</td>\n",
       "      <td>0.046643</td>\n",
       "      <td>0.739829</td>\n",
       "      <td>0.765904</td>\n",
       "      <td>0.386877</td>\n",
       "    </tr>\n",
       "    <tr>\n",
       "      <th>1</th>\n",
       "      <td>0.613352</td>\n",
       "      <td>0.277341</td>\n",
       "      <td>0.507807</td>\n",
       "      <td>0.449425</td>\n",
       "      <td>0.211555</td>\n",
       "    </tr>\n",
       "    <tr>\n",
       "      <th>2</th>\n",
       "      <td>0.755950</td>\n",
       "      <td>0.144889</td>\n",
       "      <td>0.202105</td>\n",
       "      <td>0.930993</td>\n",
       "      <td>0.032084</td>\n",
       "    </tr>\n",
       "    <tr>\n",
       "      <th>3</th>\n",
       "      <td>0.699839</td>\n",
       "      <td>0.244540</td>\n",
       "      <td>0.104933</td>\n",
       "      <td>0.783893</td>\n",
       "      <td>0.987417</td>\n",
       "    </tr>\n",
       "    <tr>\n",
       "      <th>4</th>\n",
       "      <td>0.085582</td>\n",
       "      <td>0.227220</td>\n",
       "      <td>0.739872</td>\n",
       "      <td>0.346571</td>\n",
       "      <td>0.705008</td>\n",
       "    </tr>\n",
       "  </tbody>\n",
       "</table>\n",
       "</div>"
      ],
      "text/plain": [
       "          0         1         2         3         4\n",
       "0  0.300000  0.046643  0.739829  0.765904  0.386877\n",
       "1  0.613352  0.277341  0.507807  0.449425  0.211555\n",
       "2  0.755950  0.144889  0.202105  0.930993  0.032084\n",
       "3  0.699839  0.244540  0.104933  0.783893  0.987417\n",
       "4  0.085582  0.227220  0.739872  0.346571  0.705008"
      ]
     },
     "execution_count": 86,
     "metadata": {},
     "output_type": "execute_result"
    }
   ],
   "source": [
    "newdf.head()"
   ]
  },
  {
   "cell_type": "code",
   "execution_count": 90,
   "id": "8d2a059f-c454-4738-aec1-4d273be14921",
   "metadata": {},
   "outputs": [
    {
     "data": {
      "text/plain": [
       "pandas.core.series.Series"
      ]
     },
     "execution_count": 90,
     "metadata": {},
     "output_type": "execute_result"
    }
   ],
   "source": [
    "type(newdf[0])"
   ]
  },
  {
   "cell_type": "code",
   "execution_count": 102,
   "id": "3200f76b-da4a-492a-b059-1ce806cc247d",
   "metadata": {},
   "outputs": [],
   "source": [
    "newdf2 = newdf.copy()"
   ]
  },
  {
   "cell_type": "code",
   "execution_count": 104,
   "id": "27339233-dbb2-405a-a1ad-1509b5962907",
   "metadata": {},
   "outputs": [
    {
     "name": "stderr",
     "output_type": "stream",
     "text": [
      "C:\\Users\\rahul\\AppData\\Local\\Temp\\ipykernel_20736\\2893607844.py:1: FutureWarning: ChainedAssignmentError: behaviour will change in pandas 3.0!\n",
      "You are setting values through chained assignment. Currently this works in certain cases, but when using Copy-on-Write (which will become the default behaviour in pandas 3.0) this will never work to update the original DataFrame or Series, because the intermediate object on which we are setting values will behave as a copy.\n",
      "A typical example is when you are setting values in a column of a DataFrame, like:\n",
      "\n",
      "df[\"col\"][row_indexer] = value\n",
      "\n",
      "Use `df.loc[row_indexer, \"col\"] = values` instead, to perform the assignment in a single step and ensure this keeps updating the original `df`.\n",
      "\n",
      "See the caveats in the documentation: https://pandas.pydata.org/pandas-docs/stable/user_guide/indexing.html#returning-a-view-versus-a-copy\n",
      "\n",
      "  newdf2[0][0] = 989395\n"
     ]
    }
   ],
   "source": [
    "newdf2[0][0] = 989395"
   ]
  },
  {
   "cell_type": "code",
   "execution_count": 108,
   "id": "0385fb83-6f7f-48b3-b26d-b7e34ab68a2c",
   "metadata": {},
   "outputs": [],
   "source": [
    "newdf.loc[0,0] = 654"
   ]
  },
  {
   "cell_type": "code",
   "execution_count": 112,
   "id": "baeb4868-34ff-4212-b894-f6b6cb79a816",
   "metadata": {},
   "outputs": [
    {
     "data": {
      "text/html": [
       "<div>\n",
       "<style scoped>\n",
       "    .dataframe tbody tr th:only-of-type {\n",
       "        vertical-align: middle;\n",
       "    }\n",
       "\n",
       "    .dataframe tbody tr th {\n",
       "        vertical-align: top;\n",
       "    }\n",
       "\n",
       "    .dataframe thead th {\n",
       "        text-align: right;\n",
       "    }\n",
       "</style>\n",
       "<table border=\"1\" class=\"dataframe\">\n",
       "  <thead>\n",
       "    <tr style=\"text-align: right;\">\n",
       "      <th></th>\n",
       "      <th>0</th>\n",
       "      <th>1</th>\n",
       "      <th>2</th>\n",
       "      <th>3</th>\n",
       "      <th>4</th>\n",
       "    </tr>\n",
       "  </thead>\n",
       "  <tbody>\n",
       "    <tr>\n",
       "      <th>0</th>\n",
       "      <td>654.000000</td>\n",
       "      <td>0.046643</td>\n",
       "      <td>0.739829</td>\n",
       "      <td>0.765904</td>\n",
       "      <td>0.386877</td>\n",
       "    </tr>\n",
       "    <tr>\n",
       "      <th>1</th>\n",
       "      <td>0.613352</td>\n",
       "      <td>0.277341</td>\n",
       "      <td>0.507807</td>\n",
       "      <td>0.449425</td>\n",
       "      <td>0.211555</td>\n",
       "    </tr>\n",
       "  </tbody>\n",
       "</table>\n",
       "</div>"
      ],
      "text/plain": [
       "            0         1         2         3         4\n",
       "0  654.000000  0.046643  0.739829  0.765904  0.386877\n",
       "1    0.613352  0.277341  0.507807  0.449425  0.211555"
      ]
     },
     "execution_count": 112,
     "metadata": {},
     "output_type": "execute_result"
    }
   ],
   "source": [
    "newdf.head(2)"
   ]
  },
  {
   "cell_type": "code",
   "execution_count": 122,
   "id": "9bc3cc1f-cd94-47a9-8e10-971ab6d6217d",
   "metadata": {},
   "outputs": [],
   "source": [
    "newdf.columns = list(\"ABCDE\")"
   ]
  },
  {
   "cell_type": "code",
   "execution_count": 124,
   "id": "4e5c77c1-7ecd-4777-82b7-bfe086f4cc88",
   "metadata": {},
   "outputs": [
    {
     "data": {
      "text/html": [
       "<div>\n",
       "<style scoped>\n",
       "    .dataframe tbody tr th:only-of-type {\n",
       "        vertical-align: middle;\n",
       "    }\n",
       "\n",
       "    .dataframe tbody tr th {\n",
       "        vertical-align: top;\n",
       "    }\n",
       "\n",
       "    .dataframe thead th {\n",
       "        text-align: right;\n",
       "    }\n",
       "</style>\n",
       "<table border=\"1\" class=\"dataframe\">\n",
       "  <thead>\n",
       "    <tr style=\"text-align: right;\">\n",
       "      <th></th>\n",
       "      <th>A</th>\n",
       "      <th>B</th>\n",
       "      <th>C</th>\n",
       "      <th>D</th>\n",
       "      <th>E</th>\n",
       "    </tr>\n",
       "  </thead>\n",
       "  <tbody>\n",
       "    <tr>\n",
       "      <th>0</th>\n",
       "      <td>654.000000</td>\n",
       "      <td>0.046643</td>\n",
       "      <td>0.739829</td>\n",
       "      <td>0.765904</td>\n",
       "      <td>0.386877</td>\n",
       "    </tr>\n",
       "    <tr>\n",
       "      <th>1</th>\n",
       "      <td>0.613352</td>\n",
       "      <td>0.277341</td>\n",
       "      <td>0.507807</td>\n",
       "      <td>0.449425</td>\n",
       "      <td>0.211555</td>\n",
       "    </tr>\n",
       "  </tbody>\n",
       "</table>\n",
       "</div>"
      ],
      "text/plain": [
       "            A         B         C         D         E\n",
       "0  654.000000  0.046643  0.739829  0.765904  0.386877\n",
       "1    0.613352  0.277341  0.507807  0.449425  0.211555"
      ]
     },
     "execution_count": 124,
     "metadata": {},
     "output_type": "execute_result"
    }
   ],
   "source": [
    "newdf.head(2)"
   ]
  },
  {
   "cell_type": "code",
   "execution_count": 126,
   "id": "65759984-e4c3-417d-b18e-48197d7c26e6",
   "metadata": {},
   "outputs": [],
   "source": [
    "newdf.loc[0,'A'] = 655546"
   ]
  },
  {
   "cell_type": "code",
   "execution_count": 130,
   "id": "5479aa32-b0ff-4cc7-b45c-929c537d0dcd",
   "metadata": {},
   "outputs": [
    {
     "data": {
      "text/html": [
       "<div>\n",
       "<style scoped>\n",
       "    .dataframe tbody tr th:only-of-type {\n",
       "        vertical-align: middle;\n",
       "    }\n",
       "\n",
       "    .dataframe tbody tr th {\n",
       "        vertical-align: top;\n",
       "    }\n",
       "\n",
       "    .dataframe thead th {\n",
       "        text-align: right;\n",
       "    }\n",
       "</style>\n",
       "<table border=\"1\" class=\"dataframe\">\n",
       "  <thead>\n",
       "    <tr style=\"text-align: right;\">\n",
       "      <th></th>\n",
       "      <th>A</th>\n",
       "      <th>B</th>\n",
       "      <th>C</th>\n",
       "      <th>D</th>\n",
       "      <th>E</th>\n",
       "    </tr>\n",
       "  </thead>\n",
       "  <tbody>\n",
       "    <tr>\n",
       "      <th>0</th>\n",
       "      <td>655546.000000</td>\n",
       "      <td>0.046643</td>\n",
       "      <td>0.739829</td>\n",
       "      <td>0.765904</td>\n",
       "      <td>0.386877</td>\n",
       "    </tr>\n",
       "    <tr>\n",
       "      <th>1</th>\n",
       "      <td>0.613352</td>\n",
       "      <td>0.277341</td>\n",
       "      <td>0.507807</td>\n",
       "      <td>0.449425</td>\n",
       "      <td>0.211555</td>\n",
       "    </tr>\n",
       "  </tbody>\n",
       "</table>\n",
       "</div>"
      ],
      "text/plain": [
       "               A         B         C         D         E\n",
       "0  655546.000000  0.046643  0.739829  0.765904  0.386877\n",
       "1       0.613352  0.277341  0.507807  0.449425  0.211555"
      ]
     },
     "execution_count": 130,
     "metadata": {},
     "output_type": "execute_result"
    }
   ],
   "source": [
    "newdf.head(2)"
   ]
  },
  {
   "cell_type": "code",
   "execution_count": 138,
   "id": "6505a193-90cc-4d05-88cd-588b59eec0ca",
   "metadata": {},
   "outputs": [
    {
     "data": {
      "text/html": [
       "<div>\n",
       "<style scoped>\n",
       "    .dataframe tbody tr th:only-of-type {\n",
       "        vertical-align: middle;\n",
       "    }\n",
       "\n",
       "    .dataframe tbody tr th {\n",
       "        vertical-align: top;\n",
       "    }\n",
       "\n",
       "    .dataframe thead th {\n",
       "        text-align: right;\n",
       "    }\n",
       "</style>\n",
       "<table border=\"1\" class=\"dataframe\">\n",
       "  <thead>\n",
       "    <tr style=\"text-align: right;\">\n",
       "      <th></th>\n",
       "      <th>C</th>\n",
       "      <th>D</th>\n",
       "    </tr>\n",
       "  </thead>\n",
       "  <tbody>\n",
       "    <tr>\n",
       "      <th>1</th>\n",
       "      <td>0.507807</td>\n",
       "      <td>0.449425</td>\n",
       "    </tr>\n",
       "    <tr>\n",
       "      <th>2</th>\n",
       "      <td>0.202105</td>\n",
       "      <td>0.930993</td>\n",
       "    </tr>\n",
       "  </tbody>\n",
       "</table>\n",
       "</div>"
      ],
      "text/plain": [
       "          C         D\n",
       "1  0.507807  0.449425\n",
       "2  0.202105  0.930993"
      ]
     },
     "execution_count": 138,
     "metadata": {},
     "output_type": "execute_result"
    }
   ],
   "source": [
    "newdf.loc[[1,2],['C','D']]"
   ]
  },
  {
   "cell_type": "code",
   "execution_count": 140,
   "id": "128989e7-bdd6-4b10-8e73-8d6ce0d208f4",
   "metadata": {},
   "outputs": [
    {
     "data": {
      "text/html": [
       "<div>\n",
       "<style scoped>\n",
       "    .dataframe tbody tr th:only-of-type {\n",
       "        vertical-align: middle;\n",
       "    }\n",
       "\n",
       "    .dataframe tbody tr th {\n",
       "        vertical-align: top;\n",
       "    }\n",
       "\n",
       "    .dataframe thead th {\n",
       "        text-align: right;\n",
       "    }\n",
       "</style>\n",
       "<table border=\"1\" class=\"dataframe\">\n",
       "  <thead>\n",
       "    <tr style=\"text-align: right;\">\n",
       "      <th></th>\n",
       "      <th>A</th>\n",
       "      <th>B</th>\n",
       "      <th>C</th>\n",
       "      <th>D</th>\n",
       "      <th>E</th>\n",
       "    </tr>\n",
       "  </thead>\n",
       "  <tbody>\n",
       "    <tr>\n",
       "      <th>1</th>\n",
       "      <td>0.613352</td>\n",
       "      <td>0.277341</td>\n",
       "      <td>0.507807</td>\n",
       "      <td>0.449425</td>\n",
       "      <td>0.211555</td>\n",
       "    </tr>\n",
       "    <tr>\n",
       "      <th>2</th>\n",
       "      <td>0.755950</td>\n",
       "      <td>0.144889</td>\n",
       "      <td>0.202105</td>\n",
       "      <td>0.930993</td>\n",
       "      <td>0.032084</td>\n",
       "    </tr>\n",
       "  </tbody>\n",
       "</table>\n",
       "</div>"
      ],
      "text/plain": [
       "          A         B         C         D         E\n",
       "1  0.613352  0.277341  0.507807  0.449425  0.211555\n",
       "2  0.755950  0.144889  0.202105  0.930993  0.032084"
      ]
     },
     "execution_count": 140,
     "metadata": {},
     "output_type": "execute_result"
    }
   ],
   "source": [
    "newdf.loc[[1,2],:]"
   ]
  },
  {
   "cell_type": "code",
   "execution_count": 148,
   "id": "0470b6d4-48a8-410a-883b-d34872af2537",
   "metadata": {},
   "outputs": [
    {
     "data": {
      "text/html": [
       "<div>\n",
       "<style scoped>\n",
       "    .dataframe tbody tr th:only-of-type {\n",
       "        vertical-align: middle;\n",
       "    }\n",
       "\n",
       "    .dataframe tbody tr th {\n",
       "        vertical-align: top;\n",
       "    }\n",
       "\n",
       "    .dataframe thead th {\n",
       "        text-align: right;\n",
       "    }\n",
       "</style>\n",
       "<table border=\"1\" class=\"dataframe\">\n",
       "  <thead>\n",
       "    <tr style=\"text-align: right;\">\n",
       "      <th></th>\n",
       "      <th>A</th>\n",
       "      <th>B</th>\n",
       "      <th>C</th>\n",
       "      <th>D</th>\n",
       "      <th>E</th>\n",
       "    </tr>\n",
       "  </thead>\n",
       "  <tbody>\n",
       "    <tr>\n",
       "      <th>4</th>\n",
       "      <td>0.085582</td>\n",
       "      <td>0.227220</td>\n",
       "      <td>0.739872</td>\n",
       "      <td>0.346571</td>\n",
       "      <td>0.705008</td>\n",
       "    </tr>\n",
       "    <tr>\n",
       "      <th>5</th>\n",
       "      <td>0.023831</td>\n",
       "      <td>0.825457</td>\n",
       "      <td>0.803244</td>\n",
       "      <td>0.232521</td>\n",
       "      <td>0.037042</td>\n",
       "    </tr>\n",
       "    <tr>\n",
       "      <th>21</th>\n",
       "      <td>0.282915</td>\n",
       "      <td>0.044871</td>\n",
       "      <td>0.652292</td>\n",
       "      <td>0.746639</td>\n",
       "      <td>0.641527</td>\n",
       "    </tr>\n",
       "    <tr>\n",
       "      <th>26</th>\n",
       "      <td>0.169668</td>\n",
       "      <td>0.312236</td>\n",
       "      <td>0.709988</td>\n",
       "      <td>0.917104</td>\n",
       "      <td>0.129687</td>\n",
       "    </tr>\n",
       "    <tr>\n",
       "      <th>33</th>\n",
       "      <td>0.086805</td>\n",
       "      <td>0.413223</td>\n",
       "      <td>0.805363</td>\n",
       "      <td>0.306236</td>\n",
       "      <td>0.489843</td>\n",
       "    </tr>\n",
       "    <tr>\n",
       "      <th>...</th>\n",
       "      <td>...</td>\n",
       "      <td>...</td>\n",
       "      <td>...</td>\n",
       "      <td>...</td>\n",
       "      <td>...</td>\n",
       "    </tr>\n",
       "    <tr>\n",
       "      <th>308</th>\n",
       "      <td>0.038727</td>\n",
       "      <td>0.982148</td>\n",
       "      <td>0.269861</td>\n",
       "      <td>0.037286</td>\n",
       "      <td>0.319411</td>\n",
       "    </tr>\n",
       "    <tr>\n",
       "      <th>319</th>\n",
       "      <td>0.184711</td>\n",
       "      <td>0.774780</td>\n",
       "      <td>0.173452</td>\n",
       "      <td>0.624225</td>\n",
       "      <td>0.649053</td>\n",
       "    </tr>\n",
       "    <tr>\n",
       "      <th>320</th>\n",
       "      <td>0.035583</td>\n",
       "      <td>0.619879</td>\n",
       "      <td>0.723287</td>\n",
       "      <td>0.099245</td>\n",
       "      <td>0.936658</td>\n",
       "    </tr>\n",
       "    <tr>\n",
       "      <th>325</th>\n",
       "      <td>0.110675</td>\n",
       "      <td>0.991540</td>\n",
       "      <td>0.613549</td>\n",
       "      <td>0.302511</td>\n",
       "      <td>0.108213</td>\n",
       "    </tr>\n",
       "    <tr>\n",
       "      <th>327</th>\n",
       "      <td>0.206062</td>\n",
       "      <td>0.824651</td>\n",
       "      <td>0.337271</td>\n",
       "      <td>0.530012</td>\n",
       "      <td>0.123196</td>\n",
       "    </tr>\n",
       "  </tbody>\n",
       "</table>\n",
       "<p>80 rows × 5 columns</p>\n",
       "</div>"
      ],
      "text/plain": [
       "            A         B         C         D         E\n",
       "4    0.085582  0.227220  0.739872  0.346571  0.705008\n",
       "5    0.023831  0.825457  0.803244  0.232521  0.037042\n",
       "21   0.282915  0.044871  0.652292  0.746639  0.641527\n",
       "26   0.169668  0.312236  0.709988  0.917104  0.129687\n",
       "33   0.086805  0.413223  0.805363  0.306236  0.489843\n",
       "..        ...       ...       ...       ...       ...\n",
       "308  0.038727  0.982148  0.269861  0.037286  0.319411\n",
       "319  0.184711  0.774780  0.173452  0.624225  0.649053\n",
       "320  0.035583  0.619879  0.723287  0.099245  0.936658\n",
       "325  0.110675  0.991540  0.613549  0.302511  0.108213\n",
       "327  0.206062  0.824651  0.337271  0.530012  0.123196\n",
       "\n",
       "[80 rows x 5 columns]"
      ]
     },
     "execution_count": 148,
     "metadata": {},
     "output_type": "execute_result"
    }
   ],
   "source": [
    "newdf.loc[(newdf['A']<0.3) & (newdf['C']>0.1)]"
   ]
  },
  {
   "cell_type": "code",
   "execution_count": null,
   "id": "aabdd636-9079-4eca-9e47-0509e0a2052b",
   "metadata": {},
   "outputs": [],
   "source": [
    "harry=pd.read_csv('rohit.csv')"
   ]
  },
  {
   "cell_type": "code",
   "execution_count": null,
   "id": "6cc068f8-c983-4f67-822d-dbc34e57bea3",
   "metadata": {},
   "outputs": [],
   "source": [
    "harry"
   ]
  },
  {
   "cell_type": "code",
   "execution_count": 1,
   "id": "c8618010-322b-4a3a-ad72-9e41e8544270",
   "metadata": {},
   "outputs": [],
   "source": [
    "import seaborn as sns"
   ]
  },
  {
   "cell_type": "code",
   "execution_count": 3,
   "id": "1045a671-99df-4930-a7a3-1806d0c8ba76",
   "metadata": {},
   "outputs": [],
   "source": [
    "df2 = sns.load_dataset(\"tips\")"
   ]
  },
  {
   "cell_type": "code",
   "execution_count": 5,
   "id": "296ea93e-58b4-42c1-9ef9-c802ee57d2b5",
   "metadata": {},
   "outputs": [
    {
     "data": {
      "text/html": [
       "<div>\n",
       "<style scoped>\n",
       "    .dataframe tbody tr th:only-of-type {\n",
       "        vertical-align: middle;\n",
       "    }\n",
       "\n",
       "    .dataframe tbody tr th {\n",
       "        vertical-align: top;\n",
       "    }\n",
       "\n",
       "    .dataframe thead th {\n",
       "        text-align: right;\n",
       "    }\n",
       "</style>\n",
       "<table border=\"1\" class=\"dataframe\">\n",
       "  <thead>\n",
       "    <tr style=\"text-align: right;\">\n",
       "      <th></th>\n",
       "      <th>total_bill</th>\n",
       "      <th>tip</th>\n",
       "      <th>sex</th>\n",
       "      <th>smoker</th>\n",
       "      <th>day</th>\n",
       "      <th>time</th>\n",
       "      <th>size</th>\n",
       "    </tr>\n",
       "  </thead>\n",
       "  <tbody>\n",
       "    <tr>\n",
       "      <th>0</th>\n",
       "      <td>16.99</td>\n",
       "      <td>1.01</td>\n",
       "      <td>Female</td>\n",
       "      <td>No</td>\n",
       "      <td>Sun</td>\n",
       "      <td>Dinner</td>\n",
       "      <td>2</td>\n",
       "    </tr>\n",
       "    <tr>\n",
       "      <th>1</th>\n",
       "      <td>10.34</td>\n",
       "      <td>1.66</td>\n",
       "      <td>Male</td>\n",
       "      <td>No</td>\n",
       "      <td>Sun</td>\n",
       "      <td>Dinner</td>\n",
       "      <td>3</td>\n",
       "    </tr>\n",
       "    <tr>\n",
       "      <th>2</th>\n",
       "      <td>21.01</td>\n",
       "      <td>3.50</td>\n",
       "      <td>Male</td>\n",
       "      <td>No</td>\n",
       "      <td>Sun</td>\n",
       "      <td>Dinner</td>\n",
       "      <td>3</td>\n",
       "    </tr>\n",
       "    <tr>\n",
       "      <th>3</th>\n",
       "      <td>23.68</td>\n",
       "      <td>3.31</td>\n",
       "      <td>Male</td>\n",
       "      <td>No</td>\n",
       "      <td>Sun</td>\n",
       "      <td>Dinner</td>\n",
       "      <td>2</td>\n",
       "    </tr>\n",
       "    <tr>\n",
       "      <th>4</th>\n",
       "      <td>24.59</td>\n",
       "      <td>3.61</td>\n",
       "      <td>Female</td>\n",
       "      <td>No</td>\n",
       "      <td>Sun</td>\n",
       "      <td>Dinner</td>\n",
       "      <td>4</td>\n",
       "    </tr>\n",
       "    <tr>\n",
       "      <th>...</th>\n",
       "      <td>...</td>\n",
       "      <td>...</td>\n",
       "      <td>...</td>\n",
       "      <td>...</td>\n",
       "      <td>...</td>\n",
       "      <td>...</td>\n",
       "      <td>...</td>\n",
       "    </tr>\n",
       "    <tr>\n",
       "      <th>239</th>\n",
       "      <td>29.03</td>\n",
       "      <td>5.92</td>\n",
       "      <td>Male</td>\n",
       "      <td>No</td>\n",
       "      <td>Sat</td>\n",
       "      <td>Dinner</td>\n",
       "      <td>3</td>\n",
       "    </tr>\n",
       "    <tr>\n",
       "      <th>240</th>\n",
       "      <td>27.18</td>\n",
       "      <td>2.00</td>\n",
       "      <td>Female</td>\n",
       "      <td>Yes</td>\n",
       "      <td>Sat</td>\n",
       "      <td>Dinner</td>\n",
       "      <td>2</td>\n",
       "    </tr>\n",
       "    <tr>\n",
       "      <th>241</th>\n",
       "      <td>22.67</td>\n",
       "      <td>2.00</td>\n",
       "      <td>Male</td>\n",
       "      <td>Yes</td>\n",
       "      <td>Sat</td>\n",
       "      <td>Dinner</td>\n",
       "      <td>2</td>\n",
       "    </tr>\n",
       "    <tr>\n",
       "      <th>242</th>\n",
       "      <td>17.82</td>\n",
       "      <td>1.75</td>\n",
       "      <td>Male</td>\n",
       "      <td>No</td>\n",
       "      <td>Sat</td>\n",
       "      <td>Dinner</td>\n",
       "      <td>2</td>\n",
       "    </tr>\n",
       "    <tr>\n",
       "      <th>243</th>\n",
       "      <td>18.78</td>\n",
       "      <td>3.00</td>\n",
       "      <td>Female</td>\n",
       "      <td>No</td>\n",
       "      <td>Thur</td>\n",
       "      <td>Dinner</td>\n",
       "      <td>2</td>\n",
       "    </tr>\n",
       "  </tbody>\n",
       "</table>\n",
       "<p>244 rows × 7 columns</p>\n",
       "</div>"
      ],
      "text/plain": [
       "     total_bill   tip     sex smoker   day    time  size\n",
       "0         16.99  1.01  Female     No   Sun  Dinner     2\n",
       "1         10.34  1.66    Male     No   Sun  Dinner     3\n",
       "2         21.01  3.50    Male     No   Sun  Dinner     3\n",
       "3         23.68  3.31    Male     No   Sun  Dinner     2\n",
       "4         24.59  3.61  Female     No   Sun  Dinner     4\n",
       "..          ...   ...     ...    ...   ...     ...   ...\n",
       "239       29.03  5.92    Male     No   Sat  Dinner     3\n",
       "240       27.18  2.00  Female    Yes   Sat  Dinner     2\n",
       "241       22.67  2.00    Male    Yes   Sat  Dinner     2\n",
       "242       17.82  1.75    Male     No   Sat  Dinner     2\n",
       "243       18.78  3.00  Female     No  Thur  Dinner     2\n",
       "\n",
       "[244 rows x 7 columns]"
      ]
     },
     "execution_count": 5,
     "metadata": {},
     "output_type": "execute_result"
    }
   ],
   "source": [
    "df2"
   ]
  },
  {
   "cell_type": "code",
   "execution_count": 7,
   "id": "3762fcb1-de87-4550-bdb6-c124f99c3ab3",
   "metadata": {},
   "outputs": [
    {
     "data": {
      "text/plain": [
       "<seaborn.axisgrid.FacetGrid at 0x22f13c3e090>"
      ]
     },
     "execution_count": 7,
     "metadata": {},
     "output_type": "execute_result"
    },
    {
     "data": {
      "image/png": "[encoded data removed]",
      "text/plain": [
       "<Figure size 600.25x500 with 1 Axes>"
      ]
     },
     "metadata": {},
     "output_type": "display_data"
    }
   ],
   "source": [
    "sns.relplot(x=\"total_bill\", y=\"tip\", data=df2, hue='day', style='sex')"
   ]
  },
  {
   "cell_type": "code",
   "execution_count": null,
   "id": "07dbe45b-75df-44dd-b345-1f10cec5d44f",
   "metadata": {},
   "outputs": [],
   "source": [
    "trains = "
   ]
  }
 ],
 "metadata": {
  "kernelspec": {
   "display_name": "Python [conda env:base] *",
   "language": "python",
   "name": "conda-base-py"
  },
  "language_info": {
   "codemirror_mode": {
    "name": "ipython",
    "version": 3
   },
   "file_extension": ".py",
   "mimetype": "text/x-python",
   "name": "python",
   "nbconvert_exporter": "python",
   "pygments_lexer": "ipython3",
   "version": "3.12.7"
  }
 },
 "nbformat": 4,
 "nbformat_minor": 5
}
