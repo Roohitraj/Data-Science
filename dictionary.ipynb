{
 "cells": [
  {
   "cell_type": "code",
   "execution_count": 11,
   "id": "9e0fa454-d935-4b20-a54c-2b61bcb8caa3",
   "metadata": {},
   "outputs": [
    {
     "name": "stdout",
     "output_type": "stream",
     "text": [
      "{'Name': 'Rohit', 'Age': 20, 'SEX': 'Male', 'Address': 'ABC COLONY USA'}\n",
      "student Details : Rohit and House Address: ABC COLONY USA\n",
      " dtls : Rohit and Agedtls: 20\n"
     ]
    }
   ],
   "source": [
    "student_info = {'Name' : 'Rohit','Age': 20, 'SEX': 'Male','Address':'ABC COLONY USA'}\n",
    "print(student_info)\n",
    "print(f'student Details : {student_info['Name']} and House Address: {student_info['Address']}')\n",
    "\n",
    "print(f' dtls : {student_info['Name']} and Agedtls: {student_info['Age']}')"
   ]
  },
  {
   "cell_type": "code",
   "execution_count": 15,
   "id": "fed40eef-f8f1-4592-a389-110eee24ac17",
   "metadata": {},
   "outputs": [
    {
     "name": "stdout",
     "output_type": "stream",
     "text": [
      "{'name': 'aakash', 'AGE': '30', 'Course': 'CS', 'GPA': 4.5}\n",
      "{'name': 'aakash', 'AGE': '30', 'Course': 'CS', 'GPA': 4.5, 'graduatation year': 2024}\n"
     ]
    }
   ],
   "source": [
    "stud_info = {'name' : 'aakash', 'AGE' : '30', 'Course' : 'CS', 'GPA':4.5}\n",
    "print(stud_info)\n",
    "stud_info.update({'graduatation year':2024})\n",
    "print(stud_info)"
   ]
  },
  {
   "cell_type": "code",
   "execution_count": 23,
   "id": "a1cab532-9beb-4a45-b7d5-29f81207dd16",
   "metadata": {},
   "outputs": [
    {
     "name": "stdout",
     "output_type": "stream",
     "text": [
      "{'name': 'aakash', 'AGE': '30', 'Course': 'CS', 'GPA': 4.5}\n",
      "{'name': 'aakash', 'AGE': '30', 'Course': 'CS', 'GPA': 4.5, 'EMI': 12345}\n"
     ]
    }
   ],
   "source": [
    "stud_info = {'name' : 'aakash', 'AGE' : '30', 'Course' : 'CS', 'GPA':4.5}\n",
    "print(stud_info)\n",
    "stud_info['EMI'] = 12345\n",
    "print(stud_info)"
   ]
  },
  {
   "cell_type": "code",
   "execution_count": 25,
   "id": "bf43aec4-e7b5-424e-ab5f-1bd8ce04c8fc",
   "metadata": {},
   "outputs": [
    {
     "name": "stdout",
     "output_type": "stream",
     "text": [
      "{'name': 'aakash', 'AGE': '30', 'Course': 'CS', 'GPA': 4.5}\n",
      "{'name': 'aakash', 'AGE': '30', 'Course': 'CS', 'GPA': 4.5, 'EMI': 892892}\n"
     ]
    }
   ],
   "source": [
    "stud_info = {'name' : 'aakash', 'AGE' : '30', 'Course' : 'CS', 'GPA':4.5}\n",
    "print(stud_info)\n",
    "stud_info['EMI'] = 892892\n",
    "print(stud_info)\n"
   ]
  },
  {
   "cell_type": "code",
   "execution_count": 35,
   "id": "af58fe22-a2e5-43ad-8d55-2c1ab25cd8e2",
   "metadata": {},
   "outputs": [
    {
     "name": "stdout",
     "output_type": "stream",
     "text": [
      "[1, 2, 3, 4]\n"
     ]
    }
   ],
   "source": [
    "my_dict = [1, 2, 3]\n",
    "my_dict.append(4)\n",
    "print(my_dict)"
   ]
  },
  {
   "cell_type": "code",
   "execution_count": 47,
   "id": "42eb9424-0d57-4bab-b1fe-c07a6b3f2657",
   "metadata": {},
   "outputs": [
    {
     "name": "stdout",
     "output_type": "stream",
     "text": [
      "{'a': 1, 'B': 2, 'c': 3, 'd': 4, 'e': 6, 'f': 8}\n"
     ]
    }
   ],
   "source": [
    "my_dict = {'a':1,'B':2,'c':3}\n",
    "myd2 = {'d':4,'e':6,'f':8}\n",
    "my_dict.update(myd2)\n",
    "print(my_dict)"
   ]
  },
  {
   "cell_type": "code",
   "execution_count": 51,
   "id": "833b2624-2c37-47d6-a4db-9b2b2bdde3bd",
   "metadata": {},
   "outputs": [
    {
     "name": "stdout",
     "output_type": "stream",
     "text": [
      "{'Apples': 10, 'Bananas': 5}\n"
     ]
    }
   ],
   "source": [
    "inventory={'Apples':10, 'Bananas':5, 'Oranges':8}\n",
    "inventory.pop('Oranges')\n",
    "print(inventory)"
   ]
  },
  {
   "cell_type": "code",
   "execution_count": 79,
   "id": "24101987-c035-447e-9748-9304458daa2a",
   "metadata": {},
   "outputs": [
    {
     "name": "stdout",
     "output_type": "stream",
     "text": [
      "avg marks = 257.0\n"
     ]
    }
   ],
   "source": [
    "score = {'Physics':60, 'Math' : 98, 'Chemistry':99}\n",
    "# print(score)\n",
    "# print(\"Keys\", score.keys())\n",
    "# print(\"Values\",score.values())\n",
    "# print(\"Items\", score.items())\n",
    "total = 0\n",
    "avg = 0\n",
    "l=len(score)\n",
    "for i in score.values():\n",
    "    total=total+i\n",
    "avg=total/1\n",
    "print(f'avg marks = {avg}')"
   ]
  },
  {
   "cell_type": "code",
   "execution_count": 83,
   "id": "19a7b8c6-633f-42ef-9940-21f0cf3afc07",
   "metadata": {},
   "outputs": [
    {
     "name": "stdout",
     "output_type": "stream",
     "text": [
      " Name of Employee : Bob \n",
      " Position : Developer\n",
      "{'emp1': {'name': 'Alice', 'age': 28, 'position': 'Manager'}, 'emp2': {'name': 'Bob', 'age': 25, 'position': 'Developer'}, 'emp3': {'name': 'Charlie', 'age': 30, 'position': 'Designer'}}\n"
     ]
    }
   ],
   "source": [
    "# Step 1 Create a nested dictionary called company with two employees:\n",
    "company={\t\"emp1\": {\"name\": \"Alice\", \"age\": 28, \"position\": \"Manager\"}, \"emp2\": {\"name\": \"Bob\", \"age\": 25, \"position\": \"Developer\"}}\n",
    "\n",
    "# Step 2 Print the name and position of emp2.\n",
    "print(f' Name of Employee : {company[\"emp2\"][\"name\"]} \\n Position : {company[\"emp2\"][\"position\"]}')\n",
    "company.update({\"emp3\":{\"name\": \"Charlie\", \"age\": 30, \"position\": \"Designer\"}})\n",
    "print(company)"
   ]
  },
  {
   "cell_type": "code",
   "execution_count": 95,
   "id": "74eec153-165e-4c5d-9e62-8929ea0fbd56",
   "metadata": {},
   "outputs": [
    {
     "name": "stdout",
     "output_type": "stream",
     "text": [
      " player1: score[i]\n",
      " player2: score[i]\n",
      " player3: score[i]\n",
      " Total Score Getting: 210\n"
     ]
    }
   ],
   "source": [
    "score = {'player1':60, 'player2':70, 'player3':80}\n",
    "total = 0\n",
    "for i in score:\n",
    "    print(f' {i}: score[i]')\n",
    "    total+=score[i]\n",
    "print(f' Total Score Getting: {total}')"
   ]
  },
  {
   "cell_type": "code",
   "execution_count": 101,
   "id": "2d4a142a-847c-4f7a-a00e-006882da20f9",
   "metadata": {},
   "outputs": [
    {
     "name": "stdout",
     "output_type": "stream",
     "text": [
      "{'Gaurav Bhai': 9433545, 'Raghav': 90899, 'Rohit': 88000}\n"
     ]
    }
   ],
   "source": [
    "names=[\"Gaurav Bhai\", \"Raghav\", \"Rohit\"]\n",
    "salary=[9433545, 90899, 88000]\n",
    "t = dict(zip(names,salary))\n",
    "print(t)"
   ]
  },
  {
   "cell_type": "code",
   "execution_count": 103,
   "id": "0c1cf5fc-fb1f-4815-b8b7-7e117bf562b7",
   "metadata": {},
   "outputs": [
    {
     "name": "stdin",
     "output_type": "stream",
     "text": [
      "enter a list space 2 4 67 8\n"
     ]
    },
    {
     "name": "stdout",
     "output_type": "stream",
     "text": [
      "['2', '4', '67', '8']\n"
     ]
    }
   ],
   "source": [
    "input_list = input(\"enter a list space\").split()\n",
    "print(input_list)\n",
    "freq = {}\n",
    "for i in input_list:\n",
    "    if item in freq:\n",
    "        freq[item]+1\n",
    "    else:\n",
    "        freq[item]=1\n",
    "print(freq)"
   ]
  },
  {
   "cell_type": "code",
   "execution_count": 119,
   "id": "4989004c-4970-4628-8717-8ca0e3866cc2",
   "metadata": {},
   "outputs": [
    {
     "name": "stdin",
     "output_type": "stream",
     "text": [
      "enter a list space 1 2 4 6 8   5             4\n"
     ]
    },
    {
     "name": "stdout",
     "output_type": "stream",
     "text": [
      "[2, 2, 2, 2, 2, 2]\n",
      "Expected Output is {'1': 2, '2': 2, '4': 2, '6': 2, '8': 2, '5': 2}\n"
     ]
    }
   ],
   "source": [
    "input_list = input(\"enter a list space\").split()\n",
    "sort_list=[]\n",
    "frequency=[]\n",
    "\n",
    "for i in input_list:\n",
    "    if i not in sort_list:\n",
    "        sort_list.append(i)\n",
    "# print(sort_list)\n",
    "for itm in sort_list:\n",
    "    oc=0\n",
    "    for j in input_list:\n",
    "        if i==j:\n",
    "            oc+=1;\n",
    "    frequency.append(oc)\n",
    "print(frequency)\n",
    "expected_output=dict(zip(sort_list, frequency))\n",
    "print(f'Expected Output is {expected_output}')  "
   ]
  },
  {
   "cell_type": "code",
   "execution_count": 125,
   "id": "05c06427-d271-4cfd-a984-4e4de4e31cda",
   "metadata": {},
   "outputs": [
    {
     "name": "stdin",
     "output_type": "stream",
     "text": [
      "Enter list with space :-  apple banana apple orange banana apple\n"
     ]
    },
    {
     "name": "stdout",
     "output_type": "stream",
     "text": [
      "[0, 0, 0, 0, 0, 0]\n",
      "{'apple': 3, 'banana': 2, 'orange': 1}\n"
     ]
    }
   ],
   "source": [
    "input_list=input(\"Enter list with space :- \").split()\n",
    "count=[0]*len(input_list)\n",
    "print(count)\n",
    "mydict = dict()\n",
    "for i in range(len(input_list)):\n",
    "    for j in range(len(input_list)):\n",
    "        if input_list[i]==input_list[j]:\n",
    "            count[i]+=1\n",
    "    mydict[input_list[i]]=count[i]\n",
    "print(mydict)"
   ]
  },
  {
   "cell_type": "code",
   "execution_count": 133,
   "id": "7bc9ed79-b0d8-4f4c-84be-4505bc2fdec9",
   "metadata": {},
   "outputs": [
    {
     "name": "stdout",
     "output_type": "stream",
     "text": [
      "{'Jane': 60000, 'Alice': 70000}\n",
      "70000\n"
     ]
    }
   ],
   "source": [
    "# step 1. Given a dictionary of employees and their salaries:\n",
    "salaries = {\"John\": 50000, \"Jane\": 60000, \"Doe\": 45000, \"Alice\": 70000, \"Bob\": 55000}\n",
    "\n",
    "# 2. Use dictionary comprehension to create a new dictionary high_salary that only includes employees earning more than 55000.\n",
    "high_salary=dict()\n",
    "\n",
    "for i in salaries:\n",
    "    if salaries[i]>55000:\n",
    "        high_salary[i]=salaries[i]\n",
    "print(high_salary)\n",
    "print(max(salaries.values()))"
   ]
  },
  {
   "cell_type": "code",
   "execution_count": 145,
   "id": "daac0f45-cbec-4d1f-8126-2f732eef0ca3",
   "metadata": {},
   "outputs": [
    {
     "name": "stdout",
     "output_type": "stream",
     "text": [
      "{'pencil': 10, 'rubber': 10, 'pen': 10}\n",
      "{'pencil': 10, 'rubber': 5, 'pen': 15}\n"
     ]
    }
   ],
   "source": [
    "product = {\"pen\",\"pencil\",\"rubber\"}\n",
    "inventory = dict.fromkeys(product,10)\n",
    "print(inventory)\n",
    "inventory[\"pen\"]=15\n",
    "inventory[\"rubber\"]=5\n",
    "print(inventory)\n"
   ]
  },
  {
   "cell_type": "code",
   "execution_count": 153,
   "id": "34ba1c49-92a8-4547-a6df-ff8918f78053",
   "metadata": {},
   "outputs": [
    {
     "name": "stdout",
     "output_type": "stream",
     "text": [
      "{'Bob': ('grape', 'purple')}\n"
     ]
    }
   ],
   "source": [
    "fruits = {\"apple\": \"red\", \"banana\": \"yellow\", \"grape\": \"purple\"}\n",
    "color_fruits={}\n",
    "for key in fruits.items():\n",
    "    color_fruits[i]=key\n",
    "    \n",
    "print(color_fruits)"
   ]
  },
  {
   "cell_type": "code",
   "execution_count": 2,
   "id": "d1ccc636-2dee-4b1a-acdb-5777f5db3197",
   "metadata": {},
   "outputs": [],
   "source": [
    "import pandas as pd;\n",
    "    "
   ]
  }
 ],
 "metadata": {
  "kernelspec": {
   "display_name": "Python [conda env:base] *",
   "language": "python",
   "name": "conda-base-py"
  },
  "language_info": {
   "codemirror_mode": {
    "name": "ipython",
    "version": 3
   },
   "file_extension": ".py",
   "mimetype": "text/x-python",
   "name": "python",
   "nbconvert_exporter": "python",
   "pygments_lexer": "ipython3",
   "version": "3.12.7"
  }
 },
 "nbformat": 4,
 "nbformat_minor": 5
}
