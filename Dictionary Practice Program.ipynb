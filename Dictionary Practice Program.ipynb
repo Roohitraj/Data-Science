{
 "cells": [
  {
   "cell_type": "code",
   "execution_count": 7,
   "id": "4b4c3064-6977-4840-a5cd-0e61fa477bba",
   "metadata": {},
   "outputs": [],
   "source": [
    "# Exercise 1: Creating and Accessing a Dictionary\n",
    "# 1.Create a dictionary named student_info with the following key-value pairs:\n",
    "#   o\tName: \"John Doe\"\n",
    "#   o\tAge: 20\n",
    "#   o\tCourse: \"Computer Science\"\n",
    "#   o\tGPA: 3.8\n",
    "# 2.Print the dictionary.\n",
    "# 3.Access and print the \"Name\" and \"GPA\" values."
   ]
  },
  {
   "cell_type": "code",
   "execution_count": 13,
   "id": "a1f9d8e0-aba5-4eaa-b524-e1989cc262cf",
   "metadata": {},
   "outputs": [
    {
     "name": "stdout",
     "output_type": "stream",
     "text": [
      "{'Name': 'John Doe', 'Age': 20, 'Course': 'Computer Science', 'GPA': 3.8}\n",
      "Student Name : John Doe and GPA : 3.8\n"
     ]
    }
   ],
   "source": [
    "student_info={'Name' : 'John Doe', 'Age' : 20, 'Course':'Computer Science', 'GPA':3.8}\n",
    "print(student_info)\n",
    "print(f'Student Name : {student_info['Name']} and GPA : {student_info['GPA']}')"
   ]
  },
  {
   "cell_type": "code",
   "execution_count": 14,
   "id": "4d040587-293e-4609-8171-4a9a223710f1",
   "metadata": {},
   "outputs": [],
   "source": [
    "# Exercise 2: Updating a Dictionary\n",
    "# 1.\tUsing the student_info dictionary from Exercise 1, update the \"Age\" to 21.\n",
    "# 2.\tAdd a new key-value pair: \"Graduation Year\" with the value 2024.\n",
    "# 3.\tPrint the updated dictionary."
   ]
  },
  {
   "cell_type": "code",
   "execution_count": 23,
   "id": "633eccc7-9bbd-4a99-bcb5-7fb17847d7bf",
   "metadata": {},
   "outputs": [
    {
     "name": "stdout",
     "output_type": "stream",
     "text": [
      "{'Name': 'John Doe', 'Age': 21, 'Course': 'Computer Science', 'GPA': 3.8, 'Graduation Year': 2024}\n"
     ]
    }
   ],
   "source": [
    "student_info={'Name' : 'John Doe', 'Age' : 20, 'Course':'Computer Science', 'GPA':3.8}\n",
    "student_info[\"Age\"]=21\n",
    "student_info.update({'Graduation Year':2024})\n",
    "print(student_info)"
   ]
  },
  {
   "cell_type": "code",
   "execution_count": 24,
   "id": "60b98584-826c-4833-b043-c075dca17c2f",
   "metadata": {},
   "outputs": [],
   "source": [
    "# Exercise 3: Removing Items from a Dictionary\n",
    "# 1.\tCreate a dictionary named inventory with the following items:\n",
    "#   o\t\"Apples\": 10\n",
    "#   o\t\"Bananas\": 5\n",
    "#   o\t\"Oranges\": 8\n",
    "# 2.\tRemove \"Bananas\" from the dictionary using the pop() method.\n",
    "# 3.\tPrint the dictionary after removing \"Bananas\"."
   ]
  },
  {
   "cell_type": "code",
   "execution_count": 36,
   "id": "fc667bbd-483d-4e63-8a62-56464b0a2661",
   "metadata": {},
   "outputs": [
    {
     "data": {
      "text/plain": [
       "{'Apples': 10, 'Oranges': 8}"
      ]
     },
     "execution_count": 36,
     "metadata": {},
     "output_type": "execute_result"
    }
   ],
   "source": [
    "inventory={'Apples':10, 'Bananas':5, 'Oranges':8}\n",
    "# del[inventory['Bananas']]\n",
    "inventory.pop('Bananas')\n",
    "inventory"
   ]
  },
  {
   "cell_type": "code",
   "execution_count": 10,
   "id": "b241521c-69c8-482c-81f7-3a91f29ece79",
   "metadata": {},
   "outputs": [
    {
     "name": "stdout",
     "output_type": "stream",
     "text": [
      "Keys: dict_keys(['Math', 'Science', 'English'])\n",
      "Values: dict_values([85, 90, 78])\n",
      "Items: dict_items([('Math', 85), ('Science', 90), ('English', 78)])\n",
      "Average Marks = 84.33333333333333\n"
     ]
    }
   ],
   "source": [
    "marks={'Math':85, 'Science':90, 'English':78}\n",
    "\n",
    "\n",
    "# Step 2: Use keys(), values(), and items() methods\n",
    "print(\"Keys:\", marks.keys())       # Display the subjects\n",
    "print(\"Values:\", marks.values())    # Display the scores\n",
    "print(\"Items:\", marks.items())      # Display key-value pairs\n",
    "\n",
    "# Step 3: Calculate the average of the marks\n",
    "total=0\n",
    "average=0\n",
    "l=len(marks)\n",
    "for i in marks.values():\n",
    "    total=total+i    \n",
    "average=total/l\n",
    "print(f'Average Marks = {average}')"
   ]
  },
  {
   "cell_type": "code",
   "execution_count": 62,
   "id": "64378ca2-6032-4d51-beff-dda13d8e29d8",
   "metadata": {},
   "outputs": [],
   "source": [
    "# # Exercise 5: Nested Dictionary\n",
    "# # 1.\tCreate a nested dictionary called company with two employees:\n",
    "# #   o\t\"emp1\": {\"name\": \"Alice\", \"age\": 28, \"position\": \"Manager\"}\n",
    "# #   o\t\"emp2\": {\"name\": \"Bob\", \"age\": 25, \"position\": \"Developer\"}\n",
    "##  2.\tPrint the name and position of emp2.\n",
    "# # 3.\tAdd a new employee \"emp3\" with details: {\"name\": \"Charlie\", \"age\": 30, \"position\": \"Designer\"}.\n",
    "# # 4.\tPrint the updated dictionary."
   ]
  },
  {
   "cell_type": "code",
   "execution_count": 11,
   "id": "2d940400-99b1-433e-bdaa-1cbe6abb6390",
   "metadata": {},
   "outputs": [
    {
     "name": "stdout",
     "output_type": "stream",
     "text": [
      " Name of Employee : Bob \n",
      " Position : Developer\n",
      "{'emp1': {'name': 'Alice', 'age': 28, 'position': 'Manager'}, 'emp2': {'name': 'Bob', 'age': 25, 'position': 'Developer'}, 'emp3': {'name': 'Charlie', 'age': 30, 'position': 'Designer'}}\n"
     ]
    }
   ],
   "source": [
    "# Step 1 Create a nested dictionary called company with two employees:\n",
    "company={\t\"emp1\": {\"name\": \"Alice\", \"age\": 28, \"position\": \"Manager\"}, \"emp2\": {\"name\": \"Bob\", \"age\": 25, \"position\": \"Developer\"}}\n",
    "\n",
    "# Step 2 Print the name and position of emp2.\n",
    "print(f' Name of Employee : {company[\"emp2\"][\"name\"]} \\n Position : {company[\"emp2\"][\"position\"]}')\n",
    "\n",
    "# stemp 3 Add a new employee \"emp3\" with details: {\"name\": \"Charlie\", \"age\": 30, \"position\": \"Designer\"}.\n",
    "company.update({\"emp3\":{\"name\": \"Charlie\", \"age\": 30, \"position\": \"Designer\"}})\n",
    "print(company)\n"
   ]
  },
  {
   "cell_type": "code",
   "execution_count": 72,
   "id": "9b8146f4-40a4-40c7-8fc8-0b349789ade1",
   "metadata": {},
   "outputs": [],
   "source": [
    "# Exercise 6: Looping Through a Dictionary\n",
    "# 1.\tCreate a dictionary scores with players and their scores:\n",
    "#     o\t\"player1\": 50\n",
    "#     o\t\"player2\": 80\n",
    "#     o\t\"player3\": 65\n",
    "# 2.\tUse a loop to print each player and their score.\n",
    "# 3.\tCalculate the total score of all players.\n"
   ]
  },
  {
   "cell_type": "code",
   "execution_count": 16,
   "id": "eb46a482-cabb-4280-8628-7f0dd8a3c032",
   "metadata": {},
   "outputs": [
    {
     "name": "stdout",
     "output_type": "stream",
     "text": [
      " Player 1 : 50\n",
      " Player 2 : 80\n",
      " Player 3 : 65\n",
      "Total Scores of All Players : 195\n"
     ]
    }
   ],
   "source": [
    "# Step 1. Create a dictionary scores with players and their scores:\n",
    "scores={'Player 1' : 50, 'Player 2' : 80, 'Player 3' : 65}\n",
    "total_score=0\n",
    "\n",
    "# Step 2. Use a loop to print each player and their score.\n",
    "for i in scores:\n",
    "    print(f' {i} : {scores[i]}')\n",
    "# step 3. Calculate the total score of all players.\n",
    "    total_score+=scores[i]\n",
    "print(f'Total Scores of All Players : {total_score}')    "
   ]
  },
  {
   "cell_type": "code",
   "execution_count": 84,
   "id": "25cdce1c-be8a-4919-ae13-0d086a8cc268",
   "metadata": {},
   "outputs": [],
   "source": [
    "# Exercise 7: Dictionary from Two Lists\n",
    "# 1.\tYou have two lists:\n",
    "#       names = [\"Alice\", \"Bob\", \"Charlie\"]\n",
    "#       scores = [85, 90, 88]\n",
    "# 2.\tCreate a dictionary where names are keys and scores are values.\n",
    "# 3.\tPrint the resulting dictionary."
   ]
  },
  {
   "cell_type": "code",
   "execution_count": 18,
   "id": "1e9af056-92eb-4108-ad0b-13f1f861d4d3",
   "metadata": {},
   "outputs": [
    {
     "name": "stdout",
     "output_type": "stream",
     "text": [
      "Resulting Dictionary {'Alice': 85, 'Bob': 90, 'Charlie': 88}\n"
     ]
    }
   ],
   "source": [
    "names=[\"Alice\", \"Bob\", \"Charlie\"]\n",
    "scores=[85, 90, 88]\n",
    "name_score_dict = dict(zip(names, scores))\n",
    "print(\"Resultin\n",
    "\n",
    "      g Dictionary\", name_score_dict)"
   ]
  },
  {
   "cell_type": "code",
   "execution_count": 90,
   "id": "59f4ae3e-f525-4784-86ee-1d88539994b0",
   "metadata": {},
   "outputs": [],
   "source": [
    "# Exercise 8: Frequency Count Using Dictionary\n",
    "# 1.   Write a Python program that takes a list of items and counts the frequency of each item using a dictionary.\n",
    "#      o\tExample input: [\"apple\", \"banana\", \"apple\", \"orange\", \"banana\", \"apple\"]\n",
    "#      o\tExpected output: {'apple': 3, 'banana': 2, 'orange': 1}"
   ]
  },
  {
   "cell_type": "code",
   "execution_count": 1,
   "id": "ead026b8-0d2f-46e4-95b6-984620814921",
   "metadata": {},
   "outputs": [
    {
     "name": "stdin",
     "output_type": "stream",
     "text": [
      "Enter list with space :-  3 4 6 7\n"
     ]
    },
    {
     "name": "stdout",
     "output_type": "stream",
     "text": [
      "{'3': 1, '4': 1, '6': 1, '7': 1}\n"
     ]
    }
   ],
   "source": [
    "input_list=input(\"Enter list with space :- \").split()\n",
    "frequency={}\n",
    "for item in input_list:\n",
    "    if item in frequency:\n",
    "        frequency[item]+=1       \n",
    "    else:\n",
    "        frequency[item]=1       \n",
    "print(frequency)       "
   ]
  },
  {
   "cell_type": "code",
   "execution_count": 3,
   "id": "3eda9a39-43bb-4bc8-b1a8-fda0925ad1a3",
   "metadata": {},
   "outputs": [
    {
     "name": "stdin",
     "output_type": "stream",
     "text": [
      "Enter list with space :-  67 8 8 4 5 7 \n"
     ]
    },
    {
     "name": "stdout",
     "output_type": "stream",
     "text": [
      "['67', '8', '8', '4', '5', '7']\n",
      "['67', '8', '4', '5', '7']\n",
      "Expected Output is {'67': 1, '8': 2, '4': 1, '5': 1, '7': 1}\n"
     ]
    }
   ],
   "source": [
    "input_list=input(\"Enter list with space :- \").split()\n",
    "print(input_list)\n",
    "oc=0\n",
    "frequency=[]\n",
    "sort_list=[]\n",
    "for item in input_list:\n",
    "    if item not in sort_list:\n",
    "        sort_list.append(item)\n",
    "print(sort_list)\n",
    "for i in sort_list:\n",
    "    oc=0\n",
    "    for j in input_list:\n",
    "        if i==j:\n",
    "            oc+=1\n",
    "    frequency.append(oc)        \n",
    "expected_output=dict(zip(sort_list, frequency))\n",
    "print(f'Expected Output is {expected_output}')        "
   ]
  },
  {
   "cell_type": "code",
   "execution_count": 9,
   "id": "d35729b2-9fed-413e-94ff-901779352e55",
   "metadata": {},
   "outputs": [
    {
     "name": "stdin",
     "output_type": "stream",
     "text": [
      "Enter list with space :-  apple banana apple orange banana apple\n"
     ]
    },
    {
     "name": "stdout",
     "output_type": "stream",
     "text": [
      "[0, 0, 0, 0, 0, 0]\n",
      "{'apple': 3, 'banana': 2, 'orange': 1}\n"
     ]
    }
   ],
   "source": [
    "input_list=input(\"Enter list with space :- \").split()\n",
    "input_list1=input_list\n",
    "count=[0]*len(input_list1)\n",
    "##print(count)\n",
    "mydict5=dict()\n",
    "for i in range(len(input_list1)):\n",
    "    for j in range(len(input_list)):\n",
    "        if input_list[i]==input_list[j]:\n",
    "            count[i]+=1\n",
    "    mydict5[input_list1[i]]=count[i]\n",
    "print(mydict5)"
   ]
  },
  {
   "cell_type": "code",
   "execution_count": 10,
   "id": "fbb46daf-6905-47f2-a38c-3bea6ca7c4e2",
   "metadata": {},
   "outputs": [],
   "source": [
    "# Exercise 11: Filtering a Dictionary\n",
    "#  1.\tGiven a dictionary of employees and their salaries:\n",
    "#       salaries = {\"John\": 50000, \"Jane\": 60000, \"Doe\": 45000, \"Alice\": 70000, \"Bob\": 55000}\n",
    "# 2.\tUse dictionary comprehension to create a new dictionary high_salary that only includes employees earning more than 55000.\n",
    "# 3.\tPrint the high_salary dictionary."
   ]
  },
  {
   "cell_type": "code",
   "execution_count": 6,
   "id": "9ea6ccde-2109-4f7d-a439-2b8ffd7ecb73",
   "metadata": {},
   "outputs": [
    {
     "name": "stdout",
     "output_type": "stream",
     "text": [
      "{'Jane': 60000, 'Alice': 70000}\n",
      "70000\n"
     ]
    }
   ],
   "source": [
    "# step 1. Given a dictionary of employees and their salaries:\n",
    "salaries = {\"John\": 50000, \"Jane\": 60000, \"Doe\": 45000, \"Alice\": 70000, \"Bob\": 55000}\n",
    "\n",
    "# 2. Use dictionary comprehension to create a new dictionary high_salary that only includes employees earning more than 55000.\n",
    "high_salary=dict()\n",
    "for i in salaries:\n",
    "    if salaries[i]>55000:        \n",
    "        high_salary[i]=salaries[i]        \n",
    "print(high_salary)\n",
    "\n",
    "# step 3. Print the high_salary dictionary.\n",
    "print(max(salaries.values()))"
   ]
  },
  {
   "cell_type": "code",
   "execution_count": null,
   "id": "3cb4899b-f9f0-4cab-b34a-24da3fd98a43",
   "metadata": {},
   "outputs": [],
   "source": [
    "Exercise 12: Dictionary with Default Values\n",
    "1.\tUse fromkeys() to create a dictionary inventory with items as keys (\"pen\", \"pencil\", \"notebook\") and a default stock value of 10.\n",
    "2.\tPrint the dictionary.\n",
    "3.\tUpdate the stock for \"pen\" to 15 and \"notebook\" to 5, and then print the updated dictionary.\n"
   ]
  },
  {
   "cell_type": "code",
   "execution_count": 19,
   "id": "a8ed71b8-6e7f-4486-a99c-05df7f6129f2",
   "metadata": {},
   "outputs": [
    {
     "name": "stdout",
     "output_type": "stream",
     "text": [
      "{'notebook': 10, 'pencil': 10, 'pen': 10}\n",
      "{'notebook': 5, 'pencil': 10, 'pen': 15}\n"
     ]
    }
   ],
   "source": [
    "# Step 1. Use fromkeys() to create a dictionary inventory with items as keys (\"pen\", \"pencil\", \"notebook\") and a default stock value of 10.\n",
    "item={\"pen\", \"pencil\", \"notebook\"}\n",
    "inventory=dict.fromkeys(item, 10)\n",
    "\n",
    "# step 2. Print the dictionary.\n",
    "print(inventory)\n",
    "\n",
    "# 3. Update the stock for \"pen\" to 15 and \"notebook\" to 5, and then print the updated dictionary.\n",
    "inventory[\"pen\"]=15\n",
    "inventory[\"notebook\"]=5\n",
    "print(inventory)"
   ]
  },
  {
   "cell_type": "code",
   "execution_count": 20,
   "id": "319e4ca1-a1f5-4896-97d6-8158dd0e59b3",
   "metadata": {},
   "outputs": [],
   "source": [
    "# Exercise 13: Swapping Keys and Values\n",
    "#   1.\tGiven a dictionary of fruits with items and their colors:\n",
    "#       fruits = {\"apple\": \"red\", \"banana\": \"yellow\", \"grape\": \"purple\"}\n",
    "#   2.\tCreate a new dictionary color_fruits that swaps the keys and values of fruits, so colors are the keys, and fruit names are the values.\n",
    "#   3.\tPrint the new dictionary."
   ]
  },
  {
   "cell_type": "code",
   "execution_count": 50,
   "id": "e10724d7-9f86-4dcc-8aff-600895f08f01",
   "metadata": {},
   "outputs": [
    {
     "name": "stdout",
     "output_type": "stream",
     "text": [
      "{'red': 'apple', 'yellow': 'banana', 'purple': 'grape'}\n"
     ]
    }
   ],
   "source": [
    "#  Step 1. Given a dictionary of fruits with items and their colors:\n",
    "fruits = {\"apple\": \"red\", \"banana\": \"yellow\", \"grape\": \"purple\"}\n",
    "\n",
    "#  Step 2.Create a new dictionary color_fruits that swaps the keys and values of fruits, so colors are the keys, and fruit names are the values\n",
    "colour_fruits={}\n",
    "for key, i in fruits.items():\n",
    "    colour_fruits[i]=key\n",
    "\n",
    "# Step 3. Print the new dictionary.\n",
    "print(colour_fruits)    "
   ]
  },
  {
   "cell_type": "code",
   "execution_count": 51,
   "id": "295d004e-1602-4cb6-9530-e282d7e974e8",
   "metadata": {},
   "outputs": [],
   "source": [
    "# Exercise 14: Counting Characters in a String\n",
    "# 1. Write a Python program that takes a string and counts the frequency of each character using a dictionary.\n",
    "#   o\tExample input: \"hello world\"\n",
    "#   o\tExpected output: {'h': 1, 'e': 1, 'l': 3, 'o': 2, ' ': 1, 'w': 1, 'r': 1, 'd': 1}"
   ]
  },
  {
   "cell_type": "code",
   "execution_count": 53,
   "id": "e79c23c5-a275-4b1b-96c6-d7ce2d4ad42d",
   "metadata": {},
   "outputs": [
    {
     "name": "stdin",
     "output_type": "stream",
     "text": [
      "Enter a string to compress:  hello world\n"
     ]
    },
    {
     "name": "stdout",
     "output_type": "stream",
     "text": [
      "Compressed string: h1e1l2o1 1w1o1r1l1d1\n"
     ]
    }
   ],
   "source": [
    "# Input from the user\n",
    "text = input(\"Enter a string to compress: \")\n",
    "\n",
    "# Initialize variables\n",
    "compressed_text = \"\"\n",
    "count = 1\n",
    "\n",
    "# Loop through the string\n",
    "for i in range(1, len(text)):\n",
    "    if text[i] == text[i - 1]:\n",
    "        count += 1  # Increment count if the current character is the same as the previous one        \n",
    "    else:        \n",
    "        # Append the character and its count to the compressed text    \n",
    "        compressed_text += text[i - 1] + str(count)\n",
    "        count= 1  # Reset count for the new character\n",
    "\n",
    "# Append the last character and its count\n",
    "if text:\n",
    "    compressed_text += text[-1] + str(count)\n",
    "\n",
    "# Output the compressed string\n",
    "print(\"Compressed string:\", compressed_text)\n"
   ]
  },
  {
   "cell_type": "code",
   "execution_count": null,
   "id": "e5318f26-0fde-483d-843f-c1a4fd46fd2e",
   "metadata": {},
   "outputs": [],
   "source": []
  }
 ],
 "metadata": {
  "kernelspec": {
   "display_name": "Python [conda env:base] *",
   "language": "python",
   "name": "conda-base-py"
  },
  "language_info": {
   "codemirror_mode": {
    "name": "ipython",
    "version": 3
   },
   "file_extension": ".py",
   "mimetype": "text/x-python",
   "name": "python",
   "nbconvert_exporter": "python",
   "pygments_lexer": "ipython3",
   "version": "3.12.7"
  }
 },
 "nbformat": 4,
 "nbformat_minor": 5
}
